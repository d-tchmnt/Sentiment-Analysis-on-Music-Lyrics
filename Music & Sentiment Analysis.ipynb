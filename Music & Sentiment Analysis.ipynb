{
 "cells": [
  {
   "cell_type": "code",
   "execution_count": 1,
   "metadata": {},
   "outputs": [
    {
     "name": "stderr",
     "output_type": "stream",
     "text": [
      "[nltk_data] Downloading package punkt to\n",
      "[nltk_data]     C:\\Users\\dtchmnt\\AppData\\Roaming\\nltk_data...\n",
      "[nltk_data]   Package punkt is already up-to-date!\n",
      "[nltk_data] Downloading package stopwords to\n",
      "[nltk_data]     C:\\Users\\dtchmnt\\AppData\\Roaming\\nltk_data...\n",
      "[nltk_data]   Package stopwords is already up-to-date!\n",
      "[nltk_data] Downloading package averaged_perceptron_tagger to\n",
      "[nltk_data]     C:\\Users\\dtchmnt\\AppData\\Roaming\\nltk_data...\n",
      "[nltk_data]   Package averaged_perceptron_tagger is already up-to-\n",
      "[nltk_data]       date!\n",
      "[nltk_data] Downloading package wordnet to\n",
      "[nltk_data]     C:\\Users\\dtchmnt\\AppData\\Roaming\\nltk_data...\n",
      "[nltk_data]   Package wordnet is already up-to-date!\n",
      "[nltk_data] Downloading package sentiwordnet to\n",
      "[nltk_data]     C:\\Users\\dtchmnt\\AppData\\Roaming\\nltk_data...\n",
      "[nltk_data]   Package sentiwordnet is already up-to-date!\n",
      "[nltk_data] Downloading package vader_lexicon to\n",
      "[nltk_data]     C:\\Users\\dtchmnt\\AppData\\Roaming\\nltk_data...\n",
      "[nltk_data]   Package vader_lexicon is already up-to-date!\n"
     ]
    },
    {
     "data": {
      "text/plain": [
       "True"
      ]
     },
     "execution_count": 1,
     "metadata": {},
     "output_type": "execute_result"
    }
   ],
   "source": [
    "%load ImportsDefinitions.py"
   ]
  },
  {
   "cell_type": "code",
   "execution_count": 2,
   "metadata": {},
   "outputs": [],
   "source": [
    "#φορτώνουμε τα σετ δεδομένων\n",
    "path1='design_matrix.csv'\n",
    "path2='mean_emotion_ratings.csv'\n",
    "data_input= pd.read_csv(path1)\n",
    "data_class= pd.read_csv(path2)\n"
   ]
  },
  {
   "cell_type": "code",
   "execution_count": 3,
   "metadata": {},
   "outputs": [
    {
     "data": {
      "text/html": [
       "<div>\n",
       "<style scoped>\n",
       "    .dataframe tbody tr th:only-of-type {\n",
       "        vertical-align: middle;\n",
       "    }\n",
       "\n",
       "    .dataframe tbody tr th {\n",
       "        vertical-align: top;\n",
       "    }\n",
       "\n",
       "    .dataframe thead th {\n",
       "        text-align: right;\n",
       "    }\n",
       "</style>\n",
       "<table border=\"1\" class=\"dataframe\">\n",
       "  <thead>\n",
       "    <tr style=\"text-align: right;\">\n",
       "      <th></th>\n",
       "      <th>Nro</th>\n",
       "      <th>Register</th>\n",
       "      <th>Mode</th>\n",
       "      <th>Tempo</th>\n",
       "      <th>Soundlevel</th>\n",
       "      <th>Articulation</th>\n",
       "      <th>Timbre</th>\n",
       "      <th>Melody</th>\n",
       "    </tr>\n",
       "  </thead>\n",
       "  <tbody>\n",
       "    <tr>\n",
       "      <th>0</th>\n",
       "      <td>1</td>\n",
       "      <td>4</td>\n",
       "      <td>1</td>\n",
       "      <td>4</td>\n",
       "      <td>4</td>\n",
       "      <td>2</td>\n",
       "      <td>2</td>\n",
       "      <td>4</td>\n",
       "    </tr>\n",
       "    <tr>\n",
       "      <th>1</th>\n",
       "      <td>2</td>\n",
       "      <td>5</td>\n",
       "      <td>1</td>\n",
       "      <td>4</td>\n",
       "      <td>1</td>\n",
       "      <td>1</td>\n",
       "      <td>2</td>\n",
       "      <td>2</td>\n",
       "    </tr>\n",
       "    <tr>\n",
       "      <th>2</th>\n",
       "      <td>3</td>\n",
       "      <td>2</td>\n",
       "      <td>2</td>\n",
       "      <td>5</td>\n",
       "      <td>1</td>\n",
       "      <td>1</td>\n",
       "      <td>2</td>\n",
       "      <td>1</td>\n",
       "    </tr>\n",
       "    <tr>\n",
       "      <th>3</th>\n",
       "      <td>4</td>\n",
       "      <td>1</td>\n",
       "      <td>1</td>\n",
       "      <td>5</td>\n",
       "      <td>4</td>\n",
       "      <td>4</td>\n",
       "      <td>1</td>\n",
       "      <td>2</td>\n",
       "    </tr>\n",
       "    <tr>\n",
       "      <th>4</th>\n",
       "      <td>5</td>\n",
       "      <td>3</td>\n",
       "      <td>2</td>\n",
       "      <td>1</td>\n",
       "      <td>3</td>\n",
       "      <td>2</td>\n",
       "      <td>2</td>\n",
       "      <td>1</td>\n",
       "    </tr>\n",
       "  </tbody>\n",
       "</table>\n",
       "</div>"
      ],
      "text/plain": [
       "   Nro  Register  Mode  Tempo  Soundlevel  Articulation  Timbre  Melody\n",
       "0    1         4     1      4           4             2       2       4\n",
       "1    2         5     1      4           1             1       2       2\n",
       "2    3         2     2      5           1             1       2       1\n",
       "3    4         1     1      5           4             4       1       2\n",
       "4    5         3     2      1           3             2       2       1"
      ]
     },
     "execution_count": 3,
     "metadata": {},
     "output_type": "execute_result"
    }
   ],
   "source": [
    "data_input.head(5)"
   ]
  },
  {
   "cell_type": "code",
   "execution_count": 4,
   "metadata": {},
   "outputs": [
    {
     "data": {
      "text/html": [
       "<div>\n",
       "<style scoped>\n",
       "    .dataframe tbody tr th:only-of-type {\n",
       "        vertical-align: middle;\n",
       "    }\n",
       "\n",
       "    .dataframe tbody tr th {\n",
       "        vertical-align: top;\n",
       "    }\n",
       "\n",
       "    .dataframe thead th {\n",
       "        text-align: right;\n",
       "    }\n",
       "</style>\n",
       "<table border=\"1\" class=\"dataframe\">\n",
       "  <thead>\n",
       "    <tr style=\"text-align: right;\">\n",
       "      <th></th>\n",
       "      <th>Nro</th>\n",
       "      <th>Scary</th>\n",
       "      <th>Happy</th>\n",
       "      <th>Sad</th>\n",
       "      <th>Peaceful</th>\n",
       "    </tr>\n",
       "  </thead>\n",
       "  <tbody>\n",
       "    <tr>\n",
       "      <th>0</th>\n",
       "      <td>1</td>\n",
       "      <td>1.2889</td>\n",
       "      <td>4.4667</td>\n",
       "      <td>1.7111</td>\n",
       "      <td>3.1333</td>\n",
       "    </tr>\n",
       "    <tr>\n",
       "      <th>1</th>\n",
       "      <td>2</td>\n",
       "      <td>1.0667</td>\n",
       "      <td>5.4444</td>\n",
       "      <td>1.4889</td>\n",
       "      <td>4.4889</td>\n",
       "    </tr>\n",
       "    <tr>\n",
       "      <th>2</th>\n",
       "      <td>3</td>\n",
       "      <td>2.0222</td>\n",
       "      <td>1.4889</td>\n",
       "      <td>3.7778</td>\n",
       "      <td>2.7111</td>\n",
       "    </tr>\n",
       "    <tr>\n",
       "      <th>3</th>\n",
       "      <td>4</td>\n",
       "      <td>2.2889</td>\n",
       "      <td>4.1111</td>\n",
       "      <td>1.2667</td>\n",
       "      <td>1.4889</td>\n",
       "    </tr>\n",
       "    <tr>\n",
       "      <th>4</th>\n",
       "      <td>5</td>\n",
       "      <td>1.4000</td>\n",
       "      <td>1.4667</td>\n",
       "      <td>5.0444</td>\n",
       "      <td>3.8444</td>\n",
       "    </tr>\n",
       "  </tbody>\n",
       "</table>\n",
       "</div>"
      ],
      "text/plain": [
       "   Nro   Scary   Happy     Sad  Peaceful\n",
       "0    1  1.2889  4.4667  1.7111    3.1333\n",
       "1    2  1.0667  5.4444  1.4889    4.4889\n",
       "2    3  2.0222  1.4889  3.7778    2.7111\n",
       "3    4  2.2889  4.1111  1.2667    1.4889\n",
       "4    5  1.4000  1.4667  5.0444    3.8444"
      ]
     },
     "execution_count": 4,
     "metadata": {},
     "output_type": "execute_result"
    }
   ],
   "source": [
    "data_class.head(5)"
   ]
  },
  {
   "cell_type": "code",
   "execution_count": 5,
   "metadata": {},
   "outputs": [
    {
     "name": "stdout",
     "output_type": "stream",
     "text": [
      "Έχουμε 22 περιπτώσεις όπου happy>sad και peaceful < scary\n",
      "Συνεπώς υπάρχει αμφισημία μεταξύ των κλάσεων από το dataset μας.\n",
      "Θα δημιουργήσουμε 3 διαφορετικές περιπτώσεις με βάση τις υπάρχουσες κλάσεις, ώστε να καλύψουμε τις διαφορετικές εκδοχές\n"
     ]
    }
   ],
   "source": [
    "#data examination\n",
    "\n",
    "count=0\n",
    "for i in range (0,len(data_class)):\n",
    "    if ((data_class['Happy'][i]>data_class['Sad'][i]) and (data_class['Peaceful'][i]<data_class['Scary'][i])):\n",
    "        count=count+1\n",
    "print(\"Έχουμε \" + str(count) + \" περιπτώσεις όπου happy>sad και peaceful < scary\")#Παρατηρούμε ότι στο dataset εχουμε περιπτωσεις οπου η κλαση happy kai peaceful den symvadizoun san dyadika antitheta panta.\n",
    "print(\"Συνεπώς υπάρχει αμφισημία μεταξύ των κλάσεων από το dataset μας.\")\n",
    "#synepws tha ftiaksoume 3 diaforetika classiciation gia ta dedomena pou exoume\n",
    "print(\"Θα δημιουργήσουμε 3 διαφορετικές περιπτώσεις με βάση τις υπάρχουσες κλάσεις, ώστε να καλύψουμε τις διαφορετικές εκδοχές\")"
   ]
  },
  {
   "cell_type": "code",
   "execution_count": 6,
   "metadata": {},
   "outputs": [
    {
     "name": "stdout",
     "output_type": "stream",
     "text": [
      "Η απλή κλάση συναισθήματος που φτιάξαμε περιλαμβάνει: \n",
      "Έχουμε 86 χαρούμενα τραγούδια\n",
      "Έχουμε 114 στενάχωρα τραγούδια\n"
     ]
    },
    {
     "data": {
      "image/png": "[encoded data removed]",
      "text/plain": [
       "<Figure size 432x288 with 1 Axes>"
      ]
     },
     "metadata": {
      "needs_background": "light"
     },
     "output_type": "display_data"
    }
   ],
   "source": [
    "\n",
    "#θα δημιουργήσουμε διαφορετικές κλάσεις ώστε να καλύψουμε όλο το φάσμα των περιπτώσεων, δημιουργώντας 3 περιπτώσεις:\n",
    "#Μία πιο απλή, (happy vs sad)\n",
    "#μια πιο εξειδικευμένη (happy+peaceful vs peaceful+scary)\n",
    "#και η πιο εξειδικευμένη θα ακολουθεί την εξής λογική\n",
    "#αν happy>sad και peaceful >scary ->happy\n",
    "#aν sad>happy και scary>peaceful -> sad\n",
    "#αν happy>sad scary>peaceful τότε αν |happy - sad | *150%> |scary - peaceful| *50%-> happy, else sad\n",
    "\n",
    "#τροποποιούμε το dataset των κλάσεων έτσι ώστε να έχουμε 2 κλάσεις, 1 για χαρούμενο \n",
    "#και 0 για στενάχωρο τραγούδι, αντίθετα με τις 4 κλάσεις που έχουμε ήδη φτιάξει\n",
    "music_class_simple=[]\n",
    "\n",
    "for i in range (0,len(data_class)):\n",
    "    if (data_class['Happy'][i]>data_class['Sad'])[i]:\n",
    "        music_class_simple.append(1)\n",
    "    else:\n",
    "        music_class_simple.append(0)\n",
    "print(\"Η απλή κλάση συναισθήματος που φτιάξαμε περιλαμβάνει: \")\n",
    "#print(music_class_simple)\n",
    "#τώρα στο music_class_simple εχουμε τις κλάσεις των συναισθημάτων μας\n",
    "\n",
    "print(\"Έχουμε \" + str(music_class_simple.count(1)) + \" χαρούμενα τραγούδια\")\n",
    "print(\"Έχουμε \" + str(music_class_simple.count(0)) + \" στενάχωρα τραγούδια\")\n",
    "sns.countplot(music_class_simple,label=\"Count\")\n",
    "plt.show()\n"
   ]
  },
  {
   "cell_type": "code",
   "execution_count": 7,
   "metadata": {},
   "outputs": [
    {
     "name": "stdout",
     "output_type": "stream",
     "text": [
      "Η δεύτερη κλάση συναισθήματος που φτιάξαμε περιλαμβάνει: \n",
      "Έχουμε 92 χαρούμενα τραγούδια\n",
      "Έχουμε 108 στενάχωρα τραγούδια\n"
     ]
    },
    {
     "data": {
      "image/png": "[encoded data removed]",
      "text/plain": [
       "<Figure size 432x288 with 1 Axes>"
      ]
     },
     "metadata": {
      "needs_background": "light"
     },
     "output_type": "display_data"
    }
   ],
   "source": [
    "music_class_better=[]\n",
    "#print(data_class)\n",
    "for i in range (0,len(data_class)):\n",
    "    if ((data_class['Happy'][i] + data_class['Peaceful'][i]) > (data_class['Sad'] + data_class['Scary'][i])[i]):\n",
    "        music_class_better.append(1)\n",
    "    else:\n",
    "        music_class_better.append(0)\n",
    "print(\"Η δεύτερη κλάση συναισθήματος που φτιάξαμε περιλαμβάνει: \")\n",
    "#print(music_class_better)\n",
    "\n",
    "print(\"Έχουμε \" + str(music_class_better.count(1)) + \" χαρούμενα τραγούδια\")\n",
    "print(\"Έχουμε \" + str(music_class_better.count(0)) + \" στενάχωρα τραγούδια\")\n",
    "sns.countplot(music_class_better,label=\"Count\")\n",
    "plt.show()\n"
   ]
  },
  {
   "cell_type": "code",
   "execution_count": 8,
   "metadata": {
    "scrolled": true
   },
   "outputs": [
    {
     "name": "stdout",
     "output_type": "stream",
     "text": [
      "Η κλάση συναισθήματος που φτιάξαμε περιλαμβάνει: \n",
      "Έχουμε 102 χαρούμενα τραγούδια\n",
      "Έχουμε 98 στενάχωρα τραγούδια\n"
     ]
    },
    {
     "data": {
      "image/png": "[encoded data removed]",
      "text/plain": [
       "<Figure size 432x288 with 1 Axes>"
      ]
     },
     "metadata": {
      "needs_background": "light"
     },
     "output_type": "display_data"
    }
   ],
   "source": [
    "music_class_best=[]\n",
    "for i in range (0,len(data_class)):\n",
    "    if (((data_class['Happy'][i]) >= (data_class['Sad'][i])) and ((data_class['Peaceful'][i]) >= (data_class['Scary'][i]))):\n",
    "            music_class_best.append(1)\n",
    "    elif (((data_class['Happy'][i]) < (data_class['Sad'][i])) and ((data_class['Peaceful'][i]) < (data_class['Scary'][i]))):\n",
    "            music_class_best.append(0)\n",
    "    elif (((data_class['Happy'][i]) >= (data_class['Sad'][i])) and ((data_class['Peaceful'][i]) < (data_class['Scary'][i]))):\n",
    "        if (1,5*((data_class['Happy'][i]) - (data_class['Sad'][i])) >= (0.5*(data_class['Scary'][i]) - (data_class['Peaceful'][i]))):\n",
    "            music_class_best.append(1)\n",
    "        elif (1,5*(data_class['Happy'][i]) - (data_class['Sad'][i]) < 0.5*((data_class['Scary'][i]) - (data_class['Peaceful'][i]))):\n",
    "            music_class_best.append(0)\n",
    "    elif (((data_class['Happy'][i]) < (data_class['Sad'][i])) and ((data_class['Peaceful'][i]) >= (data_class['Scary'][i]))):\n",
    "        if ((data_class['Sad'][i]) - (data_class['Happy'][i]) >= ((data_class['Peaceful'][i]) - (data_class['Scary'][i]))):\n",
    "            music_class_best.append(0)\n",
    "        elif ((data_class['Sad'][i]) - (data_class['Happy'][i]) < ((data_class['Peaceful'][i]) - (data_class['Scary'][i]))):\n",
    "            music_class_best.append(1)\n",
    "\n",
    "\n",
    "print(\"Η κλάση συναισθήματος που φτιάξαμε περιλαμβάνει: \")\n",
    "#print(music_class_best)\n",
    "print(\"Έχουμε \" + str(music_class_best.count(1)) + \" χαρούμενα τραγούδια\")\n",
    "print(\"Έχουμε \" + str(music_class_best.count(0)) + \" στενάχωρα τραγούδια\")\n",
    "sns.countplot(music_class_best,label=\"Count\")\n",
    "plt.show()"
   ]
  },
  {
   "cell_type": "code",
   "execution_count": 11,
   "metadata": {},
   "outputs": [
    {
     "name": "stderr",
     "output_type": "stream",
     "text": [
      "C:\\Users\\dtchmnt\\Anaconda3\\lib\\site-packages\\sklearn\\preprocessing\\data.py:625: DataConversionWarning: Data with input dtype int64 were all converted to float64 by StandardScaler.\n",
      "  return self.partial_fit(X, y)\n",
      "C:\\Users\\dtchmnt\\Anaconda3\\lib\\site-packages\\sklearn\\preprocessing\\data.py:625: DataConversionWarning: Data with input dtype int64 were all converted to float64 by StandardScaler.\n",
      "  return self.partial_fit(X, y)\n",
      "C:\\Users\\dtchmnt\\Anaconda3\\lib\\site-packages\\sklearn\\base.py:462: DataConversionWarning: Data with input dtype int64 were all converted to float64 by StandardScaler.\n",
      "  return self.fit(X, **fit_params).transform(X)\n",
      "C:\\Users\\dtchmnt\\Anaconda3\\lib\\site-packages\\sklearn\\linear_model\\logistic.py:433: FutureWarning: Default solver will be changed to 'lbfgs' in 0.22. Specify a solver to silence this warning.\n",
      "  FutureWarning)\n",
      "C:\\Users\\dtchmnt\\Anaconda3\\lib\\site-packages\\sklearn\\linear_model\\logistic.py:433: FutureWarning: Default solver will be changed to 'lbfgs' in 0.22. Specify a solver to silence this warning.\n",
      "  FutureWarning)\n",
      "C:\\Users\\dtchmnt\\Anaconda3\\lib\\site-packages\\sklearn\\linear_model\\logistic.py:433: FutureWarning: Default solver will be changed to 'lbfgs' in 0.22. Specify a solver to silence this warning.\n",
      "  FutureWarning)\n",
      "C:\\Users\\dtchmnt\\Anaconda3\\lib\\site-packages\\sklearn\\linear_model\\logistic.py:433: FutureWarning: Default solver will be changed to 'lbfgs' in 0.22. Specify a solver to silence this warning.\n",
      "  FutureWarning)\n",
      "C:\\Users\\dtchmnt\\Anaconda3\\lib\\site-packages\\sklearn\\linear_model\\logistic.py:433: FutureWarning: Default solver will be changed to 'lbfgs' in 0.22. Specify a solver to silence this warning.\n",
      "  FutureWarning)\n",
      "C:\\Users\\dtchmnt\\Anaconda3\\lib\\site-packages\\sklearn\\linear_model\\logistic.py:433: FutureWarning: Default solver will be changed to 'lbfgs' in 0.22. Specify a solver to silence this warning.\n",
      "  FutureWarning)\n",
      "C:\\Users\\dtchmnt\\Anaconda3\\lib\\site-packages\\sklearn\\linear_model\\logistic.py:433: FutureWarning: Default solver will be changed to 'lbfgs' in 0.22. Specify a solver to silence this warning.\n",
      "  FutureWarning)\n",
      "C:\\Users\\dtchmnt\\Anaconda3\\lib\\site-packages\\sklearn\\linear_model\\logistic.py:433: FutureWarning: Default solver will be changed to 'lbfgs' in 0.22. Specify a solver to silence this warning.\n",
      "  FutureWarning)\n",
      "C:\\Users\\dtchmnt\\Anaconda3\\lib\\site-packages\\sklearn\\linear_model\\logistic.py:433: FutureWarning: Default solver will be changed to 'lbfgs' in 0.22. Specify a solver to silence this warning.\n",
      "  FutureWarning)\n",
      "C:\\Users\\dtchmnt\\Anaconda3\\lib\\site-packages\\sklearn\\linear_model\\logistic.py:433: FutureWarning: Default solver will be changed to 'lbfgs' in 0.22. Specify a solver to silence this warning.\n",
      "  FutureWarning)\n",
      "C:\\Users\\dtchmnt\\Anaconda3\\lib\\site-packages\\sklearn\\linear_model\\logistic.py:433: FutureWarning: Default solver will be changed to 'lbfgs' in 0.22. Specify a solver to silence this warning.\n",
      "  FutureWarning)\n",
      "C:\\Users\\dtchmnt\\Anaconda3\\lib\\site-packages\\sklearn\\ensemble\\forest.py:246: FutureWarning: The default value of n_estimators will change from 10 in version 0.20 to 100 in 0.22.\n",
      "  \"10 in version 0.20 to 100 in 0.22.\", FutureWarning)\n"
     ]
    },
    {
     "name": "stdout",
     "output_type": "stream",
     "text": [
      "Τα αποτελέσματα του Cross-Validation για τον LogisticRegression(C=1.0, class_weight=None, dual=False, fit_intercept=True,\n",
      "          intercept_scaling=1, max_iter=100, multi_class='warn',\n",
      "          n_jobs=None, penalty='l2', random_state=None, solver='warn',\n",
      "          tol=0.0001, verbose=0, warm_start=False) είναι:  0.8792481203007518 \n",
      "Τα αποτελέσματα του Cross-Validation για τον DecisionTreeClassifier(class_weight=None, criterion='gini', max_depth=None,\n",
      "            max_features=None, max_leaf_nodes=None,\n",
      "            min_impurity_decrease=0.0, min_impurity_split=None,\n",
      "            min_samples_leaf=1, min_samples_split=2,\n",
      "            min_weight_fraction_leaf=0.0, presort=False, random_state=None,\n",
      "            splitter='best') είναι:  0.8654636591478697 \n",
      "Τα αποτελέσματα του Cross-Validation για τον RandomForestClassifier(bootstrap=True, class_weight=None, criterion='gini',\n",
      "            max_depth=None, max_features='auto', max_leaf_nodes=None,\n",
      "            min_impurity_decrease=0.0, min_impurity_split=None,\n",
      "            min_samples_leaf=1, min_samples_split=2,\n",
      "            min_weight_fraction_leaf=0.0, n_estimators=10, n_jobs=None,\n",
      "            oob_score=False, random_state=None, verbose=0,\n",
      "            warm_start=False) είναι:  0.8496741854636591 \n",
      "Τα αποτελέσματα του Cross-Validation για τον LinearSVC(C=1.0, class_weight=None, dual=True, fit_intercept=True,\n",
      "     intercept_scaling=1, loss='squared_hinge', max_iter=1000,\n",
      "     multi_class='ovr', penalty='l2', random_state=None, tol=0.0001,\n",
      "     verbose=0) είναι:  0.8897744360902257 \n",
      "Τα αποτελέσματα του Cross-Validation για τον KNeighborsClassifier(algorithm='auto', leaf_size=30, metric='minkowski',\n",
      "           metric_params=None, n_jobs=None, n_neighbors=5, p=2,\n",
      "           weights='uniform') είναι:  0.8760150375939849 \n",
      "                 params    scores\n",
      "0  Logistisc Regression  0.879248\n",
      "1         Decision Tree  0.865464\n",
      "2         Random Forest  0.849674\n",
      "3            Linear SVC  0.889774\n",
      "4                  K-nn  0.876015\n"
     ]
    }
   ],
   "source": [
    "#X_train_s, X_test_s, y_train_s, y_test_s = train_test_split(data_input, music_class_simple, test_size=0.2,random_state=1)\n",
    "#Για την πρώτη κλάση, δοκιμάζουμε διαφορετικούς classifiers\n",
    "from sklearn.preprocessing import StandardScaler\n",
    "scaler = StandardScaler()\n",
    "scaler.fit(data_input)\n",
    "\n",
    "X_scaled = scaler.fit_transform(data_input)\n",
    "#X_test_simple_scaled = scaler.transform(X_test_s)\n",
    "#print(X_scaled)\n",
    "\n",
    "classifier_finder_music(X_scaled,music_class_simple)\n"
   ]
  },
  {
   "cell_type": "code",
   "execution_count": 63,
   "metadata": {},
   "outputs": [
    {
     "name": "stderr",
     "output_type": "stream",
     "text": [
      "C:\\Users\\dtchmnt\\Anaconda3\\lib\\site-packages\\sklearn\\linear_model\\logistic.py:433: FutureWarning: Default solver will be changed to 'lbfgs' in 0.22. Specify a solver to silence this warning.\n",
      "  FutureWarning)\n",
      "C:\\Users\\dtchmnt\\Anaconda3\\lib\\site-packages\\sklearn\\linear_model\\logistic.py:433: FutureWarning: Default solver will be changed to 'lbfgs' in 0.22. Specify a solver to silence this warning.\n",
      "  FutureWarning)\n",
      "C:\\Users\\dtchmnt\\Anaconda3\\lib\\site-packages\\sklearn\\linear_model\\logistic.py:433: FutureWarning: Default solver will be changed to 'lbfgs' in 0.22. Specify a solver to silence this warning.\n",
      "  FutureWarning)\n",
      "C:\\Users\\dtchmnt\\Anaconda3\\lib\\site-packages\\sklearn\\linear_model\\logistic.py:433: FutureWarning: Default solver will be changed to 'lbfgs' in 0.22. Specify a solver to silence this warning.\n",
      "  FutureWarning)\n",
      "C:\\Users\\dtchmnt\\Anaconda3\\lib\\site-packages\\sklearn\\linear_model\\logistic.py:433: FutureWarning: Default solver will be changed to 'lbfgs' in 0.22. Specify a solver to silence this warning.\n",
      "  FutureWarning)\n",
      "C:\\Users\\dtchmnt\\Anaconda3\\lib\\site-packages\\sklearn\\linear_model\\logistic.py:433: FutureWarning: Default solver will be changed to 'lbfgs' in 0.22. Specify a solver to silence this warning.\n",
      "  FutureWarning)\n",
      "C:\\Users\\dtchmnt\\Anaconda3\\lib\\site-packages\\sklearn\\linear_model\\logistic.py:433: FutureWarning: Default solver will be changed to 'lbfgs' in 0.22. Specify a solver to silence this warning.\n",
      "  FutureWarning)\n",
      "C:\\Users\\dtchmnt\\Anaconda3\\lib\\site-packages\\sklearn\\linear_model\\logistic.py:433: FutureWarning: Default solver will be changed to 'lbfgs' in 0.22. Specify a solver to silence this warning.\n",
      "  FutureWarning)\n",
      "C:\\Users\\dtchmnt\\Anaconda3\\lib\\site-packages\\sklearn\\linear_model\\logistic.py:433: FutureWarning: Default solver will be changed to 'lbfgs' in 0.22. Specify a solver to silence this warning.\n",
      "  FutureWarning)\n",
      "C:\\Users\\dtchmnt\\Anaconda3\\lib\\site-packages\\sklearn\\linear_model\\logistic.py:433: FutureWarning: Default solver will be changed to 'lbfgs' in 0.22. Specify a solver to silence this warning.\n",
      "  FutureWarning)\n",
      "C:\\Users\\dtchmnt\\Anaconda3\\lib\\site-packages\\sklearn\\linear_model\\logistic.py:433: FutureWarning: Default solver will be changed to 'lbfgs' in 0.22. Specify a solver to silence this warning.\n",
      "  FutureWarning)\n",
      "C:\\Users\\dtchmnt\\Anaconda3\\lib\\site-packages\\sklearn\\ensemble\\forest.py:246: FutureWarning: The default value of n_estimators will change from 10 in version 0.20 to 100 in 0.22.\n",
      "  \"10 in version 0.20 to 100 in 0.22.\", FutureWarning)\n"
     ]
    },
    {
     "name": "stdout",
     "output_type": "stream",
     "text": [
      "Τα αποτελέσματα του Cross-Validation για τον LogisticRegression(C=1.0, class_weight=None, dual=False, fit_intercept=True,\n",
      "          intercept_scaling=1, max_iter=100, multi_class='warn',\n",
      "          n_jobs=None, penalty='l2', random_state=None, solver='warn',\n",
      "          tol=0.0001, verbose=0, warm_start=False) είναι:  0.8448496240601504 \n",
      "Τα αποτελέσματα του Cross-Validation για τον DecisionTreeClassifier(class_weight=None, criterion='gini', max_depth=None,\n",
      "            max_features=None, max_leaf_nodes=None,\n",
      "            min_impurity_decrease=0.0, min_impurity_split=None,\n",
      "            min_samples_leaf=1, min_samples_split=2,\n",
      "            min_weight_fraction_leaf=0.0, presort=False, random_state=None,\n",
      "            splitter='best') είναι:  0.8353508771929825 \n",
      "Τα αποτελέσματα του Cross-Validation για τον RandomForestClassifier(bootstrap=True, class_weight=None, criterion='gini',\n",
      "            max_depth=None, max_features='auto', max_leaf_nodes=None,\n",
      "            min_impurity_decrease=0.0, min_impurity_split=None,\n",
      "            min_samples_leaf=1, min_samples_split=2,\n",
      "            min_weight_fraction_leaf=0.0, n_estimators=10, n_jobs=None,\n",
      "            oob_score=False, random_state=None, verbose=0,\n",
      "            warm_start=False) είναι:  0.8456140350877192 \n",
      "Τα αποτελέσματα του Cross-Validation για τον LinearSVC(C=1.0, class_weight=None, dual=True, fit_intercept=True,\n",
      "     intercept_scaling=1, loss='squared_hinge', max_iter=1000,\n",
      "     multi_class='ovr', penalty='l2', random_state=None, tol=0.0001,\n",
      "     verbose=0) είναι:  0.8448496240601504 \n",
      "Τα αποτελέσματα του Cross-Validation για τον KNeighborsClassifier(algorithm='auto', leaf_size=30, metric='minkowski',\n",
      "           metric_params=None, n_jobs=None, n_neighbors=5, p=2,\n",
      "           weights='uniform') είναι:  0.8564035087719299 \n",
      "                 params    scores\n",
      "0  Logistisc Regression  0.844850\n",
      "1         Decision Tree  0.835351\n",
      "2         Random Forest  0.845614\n",
      "3            Linear SVC  0.844850\n",
      "4                  K-nn  0.856404\n"
     ]
    }
   ],
   "source": [
    "classifier_finder_music(X_scaled,music_class_better)\n"
   ]
  },
  {
   "cell_type": "code",
   "execution_count": 89,
   "metadata": {},
   "outputs": [
    {
     "name": "stderr",
     "output_type": "stream",
     "text": [
      "C:\\Users\\dtchmnt\\Anaconda3\\lib\\site-packages\\sklearn\\linear_model\\logistic.py:433: FutureWarning: Default solver will be changed to 'lbfgs' in 0.22. Specify a solver to silence this warning.\n",
      "  FutureWarning)\n",
      "C:\\Users\\dtchmnt\\Anaconda3\\lib\\site-packages\\sklearn\\linear_model\\logistic.py:433: FutureWarning: Default solver will be changed to 'lbfgs' in 0.22. Specify a solver to silence this warning.\n",
      "  FutureWarning)\n",
      "C:\\Users\\dtchmnt\\Anaconda3\\lib\\site-packages\\sklearn\\linear_model\\logistic.py:433: FutureWarning: Default solver will be changed to 'lbfgs' in 0.22. Specify a solver to silence this warning.\n",
      "  FutureWarning)\n",
      "C:\\Users\\dtchmnt\\Anaconda3\\lib\\site-packages\\sklearn\\linear_model\\logistic.py:433: FutureWarning: Default solver will be changed to 'lbfgs' in 0.22. Specify a solver to silence this warning.\n",
      "  FutureWarning)\n",
      "C:\\Users\\dtchmnt\\Anaconda3\\lib\\site-packages\\sklearn\\linear_model\\logistic.py:433: FutureWarning: Default solver will be changed to 'lbfgs' in 0.22. Specify a solver to silence this warning.\n",
      "  FutureWarning)\n",
      "C:\\Users\\dtchmnt\\Anaconda3\\lib\\site-packages\\sklearn\\linear_model\\logistic.py:433: FutureWarning: Default solver will be changed to 'lbfgs' in 0.22. Specify a solver to silence this warning.\n",
      "  FutureWarning)\n",
      "C:\\Users\\dtchmnt\\Anaconda3\\lib\\site-packages\\sklearn\\linear_model\\logistic.py:433: FutureWarning: Default solver will be changed to 'lbfgs' in 0.22. Specify a solver to silence this warning.\n",
      "  FutureWarning)\n",
      "C:\\Users\\dtchmnt\\Anaconda3\\lib\\site-packages\\sklearn\\linear_model\\logistic.py:433: FutureWarning: Default solver will be changed to 'lbfgs' in 0.22. Specify a solver to silence this warning.\n",
      "  FutureWarning)\n",
      "C:\\Users\\dtchmnt\\Anaconda3\\lib\\site-packages\\sklearn\\linear_model\\logistic.py:433: FutureWarning: Default solver will be changed to 'lbfgs' in 0.22. Specify a solver to silence this warning.\n",
      "  FutureWarning)\n",
      "C:\\Users\\dtchmnt\\Anaconda3\\lib\\site-packages\\sklearn\\linear_model\\logistic.py:433: FutureWarning: Default solver will be changed to 'lbfgs' in 0.22. Specify a solver to silence this warning.\n",
      "  FutureWarning)\n",
      "C:\\Users\\dtchmnt\\Anaconda3\\lib\\site-packages\\sklearn\\linear_model\\logistic.py:433: FutureWarning: Default solver will be changed to 'lbfgs' in 0.22. Specify a solver to silence this warning.\n",
      "  FutureWarning)\n",
      "C:\\Users\\dtchmnt\\Anaconda3\\lib\\site-packages\\sklearn\\ensemble\\forest.py:246: FutureWarning: The default value of n_estimators will change from 10 in version 0.20 to 100 in 0.22.\n",
      "  \"10 in version 0.20 to 100 in 0.22.\", FutureWarning)\n"
     ]
    },
    {
     "name": "stdout",
     "output_type": "stream",
     "text": [
      "Τα αποτελέσματα του Cross-Validation για τον LogisticRegression(C=1.0, class_weight=None, dual=False, fit_intercept=True,\n",
      "          intercept_scaling=1, max_iter=100, multi_class='warn',\n",
      "          n_jobs=None, penalty='l2', random_state=None, solver='warn',\n",
      "          tol=0.0001, verbose=0, warm_start=False) είναι:  0.871140350877193 \n",
      "Τα αποτελέσματα του Cross-Validation για τον DecisionTreeClassifier(class_weight=None, criterion='gini', max_depth=None,\n",
      "            max_features=None, max_leaf_nodes=None,\n",
      "            min_impurity_decrease=0.0, min_impurity_split=None,\n",
      "            min_samples_leaf=1, min_samples_split=2,\n",
      "            min_weight_fraction_leaf=0.0, presort=False, random_state=None,\n",
      "            splitter='best') είναι:  0.7822055137844611 \n",
      "Τα αποτελέσματα του Cross-Validation για τον RandomForestClassifier(bootstrap=True, class_weight=None, criterion='gini',\n",
      "            max_depth=None, max_features='auto', max_leaf_nodes=None,\n",
      "            min_impurity_decrease=0.0, min_impurity_split=None,\n",
      "            min_samples_leaf=1, min_samples_split=2,\n",
      "            min_weight_fraction_leaf=0.0, n_estimators=10, n_jobs=None,\n",
      "            oob_score=False, random_state=None, verbose=0,\n",
      "            warm_start=False) είναι:  0.8420927318295741 \n",
      "Τα αποτελέσματα του Cross-Validation για τον LinearSVC(C=1.0, class_weight=None, dual=True, fit_intercept=True,\n",
      "     intercept_scaling=1, loss='squared_hinge', max_iter=1000,\n",
      "     multi_class='ovr', penalty='l2', random_state=None, tol=0.0001,\n",
      "     verbose=0) είναι:  0.87140350877193 \n",
      "Τα αποτελέσματα του Cross-Validation για τον KNeighborsClassifier(algorithm='auto', leaf_size=30, metric='minkowski',\n",
      "           metric_params=None, n_jobs=None, n_neighbors=5, p=2,\n",
      "           weights='uniform') είναι:  0.8411152882205514 \n",
      "                 params    scores\n",
      "0  Logistisc Regression  0.871140\n",
      "1         Decision Tree  0.782206\n",
      "2         Random Forest  0.842093\n",
      "3            Linear SVC  0.871404\n",
      "4                  K-nn  0.841115\n"
     ]
    }
   ],
   "source": [
    "\n",
    "classifier_finder_music(X_scaled,music_class_best)"
   ]
  },
  {
   "cell_type": "code",
   "execution_count": null,
   "metadata": {},
   "outputs": [],
   "source": [
    "#θελουμε να κανουμε optimize : \n",
    "\n",
    "#Linear SVC, k-nn,LSVC"
   ]
  },
  {
   "cell_type": "code",
   "execution_count": 106,
   "metadata": {
    "scrolled": true
   },
   "outputs": [
    {
     "name": "stdout",
     "output_type": "stream",
     "text": [
      "Best: 0.900000 using {'C': 5, 'dual': True, 'max_iter': 200}\n",
      "Execution time: 0.7829039096832275 ms\n"
     ]
    },
    {
     "name": "stderr",
     "output_type": "stream",
     "text": [
      "C:\\Users\\dtchmnt\\Anaconda3\\lib\\site-packages\\sklearn\\model_selection\\_search.py:841: DeprecationWarning: The default of the `iid` parameter will change from True to False in version 0.22 and will be removed in 0.24. This will change numeric results when test-set sizes are unequal.\n",
      "  DeprecationWarning)\n",
      "C:\\Users\\dtchmnt\\Anaconda3\\lib\\site-packages\\sklearn\\svm\\base.py:922: ConvergenceWarning: Liblinear failed to converge, increase the number of iterations.\n",
      "  \"the number of iterations.\", ConvergenceWarning)\n",
      "C:\\Users\\dtchmnt\\Anaconda3\\lib\\site-packages\\sklearn\\svm\\base.py:922: ConvergenceWarning: Liblinear failed to converge, increase the number of iterations.\n",
      "  \"the number of iterations.\", ConvergenceWarning)\n"
     ]
    },
    {
     "data": {
      "text/plain": [
       "LinearSVC(C=5, class_weight=None, dual=True, fit_intercept=True,\n",
       "     intercept_scaling=1, loss='squared_hinge', max_iter=200,\n",
       "     multi_class='ovr', penalty='l2', random_state=None, tol=0.0001,\n",
       "     verbose=0)"
      ]
     },
     "execution_count": 106,
     "metadata": {},
     "output_type": "execute_result"
    }
   ],
   "source": [
    "#Gridsearch πρώτης περίπτωσης\n",
    "from sklearn.model_selection import GridSearchCV\n",
    "import time\n",
    "\n",
    "max_iter=[110,200,500,1000]\n",
    "C = [0.1,0.5,1.0,1.5,2.0,2.5,5,10]\n",
    "param_grid = dict(dual=dual,max_iter=max_iter,C=C)\n",
    "\n",
    "lSVC=LinearSVC()\n",
    "grid = GridSearchCV(estimator=lSVC, param_grid=param_grid, cv = 10, n_jobs=-1)\n",
    "\n",
    "start_time = time.time()\n",
    "grid_result = grid.fit(X_scaled, music_class_simple)\n",
    "# Summarize results\n",
    "print(\"Best: %f using %s\" % (grid_result.best_score_, grid_result.best_params_))\n",
    "print(\"Execution time: \" + str((time.time() - start_time)) + ' ms')\n",
    "best_clf1=LinearSVC(**grid_result.best_params_)\n",
    "best_clf1.fit(X_scaled,music_class_simple)\n"
   ]
  },
  {
   "cell_type": "code",
   "execution_count": 105,
   "metadata": {},
   "outputs": [
    {
     "name": "stdout",
     "output_type": "stream",
     "text": [
      "Best: 0.860000 using {'n_neighbors': 18, 'weights': 'distance'}\n",
      "Execution time: 2.605076313018799 ms\n"
     ]
    },
    {
     "name": "stderr",
     "output_type": "stream",
     "text": [
      "C:\\Users\\dtchmnt\\Anaconda3\\lib\\site-packages\\sklearn\\model_selection\\_search.py:841: DeprecationWarning: The default of the `iid` parameter will change from True to False in version 0.22 and will be removed in 0.24. This will change numeric results when test-set sizes are unequal.\n",
      "  DeprecationWarning)\n"
     ]
    },
    {
     "data": {
      "text/plain": [
       "KNeighborsClassifier(algorithm='auto', leaf_size=30, metric='minkowski',\n",
       "           metric_params=None, n_jobs=None, n_neighbors=18, p=2,\n",
       "           weights='distance')"
      ]
     },
     "execution_count": 105,
     "metadata": {},
     "output_type": "execute_result"
    }
   ],
   "source": [
    "#grid gia knn\n",
    "k_range = list(range(1,31))\n",
    "weight_options = [\"uniform\", \"distance\"]\n",
    "\n",
    "param_grid = dict(n_neighbors = k_range, weights = weight_options)\n",
    "#print (param_grid)\n",
    "knn = KNeighborsClassifier()\n",
    "start_time = time.time()\n",
    "grid = GridSearchCV(knn, param_grid, cv = 10, scoring = 'accuracy')\n",
    "grid.fit(X_scaled,music_class_better)\n",
    "print(\"Best: %f using %s\" % (grid.best_score_, grid.best_params_))\n",
    "print(\"Execution time: \" + str((time.time() - start_time)) + ' ms')\n",
    "best_clf2 = KNeighborsClassifier(**grid.best_params_)\n",
    "best_clf2.fit(X_scaled,music_class_better)"
   ]
  },
  {
   "cell_type": "code",
   "execution_count": 130,
   "metadata": {},
   "outputs": [
    {
     "name": "stdout",
     "output_type": "stream",
     "text": [
      "[1.e-02 1.e-01 1.e+00 1.e+01 1.e+02]\n"
     ]
    }
   ],
   "source": [
    "import numpy as np\n",
    "print(np.logspace(-2,2,5))"
   ]
  },
  {
   "cell_type": "code",
   "execution_count": 107,
   "metadata": {},
   "outputs": [
    {
     "name": "stdout",
     "output_type": "stream",
     "text": [
      "Best: 0.870000 using {'C': 0.5, 'dual': True, 'max_iter': 110}\n",
      "Execution time: 1.4431042671203613 ms\n"
     ]
    },
    {
     "name": "stderr",
     "output_type": "stream",
     "text": [
      "C:\\Users\\dtchmnt\\Anaconda3\\lib\\site-packages\\sklearn\\model_selection\\_search.py:841: DeprecationWarning: The default of the `iid` parameter will change from True to False in version 0.22 and will be removed in 0.24. This will change numeric results when test-set sizes are unequal.\n",
      "  DeprecationWarning)\n",
      "C:\\Users\\dtchmnt\\Anaconda3\\lib\\site-packages\\sklearn\\svm\\base.py:922: ConvergenceWarning: Liblinear failed to converge, increase the number of iterations.\n",
      "  \"the number of iterations.\", ConvergenceWarning)\n",
      "C:\\Users\\dtchmnt\\Anaconda3\\lib\\site-packages\\sklearn\\svm\\base.py:922: ConvergenceWarning: Liblinear failed to converge, increase the number of iterations.\n",
      "  \"the number of iterations.\", ConvergenceWarning)\n"
     ]
    },
    {
     "data": {
      "text/plain": [
       "LinearSVC(C=0.5, class_weight=None, dual=True, fit_intercept=True,\n",
       "     intercept_scaling=1, loss='squared_hinge', max_iter=110,\n",
       "     multi_class='ovr', penalty='l2', random_state=None, tol=0.0001,\n",
       "     verbose=0)"
      ]
     },
     "execution_count": 107,
     "metadata": {},
     "output_type": "execute_result"
    }
   ],
   "source": [
    "#Gridsearch τρίτης περίπτωσης\n",
    "from sklearn.model_selection import GridSearchCV\n",
    "import time\n",
    "\n",
    "max_iter=[110,200,500,1000,1500,2000]\n",
    "C = [0.1,0.5,1.0,1.5,2.0,2.5,5,10]\n",
    "param_grid = dict(dual=dual,max_iter=max_iter,C=C)\n",
    "\n",
    "lSVC=LinearSVC()\n",
    "grid = GridSearchCV(estimator=lSVC, param_grid=param_grid, cv = 10, n_jobs=-1)\n",
    "\n",
    "start_time = time.time()\n",
    "grid_result = grid.fit(X_scaled, music_class_best)\n",
    "# Summarize results\n",
    "print(\"Best: %f using %s\" % (grid_result.best_score_, grid_result.best_params_))\n",
    "print(\"Execution time: \" + str((time.time() - start_time)) + ' ms')\n",
    "best_clf3 = LinearSVC(**grid_result.best_params_)\n",
    "best_clf3.fit(X_scaled,music_class_better)"
   ]
  },
  {
   "cell_type": "code",
   "execution_count": 126,
   "metadata": {},
   "outputs": [
    {
     "name": "stdout",
     "output_type": "stream",
     "text": [
      "Για την απλή κλάση συναισθημάτων:\n",
      "Η επιτυχία του πρώτου ταξινομητή είναι 0.9\n",
      "Η επιτυχία του δεύτερου ταξινομητή είναι 0.92\n",
      "Η επιτυχία του τρίτου ταξινομητή είναι 0.88\n",
      "\n",
      "Για την δεύτερη κλάση συναισθημάτων:\n",
      "Η επιτυχία του πρώτου ταξινομητή είναι 0.86\n",
      "Η επιτυχία του δεύτερου ταξινομητή είναι 1.0\n",
      "Η επιτυχία του τρίτου ταξινομητή είναι 0.88\n",
      "\n",
      "Για την τρίτη κλάση συναισθημάτων:\n",
      "Η επιτυχία του πρώτου ταξινομητή είναι 0.86\n",
      "Η επιτυχία του δεύτερου ταξινομητή είναι 0.96\n",
      "Η επιτυχία του τρίτου ταξινομητή είναι 0.88\n"
     ]
    }
   ],
   "source": [
    "#ελέγχουμε τους classifiers μας. Επειδή έχουμε εκπαιδεύσει και τους 3 στο ίδιο training data με διαφορετικά labels,\n",
    "#θα δημιουργήσουμε 3 ελέγχους ,με 3 σκορ τα οποία θα πολλαπλασιάσουμε μεταξύ τους για να βρούμε το καλύτερο\n",
    "#παίρνουμε σαν σωστή κλάση την 1η\n",
    "X_train, X_test, y_train, y_true = train_test_split(X_scaled, music_class_simple, test_size=0.25, random_state=42) \n",
    "# make a prediction\n",
    "ypred1 = best_clf1.predict(X_test)\n",
    "ypred2 = best_clf2.predict(X_test)\n",
    "ypred3 = best_clf3.predict(X_test)\n",
    "print(\"Για την απλή κλάση συναισθημάτων:\")\n",
    "print(\"Η επιτυχία του πρώτου ταξινομητή είναι {}\".format(accuracy_score(y_true, ypred1)))\n",
    "print(\"Η επιτυχία του δεύτερου ταξινομητή είναι {}\".format(accuracy_score(y_true, ypred2)))\n",
    "print(\"Η επιτυχία του τρίτου ταξινομητή είναι {}\".format(accuracy_score(y_true, ypred3)))\n",
    "print()\n",
    "#ελέγχουμε τους classifiers μας. Επειδή έχουμε εκπαιδεύσει και τους 3 στο ίδιο training data με διαφορετικά labels,\n",
    "#θα δημιουργήσουμε 3 ελέγχους ,με 3 σκορ τα οποία θα πολλαπλασιάσουμε μεταξύ τους για να βρούμε το καλύτερο\n",
    "#παίρνουμε σαν σωστή κλάση την 2η\n",
    "X_train, X_test, y_train, y_true = train_test_split(X_scaled, music_class_better, test_size=0.25, random_state=42) \n",
    "# make a prediction\n",
    "ypred1 = best_clf1.predict(X_test)\n",
    "ypred2 = best_clf2.predict(X_test)\n",
    "ypred3 = best_clf3.predict(X_test)\n",
    "print(\"Για την δεύτερη κλάση συναισθημάτων:\")\n",
    "print(\"Η επιτυχία του πρώτου ταξινομητή είναι {}\".format(accuracy_score(y_true, ypred1)))\n",
    "print(\"Η επιτυχία του δεύτερου ταξινομητή είναι {}\".format(accuracy_score(y_true, ypred2)))\n",
    "print(\"Η επιτυχία του τρίτου ταξινομητή είναι {}\".format(accuracy_score(y_true, ypred3)))\n",
    "print()\n",
    "\n",
    "#ελέγχουμε τους classifiers μας. Επειδή έχουμε εκπαιδεύσει και τους 3 στο ίδιο training data με διαφορετικά labels,\n",
    "#θα δημιουργήσουμε 3 ελέγχους ,με 3 σκορ τα οποία θα πολλαπλασιάσουμε μεταξύ τους για να βρούμε το καλύτερο\n",
    "#παίρνουμε σαν σωστή κλάση την 3η\n",
    "X_train, X_test, y_train, y_true = train_test_split(X_scaled, music_class_best, test_size=0.25, random_state=42) \n",
    "# make a prediction\n",
    "ypred1 = best_clf1.predict(X_test)\n",
    "ypred2 = best_clf2.predict(X_test)\n",
    "ypred3 = best_clf3.predict(X_test)\n",
    "print(\"Για την τρίτη κλάση συναισθημάτων:\")\n",
    "print(\"Η επιτυχία του πρώτου ταξινομητή είναι {}\".format(accuracy_score(y_true, ypred1)))\n",
    "\n",
    "print(\"Η επιτυχία του δεύτερου ταξινομητή είναι {}\".format(accuracy_score(y_true, ypred2)))\n",
    "print(\"Η επιτυχία του τρίτου ταξινομητή είναι {}\".format(accuracy_score(y_true, ypred3)))"
   ]
  }
 ],
 "metadata": {
  "kernelspec": {
   "display_name": "Python 3",
   "language": "python",
   "name": "python3"
  },
  "language_info": {
   "codemirror_mode": {
    "name": "ipython",
    "version": 3
   },
   "file_extension": ".py",
   "mimetype": "text/x-python",
   "name": "python",
   "nbconvert_exporter": "python",
   "pygments_lexer": "ipython3",
   "version": "3.7.1"
  }
 },
 "nbformat": 4,
 "nbformat_minor": 2
}
