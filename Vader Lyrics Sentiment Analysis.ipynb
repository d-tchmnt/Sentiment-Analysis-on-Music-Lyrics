{
 "cells": [
  {
   "cell_type": "code",
   "execution_count": 1,
   "metadata": {},
   "outputs": [
    {
     "name": "stderr",
     "output_type": "stream",
     "text": [
      "[nltk_data] Downloading package punkt to\n",
      "[nltk_data]     C:\\Users\\dtchmnt\\AppData\\Roaming\\nltk_data...\n",
      "[nltk_data]   Package punkt is already up-to-date!\n",
      "[nltk_data] Downloading package stopwords to\n",
      "[nltk_data]     C:\\Users\\dtchmnt\\AppData\\Roaming\\nltk_data...\n",
      "[nltk_data]   Package stopwords is already up-to-date!\n",
      "[nltk_data] Downloading package averaged_perceptron_tagger to\n",
      "[nltk_data]     C:\\Users\\dtchmnt\\AppData\\Roaming\\nltk_data...\n",
      "[nltk_data]   Package averaged_perceptron_tagger is already up-to-\n",
      "[nltk_data]       date!\n",
      "[nltk_data] Downloading package wordnet to\n",
      "[nltk_data]     C:\\Users\\dtchmnt\\AppData\\Roaming\\nltk_data...\n",
      "[nltk_data]   Package wordnet is already up-to-date!\n",
      "[nltk_data] Downloading package sentiwordnet to\n",
      "[nltk_data]     C:\\Users\\dtchmnt\\AppData\\Roaming\\nltk_data...\n",
      "[nltk_data]   Package sentiwordnet is already up-to-date!\n",
      "[nltk_data] Downloading package vader_lexicon to\n",
      "[nltk_data]     C:\\Users\\dtchmnt\\AppData\\Roaming\\nltk_data...\n",
      "[nltk_data]   Package vader_lexicon is already up-to-date!\n"
     ]
    }
   ],
   "source": [
    "# %load ImportsDefinitions.py\n",
    "#!/usr/bin/env python\n",
    "\n",
    "# In[ ]:\n",
    "\n",
    "\n",
    "# %load ImportsDefinitions.py\n",
    "#!/usr/bin/env python\n",
    "\n",
    "# In[ ]:\n",
    "\n",
    "\n",
    "#Imports\n",
    "import pandas as pd\n",
    "import nltk\n",
    "from nltk.tokenize import word_tokenize\n",
    "import re\n",
    "import numpy as np\n",
    "from nltk.corpus import stopwords\n",
    "from nltk.corpus import sentiwordnet as swn\n",
    "from nltk.stem import WordNetLemmatizer\n",
    "wnl = WordNetLemmatizer()\n",
    "import pandas as pd\n",
    "from sklearn import datasets, linear_model\n",
    "from sklearn.model_selection import train_test_split\n",
    "from matplotlib import pyplot as plt\n",
    "from sklearn import datasets, linear_model\n",
    "from nltk.sentiment.vader import SentimentIntensityAnalyzer\n",
    "from sklearn.model_selection import GridSearchCV, cross_val_score, cross_val_predict\n",
    "from sklearn.ensemble import RandomForestClassifier\n",
    "from sklearn import svm, tree\n",
    "\n",
    "from sklearn.svm import LinearSVC\n",
    "\n",
    "\n",
    "import seaborn as sns\n",
    "\n",
    "#accuracy_score(labels_test,pred)\n",
    "from sklearn.feature_extraction.text import CountVectorizer\n",
    "from sklearn.metrics import accuracy_score\n",
    "from sklearn.metrics import confusion_matrix\n",
    "from sklearn import datasets\n",
    "from sklearn import metrics\n",
    "from sklearn.naive_bayes import GaussianNB\n",
    "from sklearn.externals import joblib \n",
    "\n",
    "from sklearn.naive_bayes import MultinomialNB\n",
    "#accuracy_score(labels_test,pred)\n",
    "from sklearn.linear_model import LogisticRegression\n",
    "from sklearn.feature_extraction.text import TfidfVectorizer\n",
    "\n",
    "from yellowbrick.text import FreqDistVisualizer\n",
    "from yellowbrick.datasets import load_hobbies\n",
    "from sklearn.model_selection import TimeSeriesSplit\n",
    "from sklearn.naive_bayes import GaussianNB\n",
    "\n",
    "\n",
    "from yellowbrick.classifier import ClassificationReport\n",
    "from yellowbrick.datasets import load_occupancy\n",
    "from yellowbrick.text import FreqDistVisualizer\n",
    "from yellowbrick.datasets import load_hobbies\n",
    "nltk.download('punkt')\n",
    "nltk.download('stopwords')\n",
    "nltk.download('averaged_perceptron_tagger')\n",
    "nltk.download('wordnet')\n",
    "nltk.download('sentiwordnet')\n",
    "nltk.download('vader_lexicon')\n",
    "\n",
    "\n",
    "# In[1]:\n",
    "\n",
    "\n",
    "#Ορισμός συναρτήσεων για να ελέξγχουμε τον καλύτερο vectorizer\n",
    "def tfidf_test_simple(X_train,X_test,y_train,y_test,token_izer):\n",
    "    if (token_izer=='1'):\n",
    "        tfvect= TfidfVectorizer(tokenizer=tokenizer_preproccessor)\n",
    "    elif (token_izer=='2'):\n",
    "        tfvect= TfidfVectorizer(tokenizer=tokenizer_preproccessor_imdb)\n",
    "    else:\n",
    "        tfvect= TfidfVectorizer()\n",
    "    tfidf_train = tfvect.fit_transform(X_train)\n",
    "    tfidf_test = tfvect.transform(X_test)\n",
    "    nb=MultinomialNB()\n",
    "    #train the model and timing it\n",
    "    #kanoume prediction gia to x_test_dtm\n",
    "    \n",
    "    # cross val score/ predict\n",
    "    cvec_score = cross_val_score(nb, tfidf_train, y_train, cv=4 )\n",
    "    feature_names = tfvect.get_feature_names()\n",
    "    print(\"Number of features: {}\".format(len(feature_names)))\n",
    "    print(\"to accuracy tou TFIDF einai {}\".format(cvec_score.mean()))\n",
    "    \n",
    "    visualizer = FreqDistVisualizer(features=feature_names, orient='h')\n",
    "    visualizer.fit(tfidf_train)\n",
    "    visualizer.poof()\n",
    "    \n",
    "    return cvec_score.mean()\n",
    "\n",
    "def countvect_test_simple(X_train,X_test,y_train,y_test,token_izer):\n",
    "    if (token_izer=='1'):\n",
    "        countvect= CountVectorizer(tokenizer=tokenizer_preproccessor)\n",
    "    elif (token_izer=='2'):\n",
    "        countvect= CountVectorizer(tokenizer=tokenizer_preproccessor_imdb)\n",
    "    else:\n",
    "        countvect= CountVectorizer()\n",
    "    #CountVect\n",
    "    countvect.fit(X_train)\n",
    "    #to metatrepoume se dtm sparse matrix\n",
    "    X_train_dtm=countvect.transform(X_train)\n",
    "    X_test_dtm=countvect.transform(X_test)\n",
    "    #Ftiaxnoume Multinomial Naive Bayes modelo\n",
    "    nb=MultinomialNB()\n",
    "    #kanoume prediction gia to x_test_dtm\n",
    "    \n",
    "    # cross val score/ predict\n",
    "    cvec_score = cross_val_score(nb, X_train_dtm, y_train, cv=4 )\n",
    "        \n",
    "          \n",
    "    feature_names = countvect.get_feature_names()\n",
    "    print(\"Number of features: {}\".format(len(feature_names)))\n",
    "    print(\"to accuracy tou CountVectorizer einai: {}\".format(cvec_score.mean()))\n",
    "    \n",
    "    visualizer = FreqDistVisualizer(features=feature_names, orient='h')\n",
    "    visualizer.fit(X_train_dtm)\n",
    "    visualizer.poof()\n",
    "    \n",
    "    return cvec_score.mean()\n",
    "\n",
    "\n",
    "# In[9]:\n",
    "\n",
    "\n",
    "#oρισμός συναρτήσεων για να ελέγχουμε το max_df\n",
    "def countvect_test_maxdf(X_train,X_test,y_train,y_test,token_izer,maxdf):\n",
    "    if (token_izer=='1'):\n",
    "        countvect= CountVectorizer(tokenizer=tokenizer_preproccessor,max_df=maxdf)\n",
    "    elif (token_izer=='2'):\n",
    "        countvect= CountVectorizer(tokenizer=tokenizer_preproccessor_imdb,max_df=maxdf)\n",
    "    else:\n",
    "        countvect= CountVectorizer(max_df=maxdf)\n",
    "    X_train_dtm = countvect.fit_transform(X_train)\n",
    "    X_test_dtm = countvect.transform(X_test)\n",
    "    nb=MultinomialNB()\n",
    "    cvec_score = cross_val_score(nb, X_train_dtm, y_train, cv=4 )\n",
    "   \n",
    "    #kanoume evaluate ta apotelesmata mas me Logistic Regression\n",
    "    feature_names = countvect.get_feature_names()\n",
    "    print(\"Number of features: {}\".format(len(feature_names)))\n",
    "    print(\"To accuracy me Max df: {} είναι : {} \".format(maxdf,cvec_score))\n",
    "    return cvec_score.mean()\n",
    "\n",
    "\n",
    "def tfidf_test_maxdf(X_train,X_test,y_train,y_test,token_izer,maxdf):\n",
    "    if (token_izer=='1'):\n",
    "        tfvect= TfidfVectorizer(tokenizer=tokenizer_preproccessor,max_df=maxdf)\n",
    "    elif (token_izer=='2'):\n",
    "        tfvect= TfidfVectorizer(tokenizer=tokenizer_preproccessor_imdb,max_df=maxdf)\n",
    "    else:\n",
    "        tfvect= TfidfVectorizer(max_df=maxdf)\n",
    "    tfidf_train = tfvect.fit_transform(X_train)\n",
    "    tfidf_test = tfvect.transform(X_test)\n",
    "    nb=MultinomialNB()\n",
    "    cvec_score = cross_val_score(nb, tfidf_train, y_train, cv=4 )\n",
    "    \n",
    "    #kanoume evaluate ta apotelesmata mas me Logistic Regression\n",
    "    feature_names = tfvect.get_feature_names()\n",
    "    print(\"Number of features: {}\".format(len(feature_names)))\n",
    "    print(\"To accuracy me max df: {} είναι : {} \".format(maxdf,cvec_score))\n",
    "    return cvec_score.mean()\n",
    "\n",
    "\n",
    "# In[12]:\n",
    "\n",
    "\n",
    "def countvect_test_ngrams(X_train,X_test,y_train,y_test,token_izer,ngrams):\n",
    "    if (token_izer=='1'):\n",
    "        countvect= CountVectorizer(tokenizer=tokenizer_preproccessor,ngram_range=(1,ngrams))\n",
    "    elif (token_izer=='2'):\n",
    "        countvect= CountVectorizer(tokenizer=tokenizer_preproccessor_imdb,ngram_range=(1,ngrams))\n",
    "    else:\n",
    "        countvect= CountVectorizer(ngram_range=(1,ngrams))\n",
    "    X_train_dtm = countvect.fit_transform(X_train)\n",
    "    X_test_dtm = countvect.transform(X_test)\n",
    "    nb=MultinomialNB()\n",
    "    cvec_score = cross_val_score(nb, X_train_dtm, y_train, cv=4 )\n",
    "   \n",
    "    #kanoume evaluate ta apotelesmata mas me Logistic Regression\n",
    "    feature_names = countvect.get_feature_names()\n",
    "    print(\"Number of features: {}\".format(len(feature_names)))\n",
    "    print(\"To accuracy me {}-ngrams είναι : {} \".format(ngrams,cvec_score))\n",
    "    return cvec_score.mean()\n",
    "\n",
    "def tfidf_test_ngrams(X_train,X_test,y_train,y_test,token_izer,ngrams):\n",
    "    if (token_izer=='1'):\n",
    "        tfvect= TfidfVectorizer(tokenizer=tokenizer_preproccessor,ngram_range=(1,ngrams))\n",
    "    elif (token_izer=='2'):\n",
    "        tfvect= TfidfVectorizer(tokenizer=tokenizer_preproccessor_imdb,ngram_range=(1,ngrams))\n",
    "    else:\n",
    "        tfvect= TfidfVectorizer(ngram_range=(1,ngrams))\n",
    "    tfidf_train = tfvect.fit_transform(X_train)\n",
    "    tfidf_test = tfvect.transform(X_test)\n",
    "    nb=MultinomialNB()\n",
    "    cvec_score = cross_val_score(nb, tfidf_train, y_train, cv=4 )\n",
    "    \n",
    "    #kanoume evaluate ta apotelesmata mas me Logistic Regression\n",
    "    feature_names = tfvect.get_feature_names()\n",
    "    print(\"Number of features: {}\".format(len(feature_names)))\n",
    "    print(\"To accuracy me {}-ngrams είναι : {} \".format(ngrams,cvec_score))\n",
    "    return cvec_score.mean()\n",
    "\n",
    "\n",
    "# In[ ]:\n",
    "\n",
    "\n",
    "def countvect_test_maxfeat(X_train,X_test,y_train,y_test,token_izer,maxfeat):  \n",
    "    if (token_izer=='1'):\n",
    "        countvect= CountVectorizer(tokenizer=tokenizer_preproccessor,max_features=maxfeat)\n",
    "    elif (token_izer=='2'):\n",
    "        countvect= CountVectorizer(tokenizer=tokenizer_preproccessor_imdb,max_features=maxfeat)\n",
    "    else:\n",
    "        countvect= CountVectorizer(max_features=maxfeat)\n",
    "    X_train_dtm = countvect.fit_transform(X_train)\n",
    "    X_test_dtm = countvect.transform(X_test)\n",
    "    nb=MultinomialNB()\n",
    "    cvec_score = cross_val_score(nb, X_train_dtm, y_train, cv=4 )\n",
    "   \n",
    "    #kanoume evaluate ta apotelesmata mas me Logistic Regression\n",
    "    feature_names = countvect.get_feature_names()\n",
    "    print(\"Number of features: {}\".format(len(feature_names)))\n",
    "    print(\"To accuracy me max features {} είναι : {} \".format(maxfeat,cvec_score))\n",
    "    return cvec_score.mean()\n",
    "\n",
    "def tfidf_test_maxfeat(X_train,X_test,y_train,y_test,token_izer,maxfeat):\n",
    "    if (token_izer=='1'):\n",
    "        tfvect= TfidfVectorizer(tokenizer=tokenizer_preproccessor,max_features=maxfeat)\n",
    "    elif (token_izer=='2'):\n",
    "        tfvect= TfidfVectorizer(tokenizer=tokenizer_preproccessor_imdb,max_features=maxfeat)\n",
    "    else:\n",
    "        tfvect= TfidfVectorizer(max_features=maxfeat)\n",
    "    tfidf_train = tfvect.fit_transform(X_train)\n",
    "    tfidf_test = tfvect.transform(X_test)\n",
    "    nb=MultinomialNB()\n",
    "    cvec_score = cross_val_score(nb, tfidf_train, y_train, cv=4 )\n",
    "    \n",
    "    #kanoume evaluate ta apotelesmata mas me Logistic Regression\n",
    "    feature_names = tfvect.get_feature_names()\n",
    "    print(\"Number of features: {}\".format(len(feature_names)))\n",
    "    print(\"To accuracy me max featurues : {} είναι : {} \".format(maxfeat,cvec_score))\n",
    "    return cvec_score.mean()\n",
    "\n",
    "\n",
    "# In[4]:\n",
    "\n",
    "\n",
    "def tokenizer_preproccessor(text):\n",
    "    stop = set(stopwords.words('english'))\n",
    "    #kanoume preprocessing ta dedomena mas\n",
    "    word_tokens=word_tokenize(text.lower()) #kanoume tokenize\n",
    "    #print(\"Έχουμε \" + str(len(word_tokens))+ \" tokens\")\n",
    "    #filtered_word_tokens = [word for word in word_tokens if word not in stop] #svinoume ta stopwords\n",
    "    #print(\"Αφού αφαιρέσαμε τα stopwords, έχουμε τελικά \" + str(len(filtered_word_tokens)) + \" tokens\")\n",
    "    #print(filtered_word_tokens)\n",
    "    filtered_word_tokens = [re.sub(r'[^A-Za-z0-9]+', '', x) for x in word_tokens]  #svinoume ta punctuations\n",
    "    #filtered_word_tokens = [x for x in filtered_word_tokens if x not in ['film','movie']]  #svinoume ta punctuations    \n",
    "    filtered_word_tokens = [word for word in filtered_word_tokens if len(word)>1] #svinoume tis mikres lekseis\n",
    "    #print(\"Αφού αφαιρέσαμε τα σημεία στίξης και τις μικρές λέξεις, έχουμε τελικά \" + str(len(filtered_word_tokens)) + \" tokens\")\n",
    "    #print(filtered_word_tokens)\n",
    "    tagged_filtered_tokens=nltk.pos_tag(filtered_word_tokens) #kanoume pos tag tis lekseis gia syntaktiki analysi\n",
    "    #print(tagged_filtered_tokens)\n",
    "            #ftiaxnoume ta pos tags wste na mpoun san input sto sentisynset\n",
    "    #epeidh ta dedomena tou postag ginontai tuples, ta metatrepoume se lista\n",
    "    newtags=[] #lista me ta nea tags kai idio counter me ta tagged words\n",
    "    for tag in tagged_filtered_tokens:\n",
    "        if tag[1] in set(['VB', 'VBD', 'VBG', 'VBN', 'VBP', 'VBZ']):\n",
    "            newtags.append('v')\n",
    "        elif tag[1] in set(['JJ', 'JJR', 'JJS']):\n",
    "             newtags.append('a')\n",
    "        elif tag[1] in set(['RB', 'RBR', 'RBS']):\n",
    "             newtags.append('r')\n",
    "        elif tag[1] in set(['NNS', 'NN', 'NNP', 'NNPS']):\n",
    "             newtags.append('n')\n",
    "        else:\n",
    "             newtags.append('a')\n",
    "    \n",
    "    lem_words=[] #edw tha mpoun oi lematized lekseis pou exoume kratisei apo to preprocessing\n",
    "    counter=0 #vazoume ton counter gia na kanoume iterate ta stoixeia tis listas twn tags\n",
    "    for word in tagged_filtered_tokens:    \n",
    "        lem_words.append(wnl.lemmatize(word[0],newtags[counter]))\n",
    "        counter+=1\n",
    "    lem_words = [word for word in lem_words if word not in stop] #svinoume ta stopwords\n",
    "    return lem_words\n",
    "\n",
    "def tokenizer_preproccessor_imdb(text):\n",
    "    stop = nltk.corpus.stopwords.words('english')\n",
    "    stop.append('film')\n",
    "    stop.append('movie')\n",
    "    stop.append('br')\n",
    "    #kanoume preprocessing ta dedomena mas\n",
    "    word_tokens=word_tokenize(text.lower()) #kanoume tokenize\n",
    "    #print(word_tokens)\n",
    "    #print(\"Έχουμε \" + str(len(word_tokens))+ \" tokens\")\n",
    "    #filtered_word_tokens = [word for word in word_tokens if word not in stop] #svinoume ta stopwords\n",
    "    #print(\"Αφού αφαιρέσαμε τα stopwords, έχουμε τελικά \" + str(len(filtered_word_tokens)) + \" tokens\")\n",
    "    #print(filtered_word_tokens)\n",
    "    filtered_word_tokens = [re.sub(r'[^A-Za-z]+', '', x) for x in word_tokens]  #svinoume ta punctuations\n",
    "    filtered_word_tokens = [x for x in filtered_word_tokens if ((x.startswith(\"'\")==0 or x.startswith('-') or x.startswith('.')))]  #svinoume ta punctuations\n",
    "\n",
    "    #filtered_word_tokens = [x for x in filtered_word_tokens if x not in ['film','movie']]  #svinoume ta punctuations    \n",
    "    filtered_word_tokens = [word for word in filtered_word_tokens if len(word)>1] #svinoume tis mikres lekseis\n",
    "    #print(filtered_word_tokens)\n",
    "    #print(\"Αφού αφαιρέσαμε τα σημεία στίξης και τις μικρές λέξεις, έχουμε τελικά \" + str(len(filtered_word_tokens)) + \" tokens\")\n",
    "    #print(filtered_word_tokens)\n",
    "   \n",
    "    tagged_filtered_tokens=nltk.pos_tag(filtered_word_tokens) #kanoume pos tag tis lekseis gia syntaktiki analysi\n",
    "    #print(tagged_filtered_tokens)\n",
    "            #ftiaxnoume ta pos tags wste na mpoun san input sto sentisynset\n",
    "    #epeidh ta dedomena tou postag ginontai tuples, ta metatrepoume se lista\n",
    "    newtags=[] #lista me ta nea tags kai idio counter me ta tagged words\n",
    "    for tag in tagged_filtered_tokens:\n",
    "        if tag[1] in set(['VB', 'VBD', 'VBG', 'VBN', 'VBP', 'VBZ']):\n",
    "            newtags.append('v')\n",
    "        elif tag[1] in set(['JJ', 'JJR', 'JJS']):\n",
    "             newtags.append('a')\n",
    "        elif tag[1] in set(['RB', 'RBR', 'RBS']):\n",
    "             newtags.append('r')\n",
    "        elif tag[1] in set(['NNS', 'NN', 'NNP', 'NNPS']):\n",
    "             newtags.append('n')\n",
    "        else:\n",
    "             newtags.append('a')\n",
    "    \n",
    "    lem_words=[] #edw tha mpoun oi lematized lekseis pou exoume kratisei apo to preprocessing\n",
    "    counter=0 #vazoume ton counter gia na kanoume iterate ta stoixeia tis listas twn tags\n",
    "    for word in tagged_filtered_tokens:    \n",
    "        lem_words.append(wnl.lemmatize(word[0],newtags[counter]))\n",
    "        counter+=1\n",
    "    lem_words = [word for word in lem_words if word not in stop] #svinoume ta stopwords\n",
    "    #print(lem_words)\n",
    "    \n",
    "    return lem_words\n",
    "\n",
    "\n",
    "# In[5]:\n",
    "\n",
    "\n",
    "def SentimentAnalysis_Sentiwordnet(text_samples):\n",
    "    my_sentiments=[] #h lista pou tha periexei tosynaisthitiko score kathe keimenou\n",
    "    my_sentiments_class=[]\n",
    "    #print(stopwords)\n",
    "    stop = set(stopwords.words('english'))\n",
    "    for text in text_samples:\n",
    "        #kanoume preprocessing ta dedomena mas\n",
    "        word_tokens=word_tokenize(text.lower()) #kanoume tokenize\n",
    "        #print(\"Έχουμε \" + str(len(word_tokens))+ \" tokens\")\n",
    "        filtered_word_tokens = [word for word in word_tokens if word not in stop] #svinoume ta stopwords\n",
    "        #print(\"Αφού αφαιρέσαμε τα stopwords, έχουμε τελικά \" + str(len(filtered_word_tokens)) + \" tokens\")\n",
    "        #print(filtered_word_tokens)\n",
    "        filtered_word_tokens = [re.sub(r'[^A-Za-z0-9]+', '', x) for x in filtered_word_tokens]  #svinoume ta punctuations\n",
    "        filtered_word_tokens = [word for word in filtered_word_tokens if len(word)>1] #svinoume tis mikres lekseis\n",
    "        #print(\"Αφού αφαιρέσαμε τα σημεία στίξης και τις μικρές λέξεις, έχουμε τελικά \" + str(len(filtered_word_tokens)) + \" tokens\")\n",
    "        #print(filtered_word_tokens)\n",
    "        tagged_filtered_tokens=nltk.pos_tag(filtered_word_tokens) #kanoume pos tag tis lekseis gia syntaktiki analysi\n",
    "        #print(tagged_filtered_tokens)\n",
    "                #ftiaxnoume ta pos tags wste na mpoun san input sto sentisynset\n",
    "        #epeidh ta dedomena tou postag ginontai tuples, ta metatrepoume se lista\n",
    "        newtags=[] #lista me ta nea tags kai idio counter me ta tagged words\n",
    "        for tag in tagged_filtered_tokens:\n",
    "            if tag[1] in set(['VB', 'VBD', 'VBG', 'VBN', 'VBP', 'VBZ']):\n",
    "                newtags.append('v')\n",
    "            elif tag[1] in set(['JJ', 'JJR', 'JJS']):\n",
    "                 newtags.append('a')\n",
    "            elif tag[1] in set(['RB', 'RBR', 'RBS']):\n",
    "                 newtags.append('r')\n",
    "            elif tag[1] in set(['NNS', 'NN', 'NNP', 'NNPS']):\n",
    "                 newtags.append('n')\n",
    "            else:\n",
    "                 newtags.append('a')\n",
    "                    \n",
    "                    \n",
    "\n",
    "        lem_words=[] #edw tha mpoun oi lematized lekseis pou exoume kratisei apo to preprocessing\n",
    "        counter=0 #vazoume ton counter gia na kanoume iterate ta stoixeia tis listas twn tags\n",
    "        for word in tagged_filtered_tokens:    \n",
    "            lem_words.append(wnl.lemmatize(word[0],newtags[counter]))\n",
    "            counter+=1\n",
    "           # print (newtags)\n",
    "       # new_words_tags_dict = {'word':'synscore'}\n",
    "        #print(newtags,lem_words)\n",
    "            #print(lem_words)\n",
    "        #ypologizoume to synaisthima kathe leksis , mazi me to POSTAG tis\n",
    "        posscore=0\n",
    "        negscore=0\n",
    "        for i in range(len(lem_words)): \n",
    "            synsets = swn.senti_synsets(lem_words[i],newtags[i])\n",
    "            for synst in synsets: #athroizoume ta thetika kai ta arnhtika score kathe leksis\n",
    "                posscore=posscore+synst.pos_score()\n",
    "                negscore=negscore+synst.neg_score()     \n",
    "        my_sentiments.append(posscore-negscore)\n",
    "        #print(my_sentiments)\n",
    "        if (posscore-negscore)>=0:\n",
    "            my_sentiments_class.append(1)\n",
    "        else:\n",
    "            my_sentiments_class.append(0)\n",
    "    print(len(my_sentiments))\n",
    "    return(my_sentiments_class)\n",
    "\n",
    "\n",
    "# In[6]:\n",
    "\n",
    "\n",
    "def SentimentAnalysis_Vader(text_samples):\n",
    "    analyzer = SentimentIntensityAnalyzer()\n",
    "    vader_sentiments=[]\n",
    "    vader_class_sentiments=[]\n",
    "    for text in text_samples:\n",
    "        sum=0\n",
    "        #Kovoume kathe keimeno se protaseis wste na vgalei sentiment polarity o vader, ta opoia athroizoume\n",
    "        sentences=text.split('\\n')   \n",
    "        for sentence in sentences:\n",
    "            sent = analyzer.polarity_scores(sentence)\n",
    "            #print(\"{:-<65} {}\".format(sentence, vs))\n",
    "            sum=sum+sent['compound']\n",
    "        average=sum/len(sentences)\n",
    "        vader_sentiments.append(average)\n",
    "        if (average>=0):\n",
    "            vader_class_sentiments.append(1)       \n",
    "        else:\n",
    "            vader_class_sentiments.append(0)\n",
    "        #print(sentiments)\n",
    "        #print(average)\n",
    "    #Data Examination for Unnotated Dataset\n",
    "    print(\"Έχουμε \" + str(vader_class_sentiments.count(1)) + \" χαρούμενα τραγούδια\")\n",
    "    print(\"Έχουμε \" + str(vader_class_sentiments.count(0)) + \" στενάχωρα τραγούδια\")\n",
    "    return vader_class_sentiments\n",
    "\n",
    "\n",
    "# In[ ]:\n",
    "\n",
    "\n",
    "def classifier_finder(X_train,X_test,y_train,y_test):\n",
    "    classifiers=[]\n",
    "\n",
    "    scores=[]\n",
    "    model1=LogisticRegression(max_iter=1000)\n",
    "    classifiers.append(model1)\n",
    "    model2=MultinomialNB()\n",
    "    classifiers.append(model2)\n",
    "    model4 = tree.DecisionTreeClassifier()\n",
    "    classifiers.append(model4)\n",
    "    model5 = RandomForestClassifier()\n",
    "    classifiers.append(model5)\n",
    "    model6=LinearSVC(max_iter=2000)\n",
    "    classifiers.append(model6)\n",
    "    \n",
    "    \n",
    "    for clf in classifiers:\n",
    "        clf.fit(X_train, y_train)\n",
    "        \n",
    "        cvec_score = cross_val_score(clf, X_train, y_train, cv=10 )\n",
    "        \n",
    "        \n",
    "        print(\"Η επιτυχία του  %s είναι:  %s\"%(clf, cvec_score.mean()))\n",
    "        scores.append(cvec_score.mean())\n",
    "# DataFrame Accuracy \n",
    "    scores_df = pd.DataFrame()\n",
    "    scores_df['params']= ['Logistisc Regression','Multinomial Naive Bayes','Decision Tree','Random Forest','Linear SVC']\n",
    "    scores_df['scores']= scores\n",
    "    print(scores_df)\n",
    "    \n",
    "    \n",
    "def saveList(myList,filename):\n",
    "    np.save(filename,myList)\n",
    "    print(\"Saved successfully!\")\n",
    "    \n",
    "def loadList(filename):\n",
    "    tempNumpyArray=np.load(filename)\n",
    "    return tempNumpyArray.tolist()\n",
    "    \n",
    "    \n"
   ]
  },
  {
   "cell_type": "code",
   "execution_count": 2,
   "metadata": {},
   "outputs": [
    {
     "name": "stdout",
     "output_type": "stream",
     "text": [
      "Τα NULL δεδομένα στο dataset μας είναι: 0\n",
      "Έχουμε 57650 διαφορετικά τραγούδια\n",
      "0    Look at her face, it's a wonderful face  \\nAnd...\n",
      "1    Take it easy with me, please  \\nTouch me gentl...\n",
      "2    I'll never know why I had to go  \\nWhy I had t...\n",
      "3    Making somebody happy is a question of give an...\n",
      "4    Making somebody happy is a question of give an...\n",
      "5    Well, you hoot and you holler and you make me ...\n",
      "6    Down in the street they're all singing and sho...\n",
      "7    Chiquitita, tell me what's wrong  \\nYou're enc...\n",
      "8    I was out with the morning sun  \\nCouldn't sle...\n",
      "9    I'm waitin' for you baby  \\nI'm sitting all al...\n",
      "Name: text, dtype: object\n"
     ]
    }
   ],
   "source": [
    "#case #1: pairnoume to dataset me 50000 stixous to opoio den periexei synaishtimatiko skor\n",
    "path='songdata.csv'\n",
    "data = pd.read_csv(path)\n",
    "all_texts=data.text\n",
    "text_samples1=data.text\n",
    "print(\"Τα NULL δεδομένα στο dataset μας είναι: {}\".format(text_samples1.isnull().sum()))\n",
    "#text_samples=text_samples1.sample(200,random_state=1) # pairnoume ena tyxaio deigma apo ta sample mas\n",
    "text_samples=text_samples1 \n",
    "\n",
    "print(\"Έχουμε {} διαφορετικά τραγούδια\".format(text_samples.count()))\n",
    "print(text_samples.head(10))"
   ]
  },
  {
   "cell_type": "code",
   "execution_count": 5,
   "metadata": {},
   "outputs": [
    {
     "name": "stdout",
     "output_type": "stream",
     "text": [
      "Έχουμε 40128 χαρούμενα τραγούδια\n",
      "Έχουμε 17522 στενάχωρα τραγούδια\n"
     ]
    },
    {
     "data": {
      "image/png": "[encoded data removed]",
      "text/plain": [
       "<Figure size 432x288 with 1 Axes>"
      ]
     },
     "metadata": {
      "needs_background": "light"
     },
     "output_type": "display_data"
    }
   ],
   "source": [
    "#sentiment analysis with vader\n",
    "\n",
    "vader_class_sentiments=SentimentAnalysis_Vader(text_samples)\n",
    "sns.countplot(vader_class_sentiments,label=\"Count\")\n",
    "plt.show()\n",
    "\n"
   ]
  },
  {
   "cell_type": "code",
   "execution_count": 6,
   "metadata": {},
   "outputs": [],
   "source": [
    "#saveList(vader_class_sentiments,\"vader_class_sentiments.npy\")\n",
    "vader_class_sentiments=loadList(\"vader_class_sentiments.npy\")"
   ]
  },
  {
   "cell_type": "code",
   "execution_count": 7,
   "metadata": {},
   "outputs": [],
   "source": [
    "#χωρίζουμε τα σετ εκπαιδευσης και ελεγχου, ωστε να μπορούμε να αξιολογησουμε καθε μοντελο με διαφορετικα τεστ sets\n",
    "X_train_v, X_test_v, y_train_v, y_test_v = train_test_split(text_samples, vader_class_sentiments,test_size=0.2,random_state=1)\n"
   ]
  },
  {
   "cell_type": "code",
   "execution_count": 11,
   "metadata": {},
   "outputs": [
    {
     "name": "stdout",
     "output_type": "stream",
     "text": [
      "Παρουσιάζουμε την επιτυχία των vectorizers για τη συναισθηματική κλάση από vader ΧΩΡΙΣ tokenizer:\n",
      "Number of features: 73880\n",
      "to accuracy tou CountVectorizer einai: 0.7728100607111882\n"
     ]
    },
    {
     "data": {
      "image/png": "[encoded data removed]",
      "text/plain": [
       "<Figure size 432x288 with 1 Axes>"
      ]
     },
     "metadata": {
      "needs_background": "light"
     },
     "output_type": "display_data"
    },
    {
     "name": "stdout",
     "output_type": "stream",
     "text": [
      "Number of features: 73880\n",
      "to accuracy tou TFIDF einai 0.7040546400693841\n"
     ]
    },
    {
     "data": {
      "image/png": "[encoded data removed]",
      "text/plain": [
       "<Figure size 432x288 with 1 Axes>"
      ]
     },
     "metadata": {
      "needs_background": "light"
     },
     "output_type": "display_data"
    },
    {
     "name": "stdout",
     "output_type": "stream",
     "text": [
      "Παρουσιάζουμε την επιτυχία των vectorizers για τη συναισθηματική κλάση από vader ΜΕ tokenizer\n",
      "Number of features: 72672\n",
      "to accuracy tou CountVectorizer einai: 0.7801170858629661\n"
     ]
    },
    {
     "data": {
      "image/png": "[encoded data removed]",
      "text/plain": [
       "<Figure size 432x288 with 1 Axes>"
      ]
     },
     "metadata": {
      "needs_background": "light"
     },
     "output_type": "display_data"
    },
    {
     "name": "stdout",
     "output_type": "stream",
     "text": [
      "Number of features: 72672\n",
      "to accuracy tou TFIDF einai 0.7082827406764961\n"
     ]
    },
    {
     "data": {
      "image/png": "[encoded data removed]",
      "text/plain": [
       "<Figure size 432x288 with 1 Axes>"
      ]
     },
     "metadata": {
      "needs_background": "light"
     },
     "output_type": "display_data"
    }
   ],
   "source": [
    "#αξιολόγηση CountVect kai TFIDF gia synaisthimatikh analysh me VADER\n",
    "#Αξιολόγηση Vectorizers \n",
    "#θα καλέσουμε ένα απλό naive bayes μοντέλο με default χαρακτηριστικά, για κάθε vectorizer \n",
    "#χωρίς παραμετροποίηση ώστε να δούμε ποιο μοντέλο θα παραμετροποιήσουμε\n",
    "token_iser='0'\n",
    "scores=[]\n",
    "print(\"Παρουσιάζουμε την επιτυχία των vectorizers για τη συναισθηματική κλάση από vader ΧΩΡΙΣ tokenizer:\")\n",
    "scores.append(countvect_test_simple(X_train_v,X_test_v,y_train_v,y_test_v,token_iser))\n",
    "\n",
    "scores.append(tfidf_test_simple(X_train_v,X_test_v,y_train_v,y_test_v,token_iser))\n",
    "\n",
    "    \n",
    "token_iser='1'\n",
    "\n",
    "print(\"Παρουσιάζουμε την επιτυχία των vectorizers για τη συναισθηματική κλάση από vader ΜΕ tokenizer\")\n",
    "scores.append(countvect_test_simple(X_train_v,X_test_v,y_train_v,y_test_v,token_iser))\n",
    "scores.append(tfidf_test_simple(X_train_v,X_test_v,y_train_v,y_test_v,token_iser))\n",
    "\n",
    "#κραταμε CV me tokenizer"
   ]
  },
  {
   "cell_type": "code",
   "execution_count": 12,
   "metadata": {},
   "outputs": [
    {
     "data": {
      "text/html": [
       "<div>\n",
       "<style scoped>\n",
       "    .dataframe tbody tr th:only-of-type {\n",
       "        vertical-align: middle;\n",
       "    }\n",
       "\n",
       "    .dataframe tbody tr th {\n",
       "        vertical-align: top;\n",
       "    }\n",
       "\n",
       "    .dataframe thead th {\n",
       "        text-align: right;\n",
       "    }\n",
       "</style>\n",
       "<table border=\"1\" class=\"dataframe\">\n",
       "  <thead>\n",
       "    <tr style=\"text-align: right;\">\n",
       "      <th></th>\n",
       "      <th>params</th>\n",
       "      <th>scores</th>\n",
       "    </tr>\n",
       "  </thead>\n",
       "  <tbody>\n",
       "    <tr>\n",
       "      <th>0</th>\n",
       "      <td>cvec without tokenizer</td>\n",
       "      <td>0.772810</td>\n",
       "    </tr>\n",
       "    <tr>\n",
       "      <th>1</th>\n",
       "      <td>tvec without tokenizer</td>\n",
       "      <td>0.704055</td>\n",
       "    </tr>\n",
       "    <tr>\n",
       "      <th>2</th>\n",
       "      <td>cvec with tokenizer</td>\n",
       "      <td>0.780117</td>\n",
       "    </tr>\n",
       "    <tr>\n",
       "      <th>3</th>\n",
       "      <td>tvect with tokenizer</td>\n",
       "      <td>0.708283</td>\n",
       "    </tr>\n",
       "  </tbody>\n",
       "</table>\n",
       "</div>"
      ],
      "text/plain": [
       "                   params    scores\n",
       "0  cvec without tokenizer  0.772810\n",
       "1  tvec without tokenizer  0.704055\n",
       "2     cvec with tokenizer  0.780117\n",
       "3    tvect with tokenizer  0.708283"
      ]
     },
     "execution_count": 12,
     "metadata": {},
     "output_type": "execute_result"
    }
   ],
   "source": [
    "# DataFrame Vectorizer Accuracy \n",
    "acc_df = pd.DataFrame()\n",
    "acc_df['params']= ['cvec without tokenizer','tvec without tokenizer','cvec with tokenizer','tvect with tokenizer']\n",
    "acc_df['scores']= scores\n",
    "acc_df"
   ]
  },
  {
   "cell_type": "code",
   "execution_count": 16,
   "metadata": {},
   "outputs": [
    {
     "name": "stdout",
     "output_type": "stream",
     "text": [
      "Number of features: 72650\n",
      "To accuracy me Max df: 0.25 είναι : [0.77580225 0.77519514 0.76669558 0.77424111] \n",
      "Number of features: 72670\n",
      "To accuracy me Max df: 0.5 είναι : [0.78265395 0.78282741 0.7725065  0.78204683] \n",
      "Number of features: 72672\n",
      "To accuracy me Max df: 0.75 είναι : [0.78274068 0.78274068 0.77215958 0.78282741] \n",
      "Number of features: 72672\n",
      "To accuracy me Max df: 1.0 είναι : [0.78274068 0.78274068 0.77215958 0.78282741] \n",
      "Τα ποσοστα επιτυχιας του LR για το VADER με διαφορετικά max DF ειναι: [0.7729835212489159, 0.7800086730268864, 0.7801170858629661, 0.7801170858629661]\n",
      "Number of features: 72672\n",
      "To accuracy me 1-ngrams είναι : [0.78274068 0.78274068 0.77215958 0.78282741] \n",
      "Number of features: 1378205\n",
      "To accuracy me 2-ngrams είναι : [0.77103209 0.77085863 0.76903729 0.76782307] \n",
      "Number of features: 4464595\n",
      "To accuracy me 3-ngrams είναι : [0.76244579 0.76409367 0.75888985 0.75993062] \n",
      "Number of features: 8160494\n",
      "To accuracy me 4-ngrams είναι : [0.73451865 0.73894189 0.72688638 0.73746748] \n",
      "Τα ποσοστα επιτυχιας του LR για το VADER με διαφορετικά n-grams ειναι: [0.7801170858629661, 0.7696877710320902, 0.7613399826539462, 0.734453599306158]\n",
      "Number of features: 72672\n",
      "To accuracy me max features None είναι : [0.78274068 0.78274068 0.77215958 0.78282741] \n",
      "Number of features: 5000\n",
      "To accuracy me max features 5000 είναι : [0.7942758  0.79332177 0.78508239 0.79011275] \n",
      "Number of features: 20000\n",
      "To accuracy me max features 20000 είναι : [0.78404163 0.78534258 0.7745013  0.77996531] \n",
      "Number of features: 50000\n",
      "To accuracy me max features 50000 είναι : [0.78265395 0.78300087 0.77259324 0.78135299] \n",
      "Number of features: 72672\n",
      "To accuracy me max features 100000 είναι : [0.78274068 0.78274068 0.77215958 0.78282741] \n",
      "Τα ποσοστα επιτυχιας του LR για το SentiWordNet με διαφορετικά max Features ειναι: [0.7801170858629661, 0.7906981786643539, 0.7809627059843884, 0.7799002601908066, 0.7801170858629661]\n"
     ]
    }
   ],
   "source": [
    "#optimization vectorizor, opoiou einai kalyteros\n",
    "ngrams=[1,2,3,4]\n",
    "mdf_params = [0.25, 0.5, 0.75, 1.0]\n",
    "maxfeat=[None,5000,20000,50000,100000]\n",
    "\n",
    "#θα υλοποιησουμε διαφορετικους count vectorizers με logreg για να βρουμε την καλυτερη επιδοση\n",
    "#θα ορισουμε τις λιστες στις οποιες θα αποθηκευσουμε τα αποτελεσματα\n",
    "ngram_scores=[]\n",
    "mdf_scores=[]\n",
    "maxfeat_scores=[]\n",
    "\n",
    "\n",
    "token_izer='1'\n",
    "\n",
    "for mdf in mdf_params:\n",
    "    mdf_scores.append(countvect_test_maxdf(X_train_v,X_test_v,y_train_v,y_test_v,token_izer,mdf))\n",
    "print(\"Τα ποσοστα επιτυχιας του LR για το VADER με διαφορετικά max DF ειναι: {}\".format(mdf_scores))\n",
    "for n in ngrams:\n",
    "    ngram_scores.append(countvect_test_ngrams(X_train_v,X_test_v,y_train_v,y_test_v,token_izer,n))\n",
    "print(\"Τα ποσοστα επιτυχιας του LR για το VADER με διαφορετικά n-grams ειναι: {}\".format(ngram_scores))\n",
    "\n",
    "for mf in maxfeat:\n",
    "    maxfeat_scores.append(countvect_test_maxfeat(X_train_v,X_test_v,y_train_v,y_test_v,token_izer,mf))\n",
    "print(\"Τα ποσοστα επιτυχιας του LR για το SentiWordNet με διαφορετικά max Features ειναι: {}\".format(maxfeat_scores))\n"
   ]
  },
  {
   "cell_type": "code",
   "execution_count": 17,
   "metadata": {},
   "outputs": [
    {
     "name": "stdout",
     "output_type": "stream",
     "text": [
      "Τα αποτελέσματα για τα διαφορετικά ngrams είναι\n",
      "   params    scores\n",
      "0       1  0.780117\n",
      "1       2  0.769688\n",
      "2       3  0.761340\n",
      "3       4  0.734454\n"
     ]
    },
    {
     "data": {
      "image/png": "[encoded data removed]",
      "text/plain": [
       "<Figure size 432x288 with 1 Axes>"
      ]
     },
     "metadata": {
      "needs_background": "light"
     },
     "output_type": "display_data"
    },
    {
     "name": "stdout",
     "output_type": "stream",
     "text": [
      "Τα αποτελέσματα για τα διαφορετικά max df είναι\n",
      "   params    scores\n",
      "0    0.25  0.772984\n",
      "1    0.50  0.780009\n",
      "2    0.75  0.780117\n",
      "3    1.00  0.780117\n"
     ]
    },
    {
     "data": {
      "image/png": "[encoded data removed]",
      "text/plain": [
       "<Figure size 432x288 with 1 Axes>"
      ]
     },
     "metadata": {
      "needs_background": "light"
     },
     "output_type": "display_data"
    },
    {
     "name": "stdout",
     "output_type": "stream",
     "text": [
      "Τα αποτελέσματα για τα διαφορετικά max features είναι\n",
      "   params    scores\n",
      "0    None  0.780117\n",
      "1    5000  0.790698\n",
      "2   20000  0.780963\n",
      "3   50000  0.779900\n",
      "4  100000  0.780117\n"
     ]
    },
    {
     "data": {
      "image/png": "[encoded data removed]",
      "text/plain": [
       "<Figure size 432x288 with 1 Axes>"
      ]
     },
     "metadata": {
      "needs_background": "light"
     },
     "output_type": "display_data"
    }
   ],
   "source": [
    "#Δημιουργούμε Dataframes με τα διαφοερτικα αποτελέσματα μας και τα εκτυπώνουμε\n",
    "ngrams=[1,2,3,4]\n",
    "ngram_params = ['tvec gram_1','tvec gram_2','tvec gram_3','tvec gram_4']\n",
    "ngram_df = pd.DataFrame({'params':ngrams, 'scores':ngram_scores}, index=[0,1,2,3])\n",
    "print(\"Τα αποτελέσματα για τα διαφορετικά ngrams είναι\")\n",
    "print(ngram_df)\n",
    "# adding cvec score with default params\n",
    "#ngram_df = ngram_df.append(acc_df.iloc[:1,:])\n",
    "# plot scores on graph\n",
    "sns.pointplot(x='params', y='scores', data =ngram_df)\n",
    "plt.ylabel('Accuracy Score')\n",
    "plt.xlabel('ngrams')\n",
    "plt.xticks(rotation=40)\n",
    "plt.show()\n",
    "\n",
    "mdf_params = [0.25, 0.5, 0.75, 1.0]\n",
    "maxdf_df = pd.DataFrame({'params':mdf_params, 'scores':mdf_scores}, index=[0,1,2,3])\n",
    "# adding cvec score with default params\n",
    "print(\"Τα αποτελέσματα για τα διαφορετικά max df είναι\")\n",
    "print(maxdf_df)\n",
    "# plot scores on graph\n",
    "sns.pointplot(x='params', y='scores', data =maxdf_df)\n",
    "plt.ylabel('Accuracy Score')\n",
    "plt.xlabel(mdf_params)\n",
    "plt.xticks(rotation=40)\n",
    "plt.show()\n",
    "\n",
    "maxfeat=['None',5000,20000,50000,100000]\n",
    "maxfeat_df = pd.DataFrame({'params':maxfeat, 'scores':maxfeat_scores}, index=[0,1,2,3,4])\n",
    "# adding cvec score with default params\n",
    "print(\"Τα αποτελέσματα για τα διαφορετικά max features είναι\")\n",
    "print(maxfeat_df)\n",
    "#ngram_df = ngram_df.append(acc_df.iloc[:1,:])\n",
    "# plot scores on graph\n",
    "sns.pointplot(x='params', y='scores', data =maxfeat_df)\n",
    "plt.ylabel('Accuracy Score')\n",
    "plt.xlabel(maxfeat)\n",
    "plt.xticks(rotation=40)\n",
    "plt.show()\n"
   ]
  },
  {
   "cell_type": "code",
   "execution_count": 18,
   "metadata": {},
   "outputs": [
    {
     "name": "stdout",
     "output_type": "stream",
     "text": [
      "Το καλύτερο σκορ που πετύχαμε με την παραμετροποίηση ήταν το 0.7906981786643539\n"
     ]
    }
   ],
   "source": [
    "#Επιλογή καλύτερων features για τον vectorizer\n",
    "best_maxfeat=max(maxfeat_scores)#Βλέπουμε ότι το καλύτερο score είναι με maxfeat=5000\n",
    "best_ngram=max(ngram_scores)\n",
    "best_mdf=max(mdf_scores)\n",
    "print(\"Το καλύτερο σκορ που πετύχαμε με την παραμετροποίηση ήταν το {}\".format(max(best_maxfeat,best_ngram,best_mdf)))\n"
   ]
  },
  {
   "cell_type": "code",
   "execution_count": 10,
   "metadata": {},
   "outputs": [],
   "source": [
    "#δοκιμαζουμε με τον καλυτερο vectorizer διαφορετικους classifiers\n",
    "# initalise the vectoriser \n",
    "cvec = CountVectorizer(tokenizer=tokenizer_preproccessor_imdb,max_features=5000)\n",
    "# fit the training data on the model\n",
    "#transform training data into sparse matrix\n",
    "X_train_cvec=cvec.fit_transform(X_train_v)\n",
    "\n",
    "\n",
    "X_test_cvec=cvec.transform(X_test_v)\n",
    "#print(X_train_tvec)"
   ]
  },
  {
   "cell_type": "code",
   "execution_count": 49,
   "metadata": {
    "scrolled": true
   },
   "outputs": [
    {
     "name": "stderr",
     "output_type": "stream",
     "text": [
      "C:\\Users\\dtchmnt\\Anaconda3\\lib\\site-packages\\sklearn\\linear_model\\logistic.py:433: FutureWarning: Default solver will be changed to 'lbfgs' in 0.22. Specify a solver to silence this warning.\n",
      "  FutureWarning)\n"
     ]
    },
    {
     "name": "stdout",
     "output_type": "stream",
     "text": [
      "Η επιτυχία του  LogisticRegression(C=1.0, class_weight=None, dual=False, fit_intercept=True,\n",
      "          intercept_scaling=1, max_iter=1000, multi_class='warn',\n",
      "          n_jobs=None, penalty='l2', random_state=None, solver='warn',\n",
      "          tol=0.0001, verbose=0, warm_start=False) είναι:  0.8442974131094777\n",
      "Η επιτυχία του  MultinomialNB(alpha=1.0, class_prior=None, fit_prior=True) είναι:  0.7915867894605165\n",
      "Η επιτυχία του  DecisionTreeClassifier(class_weight=None, criterion='gini', max_depth=None,\n",
      "            max_features=None, max_leaf_nodes=None,\n",
      "            min_impurity_decrease=0.0, min_impurity_split=None,\n",
      "            min_samples_leaf=1, min_samples_split=2,\n",
      "            min_weight_fraction_leaf=0.0, presort=False, random_state=None,\n",
      "            splitter='best') είναι:  0.7219428886548985\n"
     ]
    },
    {
     "name": "stderr",
     "output_type": "stream",
     "text": [
      "C:\\Users\\dtchmnt\\Anaconda3\\lib\\site-packages\\sklearn\\ensemble\\forest.py:246: FutureWarning: The default value of n_estimators will change from 10 in version 0.20 to 100 in 0.22.\n",
      "  \"10 in version 0.20 to 100 in 0.22.\", FutureWarning)\n"
     ]
    },
    {
     "name": "stdout",
     "output_type": "stream",
     "text": [
      "Η επιτυχία του  RandomForestClassifier(bootstrap=True, class_weight=None, criterion='gini',\n",
      "            max_depth=None, max_features='auto', max_leaf_nodes=None,\n",
      "            min_impurity_decrease=0.0, min_impurity_split=None,\n",
      "            min_samples_leaf=1, min_samples_split=2,\n",
      "            min_weight_fraction_leaf=0.0, n_estimators=10, n_jobs=None,\n",
      "            oob_score=False, random_state=None, verbose=0,\n",
      "            warm_start=False) είναι:  0.7639203215882111\n"
     ]
    },
    {
     "name": "stderr",
     "output_type": "stream",
     "text": [
      "C:\\Users\\dtchmnt\\Anaconda3\\lib\\site-packages\\sklearn\\svm\\base.py:922: ConvergenceWarning: Liblinear failed to converge, increase the number of iterations.\n",
      "  \"the number of iterations.\", ConvergenceWarning)\n",
      "C:\\Users\\dtchmnt\\Anaconda3\\lib\\site-packages\\sklearn\\svm\\base.py:922: ConvergenceWarning: Liblinear failed to converge, increase the number of iterations.\n",
      "  \"the number of iterations.\", ConvergenceWarning)\n",
      "C:\\Users\\dtchmnt\\Anaconda3\\lib\\site-packages\\sklearn\\svm\\base.py:922: ConvergenceWarning: Liblinear failed to converge, increase the number of iterations.\n",
      "  \"the number of iterations.\", ConvergenceWarning)\n",
      "C:\\Users\\dtchmnt\\Anaconda3\\lib\\site-packages\\sklearn\\svm\\base.py:922: ConvergenceWarning: Liblinear failed to converge, increase the number of iterations.\n",
      "  \"the number of iterations.\", ConvergenceWarning)\n",
      "C:\\Users\\dtchmnt\\Anaconda3\\lib\\site-packages\\sklearn\\svm\\base.py:922: ConvergenceWarning: Liblinear failed to converge, increase the number of iterations.\n",
      "  \"the number of iterations.\", ConvergenceWarning)\n",
      "C:\\Users\\dtchmnt\\Anaconda3\\lib\\site-packages\\sklearn\\svm\\base.py:922: ConvergenceWarning: Liblinear failed to converge, increase the number of iterations.\n",
      "  \"the number of iterations.\", ConvergenceWarning)\n",
      "C:\\Users\\dtchmnt\\Anaconda3\\lib\\site-packages\\sklearn\\svm\\base.py:922: ConvergenceWarning: Liblinear failed to converge, increase the number of iterations.\n",
      "  \"the number of iterations.\", ConvergenceWarning)\n",
      "C:\\Users\\dtchmnt\\Anaconda3\\lib\\site-packages\\sklearn\\svm\\base.py:922: ConvergenceWarning: Liblinear failed to converge, increase the number of iterations.\n",
      "  \"the number of iterations.\", ConvergenceWarning)\n",
      "C:\\Users\\dtchmnt\\Anaconda3\\lib\\site-packages\\sklearn\\svm\\base.py:922: ConvergenceWarning: Liblinear failed to converge, increase the number of iterations.\n",
      "  \"the number of iterations.\", ConvergenceWarning)\n",
      "C:\\Users\\dtchmnt\\Anaconda3\\lib\\site-packages\\sklearn\\svm\\base.py:922: ConvergenceWarning: Liblinear failed to converge, increase the number of iterations.\n",
      "  \"the number of iterations.\", ConvergenceWarning)\n"
     ]
    },
    {
     "name": "stdout",
     "output_type": "stream",
     "text": [
      "Η επιτυχία του  LinearSVC(C=1.0, class_weight=None, dual=True, fit_intercept=True,\n",
      "     intercept_scaling=1, loss='squared_hinge', max_iter=2000,\n",
      "     multi_class='ovr', penalty='l2', random_state=None, tol=0.0001,\n",
      "     verbose=0) είναι:  0.8349954174767411\n",
      "                    params    scores\n",
      "0     Logistisc Regression  0.844297\n",
      "1  Multinomial Naive Bayes  0.791587\n",
      "2            Decision Tree  0.721943\n",
      "3            Random Forest  0.763920\n",
      "4               Linear SVC  0.834995\n"
     ]
    },
    {
     "name": "stderr",
     "output_type": "stream",
     "text": [
      "C:\\Users\\dtchmnt\\Anaconda3\\lib\\site-packages\\sklearn\\svm\\base.py:922: ConvergenceWarning: Liblinear failed to converge, increase the number of iterations.\n",
      "  \"the number of iterations.\", ConvergenceWarning)\n"
     ]
    }
   ],
   "source": [
    "#δοκιμαζουμε διαφορετικούς classifiers\n",
    "classifier_finder(X_train_cvec,X_test_cvec,y_train_v,y_test_v)"
   ]
  },
  {
   "cell_type": "code",
   "execution_count": 11,
   "metadata": {},
   "outputs": [
    {
     "name": "stdout",
     "output_type": "stream",
     "text": [
      "Fitting 10 folds for each of 6 candidates, totalling 60 fits\n",
      "[CV] C=0.1, penalty=l1 ...............................................\n"
     ]
    },
    {
     "name": "stderr",
     "output_type": "stream",
     "text": [
      "[Parallel(n_jobs=1)]: Using backend SequentialBackend with 1 concurrent workers.\n",
      "C:\\Users\\dtchmnt\\Anaconda3\\lib\\site-packages\\sklearn\\linear_model\\logistic.py:433: FutureWarning: Default solver will be changed to 'lbfgs' in 0.22. Specify a solver to silence this warning.\n",
      "  FutureWarning)\n"
     ]
    },
    {
     "name": "stdout",
     "output_type": "stream",
     "text": [
      "[CV] ...... C=0.1, penalty=l1, score=0.8606113158465207, total=   0.8s\n",
      "[CV] C=0.1, penalty=l1 ...............................................\n"
     ]
    },
    {
     "name": "stderr",
     "output_type": "stream",
     "text": [
      "[Parallel(n_jobs=1)]: Done   1 out of   1 | elapsed:    0.8s remaining:    0.0s\n"
     ]
    },
    {
     "name": "stdout",
     "output_type": "stream",
     "text": [
      "[CV] ...... C=0.1, penalty=l1, score=0.8668978972469109, total=   0.8s\n",
      "[CV] C=0.1, penalty=l1 ...............................................\n"
     ]
    },
    {
     "name": "stderr",
     "output_type": "stream",
     "text": [
      "[Parallel(n_jobs=1)]: Done   2 out of   2 | elapsed:    1.7s remaining:    0.0s\n"
     ]
    },
    {
     "name": "stdout",
     "output_type": "stream",
     "text": [
      "[CV] ...... C=0.1, penalty=l1, score=0.8554086277910253, total=   0.8s\n",
      "[CV] C=0.1, penalty=l1 ...............................................\n"
     ]
    },
    {
     "name": "stderr",
     "output_type": "stream",
     "text": [
      "[Parallel(n_jobs=1)]: Done   3 out of   3 | elapsed:    2.6s remaining:    0.0s\n"
     ]
    },
    {
     "name": "stdout",
     "output_type": "stream",
     "text": [
      "[CV] ...... C=0.1, penalty=l1, score=0.8642965532191632, total=   0.7s\n",
      "[CV] C=0.1, penalty=l1 ...............................................\n"
     ]
    },
    {
     "name": "stderr",
     "output_type": "stream",
     "text": [
      "[Parallel(n_jobs=1)]: Done   4 out of   4 | elapsed:    3.5s remaining:    0.0s\n"
     ]
    },
    {
     "name": "stdout",
     "output_type": "stream",
     "text": [
      "[CV] ...... C=0.1, penalty=l1, score=0.8607979184735473, total=   0.9s\n",
      "[CV] C=0.1, penalty=l1 ...............................................\n",
      "[CV] ...... C=0.1, penalty=l1, score=0.8668690372940157, total=   0.9s\n",
      "[CV] C=0.1, penalty=l1 ...............................................\n",
      "[CV] ...... C=0.1, penalty=l1, score=0.8635870743873346, total=   0.7s\n",
      "[CV] C=0.1, penalty=l1 ...............................................\n",
      "[CV] ...... C=0.1, penalty=l1, score=0.8599002385599653, total=   0.7s\n",
      "[CV] C=0.1, penalty=l1 ...............................................\n",
      "[CV] ...... C=0.1, penalty=l1, score=0.8659726740403383, total=   0.7s\n",
      "[CV] C=0.1, penalty=l1 ...............................................\n",
      "[CV] ...... C=0.1, penalty=l1, score=0.8553459119496856, total=   0.7s\n",
      "[CV] C=0.1, penalty=l2 ...............................................\n",
      "[CV] ...... C=0.1, penalty=l2, score=0.8606113158465207, total=   6.4s\n",
      "[CV] C=0.1, penalty=l2 ...............................................\n",
      "[CV] ...... C=0.1, penalty=l2, score=0.8612616518534576, total=   6.2s\n",
      "[CV] C=0.1, penalty=l2 ...............................................\n",
      "[CV] ...... C=0.1, penalty=l2, score=0.8493388250596141, total=   6.0s\n",
      "[CV] C=0.1, penalty=l2 ...............................................\n",
      "[CV] ....... C=0.1, penalty=l2, score=0.858877086494689, total=   9.9s\n",
      "[CV] C=0.1, penalty=l2 ...............................................\n",
      "[CV] ...... C=0.1, penalty=l2, score=0.8571118820468343, total=  12.3s\n",
      "[CV] C=0.1, penalty=l2 ...............................................\n",
      "[CV] ...... C=0.1, penalty=l2, score=0.8573287077189939, total=  10.5s\n",
      "[CV] C=0.1, penalty=l2 ...............................................\n",
      "[CV] ...... C=0.1, penalty=l2, score=0.8631533289958794, total=  10.0s\n",
      "[CV] C=0.1, penalty=l2 ...............................................\n",
      "[CV] ...... C=0.1, penalty=l2, score=0.8520928215137714, total=   6.7s\n",
      "[CV] C=0.1, penalty=l2 ...............................................\n",
      "[CV] ....... C=0.1, penalty=l2, score=0.857297766211234, total=   9.4s\n",
      "[CV] C=0.1, penalty=l2 ...............................................\n",
      "[CV] ...... C=0.1, penalty=l2, score=0.8479722402949469, total=  10.0s\n",
      "[CV] C=1.0, penalty=l1 ...............................................\n",
      "[CV] ...... C=1.0, penalty=l1, score=0.8519401690873618, total=   1.5s\n",
      "[CV] C=1.0, penalty=l1 ...............................................\n",
      "[CV] ...... C=1.0, penalty=l1, score=0.8538911771081725, total=   1.3s\n",
      "[CV] C=1.0, penalty=l1 ...............................................\n",
      "[CV] ....... C=1.0, penalty=l1, score=0.841968350314329, total=   1.6s\n",
      "[CV] C=1.0, penalty=l1 ...............................................\n",
      "[CV] ...... C=1.0, penalty=l1, score=0.8547582917840885, total=   1.3s\n",
      "[CV] C=1.0, penalty=l1 ...............................................\n",
      "[CV] ....... C=1.0, penalty=l1, score=0.853642671292281, total=   1.2s\n",
      "[CV] C=1.0, penalty=l1 ...............................................\n",
      "[CV] ...... C=1.0, penalty=l1, score=0.8512575888985255, total=   1.2s\n",
      "[CV] C=1.0, penalty=l1 ...............................................\n",
      "[CV] ...... C=1.0, penalty=l1, score=0.8581652569941445, total=   1.4s\n",
      "[CV] C=1.0, penalty=l1 ...............................................\n",
      "[CV] ...... C=1.0, penalty=l1, score=0.8442854044675775, total=   1.2s\n",
      "[CV] C=1.0, penalty=l1 ...............................................\n",
      "[CV] ...... C=1.0, penalty=l1, score=0.8520928215137714, total=   1.4s\n",
      "[CV] C=1.0, penalty=l1 ...............................................\n",
      "[CV] ...... C=1.0, penalty=l1, score=0.8440685317718499, total=   1.5s\n",
      "[CV] C=1.0, penalty=l2 ...............................................\n"
     ]
    },
    {
     "name": "stderr",
     "output_type": "stream",
     "text": [
      "C:\\Users\\dtchmnt\\Anaconda3\\lib\\site-packages\\sklearn\\svm\\base.py:922: ConvergenceWarning: Liblinear failed to converge, increase the number of iterations.\n",
      "  \"the number of iterations.\", ConvergenceWarning)\n"
     ]
    },
    {
     "name": "stdout",
     "output_type": "stream",
     "text": [
      "[CV] ...... C=1.0, penalty=l2, score=0.8489052677216562, total=  26.8s\n",
      "[CV] C=1.0, penalty=l2 ...............................................\n"
     ]
    },
    {
     "name": "stderr",
     "output_type": "stream",
     "text": [
      "C:\\Users\\dtchmnt\\Anaconda3\\lib\\site-packages\\sklearn\\svm\\base.py:922: ConvergenceWarning: Liblinear failed to converge, increase the number of iterations.\n",
      "  \"the number of iterations.\", ConvergenceWarning)\n"
     ]
    },
    {
     "name": "stdout",
     "output_type": "stream",
     "text": [
      "[CV] ...... C=1.0, penalty=l2, score=0.8508562757424669, total=  28.8s\n",
      "[CV] C=1.0, penalty=l2 ...............................................\n"
     ]
    },
    {
     "name": "stderr",
     "output_type": "stream",
     "text": [
      "C:\\Users\\dtchmnt\\Anaconda3\\lib\\site-packages\\sklearn\\svm\\base.py:922: ConvergenceWarning: Liblinear failed to converge, increase the number of iterations.\n",
      "  \"the number of iterations.\", ConvergenceWarning)\n"
     ]
    },
    {
     "name": "stdout",
     "output_type": "stream",
     "text": [
      "[CV] ...... C=1.0, penalty=l2, score=0.8430522436592239, total=  23.0s\n",
      "[CV] C=1.0, penalty=l2 ...............................................\n"
     ]
    },
    {
     "name": "stderr",
     "output_type": "stream",
     "text": [
      "C:\\Users\\dtchmnt\\Anaconda3\\lib\\site-packages\\sklearn\\svm\\base.py:922: ConvergenceWarning: Liblinear failed to converge, increase the number of iterations.\n",
      "  \"the number of iterations.\", ConvergenceWarning)\n"
     ]
    },
    {
     "name": "stdout",
     "output_type": "stream",
     "text": [
      "[CV] ...... C=1.0, penalty=l2, score=0.8530240624322567, total=  25.4s\n",
      "[CV] C=1.0, penalty=l2 ...............................................\n",
      "[CV] ...... C=1.0, penalty=l2, score=0.8490893321769297, total=  22.6s\n",
      "[CV] C=1.0, penalty=l2 ...............................................\n",
      "[CV] ...... C=1.0, penalty=l2, score=0.8475715524718127, total=  25.7s\n",
      "[CV] C=1.0, penalty=l2 ...............................................\n"
     ]
    },
    {
     "name": "stderr",
     "output_type": "stream",
     "text": [
      "C:\\Users\\dtchmnt\\Anaconda3\\lib\\site-packages\\sklearn\\svm\\base.py:922: ConvergenceWarning: Liblinear failed to converge, increase the number of iterations.\n",
      "  \"the number of iterations.\", ConvergenceWarning)\n"
     ]
    },
    {
     "name": "stdout",
     "output_type": "stream",
     "text": [
      "[CV] ....... C=1.0, penalty=l2, score=0.850140967252223, total=  38.9s\n",
      "[CV] C=1.0, penalty=l2 ...............................................\n",
      "[CV] ...... C=1.0, penalty=l2, score=0.8343092604641076, total=  36.3s\n",
      "[CV] C=1.0, penalty=l2 ...............................................\n"
     ]
    },
    {
     "name": "stderr",
     "output_type": "stream",
     "text": [
      "C:\\Users\\dtchmnt\\Anaconda3\\lib\\site-packages\\sklearn\\svm\\base.py:922: ConvergenceWarning: Liblinear failed to converge, increase the number of iterations.\n",
      "  \"the number of iterations.\", ConvergenceWarning)\n"
     ]
    },
    {
     "name": "stdout",
     "output_type": "stream",
     "text": [
      "[CV] ...... C=1.0, penalty=l2, score=0.8488397310778573, total=  27.3s\n",
      "[CV] C=1.0, penalty=l2 ...............................................\n",
      "[CV] ...... C=1.0, penalty=l2, score=0.8421166775103015, total=  29.7s\n",
      "[CV] C=10.0, penalty=l1 ..............................................\n",
      "[CV] ..... C=10.0, penalty=l1, score=0.8376327769347496, total=   2.1s\n",
      "[CV] C=10.0, penalty=l1 ..............................................\n",
      "[CV] ...... C=10.0, penalty=l1, score=0.841968350314329, total=   2.3s\n",
      "[CV] C=10.0, penalty=l1 ..............................................\n",
      "[CV] ..... C=10.0, penalty=l1, score=0.8306958595274225, total=   2.2s\n",
      "[CV] C=10.0, penalty=l1 ..............................................\n",
      "[CV] ..... C=10.0, penalty=l1, score=0.8398005636245394, total=   3.1s\n",
      "[CV] C=10.0, penalty=l1 ..............................................\n",
      "[CV] ...... C=10.0, penalty=l1, score=0.843235039028621, total=   2.4s\n",
      "[CV] C=10.0, penalty=l1 ..............................................\n",
      "[CV] ..... C=10.0, penalty=l1, score=0.8399826539462273, total=   2.7s\n",
      "[CV] C=10.0, penalty=l1 ..............................................\n",
      "[CV] ..... C=10.0, penalty=l1, score=0.8416829321188463, total=   2.1s\n",
      "[CV] C=10.0, penalty=l1 ..............................................\n",
      "[CV] ..... C=10.0, penalty=l1, score=0.8308392973324659, total=   2.3s\n",
      "[CV] C=10.0, penalty=l1 ..............................................\n",
      "[CV] ..... C=10.0, penalty=l1, score=0.8371286055085665, total=   2.3s\n",
      "[CV] C=10.0, penalty=l1 ..............................................\n",
      "[CV] ..... C=10.0, penalty=l1, score=0.8334417696811971, total=   2.3s\n",
      "[CV] C=10.0, penalty=l2 ..............................................\n"
     ]
    },
    {
     "name": "stderr",
     "output_type": "stream",
     "text": [
      "C:\\Users\\dtchmnt\\Anaconda3\\lib\\site-packages\\sklearn\\svm\\base.py:922: ConvergenceWarning: Liblinear failed to converge, increase the number of iterations.\n",
      "  \"the number of iterations.\", ConvergenceWarning)\n"
     ]
    },
    {
     "name": "stdout",
     "output_type": "stream",
     "text": [
      "[CV] ..... C=10.0, penalty=l2, score=0.8467374810318664, total=  24.8s\n",
      "[CV] C=10.0, penalty=l2 ..............................................\n"
     ]
    },
    {
     "name": "stderr",
     "output_type": "stream",
     "text": [
      "C:\\Users\\dtchmnt\\Anaconda3\\lib\\site-packages\\sklearn\\svm\\base.py:922: ConvergenceWarning: Liblinear failed to converge, increase the number of iterations.\n",
      "  \"the number of iterations.\", ConvergenceWarning)\n"
     ]
    },
    {
     "name": "stdout",
     "output_type": "stream",
     "text": [
      "[CV] ..... C=10.0, penalty=l2, score=0.8489052677216562, total=  23.8s\n",
      "[CV] C=10.0, penalty=l2 ..............................................\n"
     ]
    },
    {
     "name": "stderr",
     "output_type": "stream",
     "text": [
      "C:\\Users\\dtchmnt\\Anaconda3\\lib\\site-packages\\sklearn\\svm\\base.py:922: ConvergenceWarning: Liblinear failed to converge, increase the number of iterations.\n",
      "  \"the number of iterations.\", ConvergenceWarning)\n"
     ]
    },
    {
     "name": "stdout",
     "output_type": "stream",
     "text": [
      "[CV] ..... C=10.0, penalty=l2, score=0.8432690223282029, total=  20.9s\n",
      "[CV] C=10.0, penalty=l2 ..............................................\n"
     ]
    },
    {
     "name": "stderr",
     "output_type": "stream",
     "text": [
      "C:\\Users\\dtchmnt\\Anaconda3\\lib\\site-packages\\sklearn\\svm\\base.py:922: ConvergenceWarning: Liblinear failed to converge, increase the number of iterations.\n",
      "  \"the number of iterations.\", ConvergenceWarning)\n"
     ]
    },
    {
     "name": "stdout",
     "output_type": "stream",
     "text": [
      "[CV] ..... C=10.0, penalty=l2, score=0.8528072837632777, total=  26.5s\n",
      "[CV] C=10.0, penalty=l2 ..............................................\n"
     ]
    },
    {
     "name": "stderr",
     "output_type": "stream",
     "text": [
      "C:\\Users\\dtchmnt\\Anaconda3\\lib\\site-packages\\sklearn\\svm\\base.py:922: ConvergenceWarning: Liblinear failed to converge, increase the number of iterations.\n",
      "  \"the number of iterations.\", ConvergenceWarning)\n"
     ]
    },
    {
     "name": "stdout",
     "output_type": "stream",
     "text": [
      "[CV] ..... C=10.0, penalty=l2, score=0.8445359930615784, total=  35.1s\n",
      "[CV] C=10.0, penalty=l2 ..............................................\n"
     ]
    },
    {
     "name": "stderr",
     "output_type": "stream",
     "text": [
      "C:\\Users\\dtchmnt\\Anaconda3\\lib\\site-packages\\sklearn\\svm\\base.py:922: ConvergenceWarning: Liblinear failed to converge, increase the number of iterations.\n",
      "  \"the number of iterations.\", ConvergenceWarning)\n"
     ]
    },
    {
     "name": "stdout",
     "output_type": "stream",
     "text": [
      "[CV] ..... C=10.0, penalty=l2, score=0.8393321769297485, total=  49.4s\n",
      "[CV] C=10.0, penalty=l2 ..............................................\n"
     ]
    },
    {
     "name": "stderr",
     "output_type": "stream",
     "text": [
      "C:\\Users\\dtchmnt\\Anaconda3\\lib\\site-packages\\sklearn\\svm\\base.py:922: ConvergenceWarning: Liblinear failed to converge, increase the number of iterations.\n",
      "  \"the number of iterations.\", ConvergenceWarning)\n"
     ]
    },
    {
     "name": "stdout",
     "output_type": "stream",
     "text": [
      "[CV] ..... C=10.0, penalty=l2, score=0.8531771849924095, total=  24.7s\n",
      "[CV] C=10.0, penalty=l2 ..............................................\n"
     ]
    },
    {
     "name": "stderr",
     "output_type": "stream",
     "text": [
      "C:\\Users\\dtchmnt\\Anaconda3\\lib\\site-packages\\sklearn\\svm\\base.py:922: ConvergenceWarning: Liblinear failed to converge, increase the number of iterations.\n",
      "  \"the number of iterations.\", ConvergenceWarning)\n"
     ]
    },
    {
     "name": "stdout",
     "output_type": "stream",
     "text": [
      "[CV] ..... C=10.0, penalty=l2, score=0.8304055519410106, total=  34.6s\n",
      "[CV] C=10.0, penalty=l2 ..............................................\n"
     ]
    },
    {
     "name": "stderr",
     "output_type": "stream",
     "text": [
      "C:\\Users\\dtchmnt\\Anaconda3\\lib\\site-packages\\sklearn\\svm\\base.py:922: ConvergenceWarning: Liblinear failed to converge, increase the number of iterations.\n",
      "  \"the number of iterations.\", ConvergenceWarning)\n"
     ]
    },
    {
     "name": "stdout",
     "output_type": "stream",
     "text": [
      "[CV] ..... C=10.0, penalty=l2, score=0.8484059856864021, total=  20.2s\n",
      "[CV] C=10.0, penalty=l2 ..............................................\n"
     ]
    },
    {
     "name": "stderr",
     "output_type": "stream",
     "text": [
      "C:\\Users\\dtchmnt\\Anaconda3\\lib\\site-packages\\sklearn\\svm\\base.py:922: ConvergenceWarning: Liblinear failed to converge, increase the number of iterations.\n",
      "  \"the number of iterations.\", ConvergenceWarning)\n",
      "[Parallel(n_jobs=1)]: Done  60 out of  60 | elapsed: 11.8min finished\n"
     ]
    },
    {
     "name": "stdout",
     "output_type": "stream",
     "text": [
      "[CV] ..... C=10.0, penalty=l2, score=0.8382129689872045, total=  24.1s\n",
      "tuned hpyerparameters :(best parameters)  {'C': 0.1, 'penalty': 'l1'}\n",
      "accuracy : 0.8619687771032091\n"
     ]
    }
   ],
   "source": [
    "# Grid search cross validation¶\n",
    "grid={\"C\":np.logspace(-1,1,3), \"penalty\":[\"l1\",\"l2\"]}\n",
    "logreg=LogisticRegression()\n",
    "logreg_cv=GridSearchCV(logreg,grid,cv=10,verbose=5)\n",
    "logreg_cv.fit(X_train_cvec,y_train_v)\n",
    "print(\"tuned hpyerparameters :(best parameters) \",logreg_cv.best_params_)\n",
    "print(\"accuracy :\",logreg_cv.best_score_)"
   ]
  },
  {
   "cell_type": "code",
   "execution_count": 11,
   "metadata": {},
   "outputs": [
    {
     "name": "stderr",
     "output_type": "stream",
     "text": [
      "C:\\Users\\dtchmnt\\Anaconda3\\lib\\site-packages\\sklearn\\linear_model\\logistic.py:433: FutureWarning: Default solver will be changed to 'lbfgs' in 0.22. Specify a solver to silence this warning.\n",
      "  FutureWarning)\n"
     ]
    },
    {
     "data": {
      "text/plain": [
       "LogisticRegression(C=0.1, class_weight=None, dual=False, fit_intercept=True,\n",
       "          intercept_scaling=1, max_iter=100, multi_class='warn',\n",
       "          n_jobs=None, penalty='l1', random_state=None, solver='warn',\n",
       "          tol=0.0001, verbose=0, warm_start=False)"
      ]
     },
     "execution_count": 11,
     "metadata": {},
     "output_type": "execute_result"
    }
   ],
   "source": [
    "#best_clf_vader = LogisticRegression(**logreg_cv.best_params_)\n",
    "best_clf_vader=LogisticRegression(C=0.1,penalty='l1')\n",
    "best_clf_vader.fit(X_train_cvec,y_train_v)"
   ]
  },
  {
   "cell_type": "code",
   "execution_count": 23,
   "metadata": {},
   "outputs": [
    {
     "name": "stdout",
     "output_type": "stream",
     "text": [
      "Saved successfully!\n",
      "Saved successfully!\n",
      "Saved successfully!\n"
     ]
    },
    {
     "data": {
      "text/plain": [
       "['vader_cvec.pkl']"
      ]
     },
     "execution_count": 23,
     "metadata": {},
     "output_type": "execute_result"
    }
   ],
   "source": [
    "#σωζουμε τα test sets, τον best_clf_vader και τον vectorizer\n",
    "saveList(X_test_v,\"X_test_vader\")\n",
    "saveList(y_test_v,\"y_test_vader\")\n",
    "saveList(X_test_cvec,\"X_test_vader_dtm\")\n",
    "joblib.dump(best_clf_vader, 'vader_clf.pkl')\n",
    "joblib.dump(cvec, 'vader_cvec.pkl')"
   ]
  }
 ],
 "metadata": {
  "kernelspec": {
   "display_name": "Python 3",
   "language": "python",
   "name": "python3"
  },
  "language_info": {
   "codemirror_mode": {
    "name": "ipython",
    "version": 3
   },
   "file_extension": ".py",
   "mimetype": "text/x-python",
   "name": "python",
   "nbconvert_exporter": "python",
   "pygments_lexer": "ipython3",
   "version": "3.7.1"
  }
 },
 "nbformat": 4,
 "nbformat_minor": 2
}
