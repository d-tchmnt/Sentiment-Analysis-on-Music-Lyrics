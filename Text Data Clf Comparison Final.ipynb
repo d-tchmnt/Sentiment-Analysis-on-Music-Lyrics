{
 "cells": [
  {
   "cell_type": "code",
   "execution_count": 1,
   "metadata": {},
   "outputs": [
    {
     "name": "stderr",
     "output_type": "stream",
     "text": [
      "[nltk_data] Downloading package punkt to\n",
      "[nltk_data]     C:\\Users\\dtchmnt\\AppData\\Roaming\\nltk_data...\n",
      "[nltk_data]   Package punkt is already up-to-date!\n",
      "[nltk_data] Downloading package stopwords to\n",
      "[nltk_data]     C:\\Users\\dtchmnt\\AppData\\Roaming\\nltk_data...\n",
      "[nltk_data]   Package stopwords is already up-to-date!\n",
      "[nltk_data] Downloading package averaged_perceptron_tagger to\n",
      "[nltk_data]     C:\\Users\\dtchmnt\\AppData\\Roaming\\nltk_data...\n",
      "[nltk_data]   Package averaged_perceptron_tagger is already up-to-\n",
      "[nltk_data]       date!\n",
      "[nltk_data] Downloading package wordnet to\n",
      "[nltk_data]     C:\\Users\\dtchmnt\\AppData\\Roaming\\nltk_data...\n",
      "[nltk_data]   Package wordnet is already up-to-date!\n",
      "[nltk_data] Downloading package sentiwordnet to\n",
      "[nltk_data]     C:\\Users\\dtchmnt\\AppData\\Roaming\\nltk_data...\n",
      "[nltk_data]   Package sentiwordnet is already up-to-date!\n",
      "[nltk_data] Downloading package vader_lexicon to\n",
      "[nltk_data]     C:\\Users\\dtchmnt\\AppData\\Roaming\\nltk_data...\n",
      "[nltk_data]   Package vader_lexicon is already up-to-date!\n"
     ]
    }
   ],
   "source": [
    "%load ImportsDefinitions.py"
   ]
  },
  {
   "cell_type": "code",
   "execution_count": 12,
   "metadata": {},
   "outputs": [
    {
     "name": "stderr",
     "output_type": "stream",
     "text": [
      "C:\\Users\\dtchmnt\\Anaconda3\\lib\\site-packages\\sklearn\\base.py:251: UserWarning: Trying to unpickle estimator LogisticRegression from version 0.21.2 when using version 0.20.1. This might lead to breaking code or invalid results. Use at your own risk.\n",
      "  UserWarning)\n",
      "C:\\Users\\dtchmnt\\Anaconda3\\lib\\site-packages\\sklearn\\base.py:251: UserWarning: Trying to unpickle estimator CountVectorizer from version 0.21.2 when using version 0.20.1. This might lead to breaking code or invalid results. Use at your own risk.\n",
      "  UserWarning)\n"
     ]
    }
   ],
   "source": [
    "# # φορτώνουμε τους classifiers που φτιάξαμε\n",
    "imdb_clf = joblib.load('imdb_clf.pkl')\n",
    "sentiwordnet_clf = joblib.load('sentiwordnet_clf.pkl')\n",
    "vader_clf = joblib.load('vader_clf.pkl')\n",
    "#φορτωνουμε τους vectorizers που φτιάξαμε, ώστε να κάνουμε transform τα X_test με βαση αυτα τα vects\n",
    "vader_cvec = joblib.load('vader_cvec.pkl')\n",
    "sentiwordnet_cvec = joblib.load('sentiwordnet_cvec.pkl')\n",
    "imdb_tvec=joblib.load('imdb_tvec.pkl')"
   ]
  },
  {
   "cell_type": "code",
   "execution_count": 13,
   "metadata": {},
   "outputs": [],
   "source": [
    "#φορτώνουμε τα σετ ε΄λέγχου \n",
    "X_test_sentiwordnet=loadList(\"X_test_sentiwordnet.npy\")\n",
    "y_test_sentiwordnet=loadList(\"y_test_sentiwordnet.npy\")\n",
    "X_test_imdb=loadList(\"X_test_imdb.npy\")\n",
    "y_test_imdb=loadList(\"y_test_imdb.npy\")\n",
    "X_test_vader=loadList(\"X_test_vader.npy\")\n",
    "y_test_vader=loadList(\"y_test_vader.npy\")"
   ]
  },
  {
   "cell_type": "code",
   "execution_count": 14,
   "metadata": {},
   "outputs": [],
   "source": [
    "X_vader_by_vader_dtm=loadList('X_test_vader_dtm.npy')\n",
    "X_sentiwordnet_by_sentiwordnet_dtm=loadList('X_test_sentiwordnet_dtm.npy')\n",
    "X_imdb_by_imdb_dtm=loadList('X_test_imdb_dtm.npy')\n",
    "#kanoume transform ta ypoloipa dianysmata, wste na mporoume na kanoume predictions gia to ekastote X_test\n",
    "#gia ton vect tou vader\n",
    "X_sentiwordnet_by_vader_dtm = vader_cvec.transform(X_test_sentiwordnet)\n",
    "X_imdb_by_vader_dtm = vader_cvec.transform(X_test_imdb)\n",
    "#gia ton vect tou sentiwordnet\n",
    "X_vader_by_sentiwordnet_dtm = sentiwordnet_cvec.transform(X_test_vader)\n",
    "X_imdb_by_sentiwordnet_dtm = sentiwordnet_cvec.transform(X_test_imdb)\n",
    "#gia ton vect tou imdb\n",
    "X_vader_by_imdb_dtm = imdb_tvec.transform(X_test_vader)\n",
    "X_sentiwordnet_by_imdb_dtm = imdb_tvec.transform(X_test_sentiwordnet)\n"
   ]
  },
  {
   "cell_type": "code",
   "execution_count": 22,
   "metadata": {},
   "outputs": [
    {
     "name": "stdout",
     "output_type": "stream",
     "text": [
      "Η επιτυχία του ταξινομητή του Vader για το σετ δεδομένων Vader είναι 0.8638334778837814\n",
      "Η επιτυχία του ταξινομητή του Vader για το σετ δεδομένων SentiWordNet είναι 0.7676496097137901\n",
      "Η επιτυχία του ταξινομητή του Vader για το σετ δεδομένων Imdb είναι 0.6371\n",
      "Πολλαπλασιάζουμε τα σκορ που βρήκαμε\n",
      "Μέσος Όρος:  0.7561943625325238\n",
      "Μέσος Όρος μόνο για στίχους:  0.8157415437987858\n",
      "\n",
      "Η επιτυχία του ταξινομητή του SentiWordNet για το σετ δεδομένων Vader είναι 0.7393755420641804\n",
      "Η επιτυχία του ταξινομητή του SentiWordNet για το σετ δεδομένων SentiWordNet είναι 0.9300086730268864\n",
      "Η επιτυχία του ταξινομητή του SentiWordNet για το σετ δεδομένων Imdb είναι 0.5945\n",
      "Πολλαπλασιάζουμε τα σκορ που βρήκαμε\n",
      "Μέσος Όρος:  0.7546280716970223\n",
      "Μέσος Όρος μόνο για στίχους:  0.8346921075455334\n",
      "\n",
      "Η επιτυχία του ταξινομητή του Imdb για το σετ δεδομένων Vader είναι 0.6427580225498699\n",
      "Η επιτυχία του ταξινομητή του Imdb για το σετ δεδομένων SentiWordNet είναι 0.6480485689505637\n",
      "Η επιτυχία του ταξινομητή του Imdb για το σετ δεδομένων Imdb είναι 0.908\n",
      "Πολλαπλασιάζουμε τα σκορ που βρήκαμε\n",
      "Μέσος Όρος:  0.7329355305001446\n",
      "Μέσος Όρος μόνο για στίχους:  0.6454032957502168\n",
      "\n"
     ]
    }
   ],
   "source": [
    "#kanoume provlepsh gia to kathe dataset me vash ton classifier tou Vader\n",
    "#ta onomata twn metavlitwn pou apothikevoume, anaferontai prwta sto dataset gia to opoio dokimazoume, kai meta gia \n",
    "#ton classifier. Ara to vader_score_vader anaferetai ston vader classifier pou tha prospathisei na kanei predictions gia to vader\n",
    "#dataset. Antistoixa, to sentiwordnet_score_vader, shmainei pws o vader classifier tha prospathisei na kanei predictions gia to\n",
    "#set dedomenwn apo to sentiwordnet\n",
    "ypred_for_vader = vader_clf.predict(X_vader_by_vader_dtm)\n",
    "vader_score_vader=accuracy_score(y_test_vader, ypred_for_vader)\n",
    "\n",
    "ypred_for_sentiwordnet =vader_clf.predict(X_sentiwordnet_by_vader_dtm)\n",
    "sentiwordnet_score_vader = accuracy_score(y_test_sentiwordnet, ypred_for_sentiwordnet)\n",
    "\n",
    "ypred_for_imdb =vader_clf.predict(X_imdb_by_vader_dtm)\n",
    "imdb_score_vader=accuracy_score(y_test_imdb,ypred_for_imdb)\n",
    "print(\"Η επιτυχία του ταξινομητή του Vader για το σετ δεδομένων Vader είναι {}\".format(vader_score_vader))\n",
    "print(\"Η επιτυχία του ταξινομητή του Vader για το σετ δεδομένων SentiWordNet είναι {}\".format(sentiwordnet_score_vader))\n",
    "print(\"Η επιτυχία του ταξινομητή του Vader για το σετ δεδομένων Imdb είναι {}\".format(imdb_score_vader))\n",
    "print(\"Πολλαπλασιάζουμε τα σκορ που βρήκαμε\")\n",
    "print(\"Μέσος Όρος: \",(vader_score_vader+sentiwordnet_score_vader+imdb_score_vader)/3)\n",
    "print(\"Μέσος Όρος μόνο για στίχους: \",(vader_score_vader+sentiwordnet_score_vader)/2)\n",
    "print()\n",
    "#kanoume provlepsh gia to kathe dataset me vash ton classifier tou SentiWordNet\n",
    "ypred_for_vader = sentiwordnet_clf.predict(X_vader_by_sentiwordnet_dtm)\n",
    "vader_score_sentiwordnet=accuracy_score(y_test_vader, ypred_for_vader)\n",
    "\n",
    "ypred_for_sentiwordnet =sentiwordnet_clf.predict(X_sentiwordnet_by_sentiwordnet_dtm)\n",
    "sentiwordnet_score_sentiwordnet = accuracy_score(y_test_sentiwordnet, ypred_for_sentiwordnet)\n",
    "\n",
    "ypred_for_imdb =sentiwordnet_clf.predict(X_imdb_by_sentiwordnet_dtm)\n",
    "imdb_score_sentiwordnet=accuracy_score(y_test_imdb,ypred_for_imdb)\n",
    "print(\"Η επιτυχία του ταξινομητή του SentiWordNet για το σετ δεδομένων Vader είναι {}\".format(vader_score_sentiwordnet))\n",
    "print(\"Η επιτυχία του ταξινομητή του SentiWordNet για το σετ δεδομένων SentiWordNet είναι {}\".format(sentiwordnet_score_sentiwordnet))\n",
    "print(\"Η επιτυχία του ταξινομητή του SentiWordNet για το σετ δεδομένων Imdb είναι {}\".format(imdb_score_sentiwordnet))\n",
    "print(\"Πολλαπλασιάζουμε τα σκορ που βρήκαμε\")\n",
    "print(\"Μέσος Όρος: \",(vader_score_sentiwordnet+sentiwordnet_score_sentiwordnet+imdb_score_sentiwordnet)/3)\n",
    "print(\"Μέσος Όρος μόνο για στίχους: \",(vader_score_sentiwordnet+sentiwordnet_score_sentiwordnet)/2)\n",
    "\n",
    "print()\n",
    "\n",
    "#kanoume provlepsh gia to kathe dataset me vash ton classifier tou imdb\n",
    "ypred_for_vader = imdb_clf.predict(X_vader_by_imdb_dtm)\n",
    "vader_score_imdb=accuracy_score(y_test_vader, ypred_for_vader)\n",
    "\n",
    "ypred_for_sentiwordnet =imdb_clf.predict(X_sentiwordnet_by_imdb_dtm)\n",
    "sentiwordnet_score_imdb = accuracy_score(y_test_sentiwordnet, ypred_for_sentiwordnet)\n",
    "\n",
    "ypred_for_imdb =imdb_clf.predict(X_imdb_by_imdb_dtm)\n",
    "imdb_score_imdb=accuracy_score(y_test_imdb,ypred_for_imdb)\n",
    "print(\"Η επιτυχία του ταξινομητή του Imdb για το σετ δεδομένων Vader είναι {}\".format(vader_score_imdb))\n",
    "print(\"Η επιτυχία του ταξινομητή του Imdb για το σετ δεδομένων SentiWordNet είναι {}\".format(sentiwordnet_score_imdb))\n",
    "print(\"Η επιτυχία του ταξινομητή του Imdb για το σετ δεδομένων Imdb είναι {}\".format(imdb_score_imdb))\n",
    "print(\"Πολλαπλασιάζουμε τα σκορ που βρήκαμε\")\n",
    "print(\"Μέσος Όρος: \",(vader_score_imdb+sentiwordnet_score_imdb+imdb_score_imdb)/3)\n",
    "print(\"Μέσος Όρος μόνο για στίχους: \",(vader_score_imdb+sentiwordnet_score_imdb)/2)\n",
    "print()\n"
   ]
  },
  {
   "cell_type": "code",
   "execution_count": null,
   "metadata": {},
   "outputs": [],
   "source": []
  }
 ],
 "metadata": {
  "kernelspec": {
   "display_name": "Python 3",
   "language": "python",
   "name": "python3"
  },
  "language_info": {
   "codemirror_mode": {
    "name": "ipython",
    "version": 3
   },
   "file_extension": ".py",
   "mimetype": "text/x-python",
   "name": "python",
   "nbconvert_exporter": "python",
   "pygments_lexer": "ipython3",
   "version": "3.7.1"
  }
 },
 "nbformat": 4,
 "nbformat_minor": 2
}
