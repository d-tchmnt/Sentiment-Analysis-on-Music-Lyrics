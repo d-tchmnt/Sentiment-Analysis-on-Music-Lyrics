{
 "cells": [
  {
   "cell_type": "code",
   "execution_count": 53,
   "metadata": {},
   "outputs": [],
   "source": [
    "import pandas as pd\n",
    "import nltk\n",
    "path1='design_matrix.csv'\n",
    "path2='mean_emotion_ratings.csv'\n",
    "#φορτώνουμε τα 2 datasets με τα input data και τα classes\n",
    "data_input= pd.read_csv(path1)\n",
    "data_class= pd.read_csv(path2)\n",
    "music_class=[]\n",
    "#print(type(data_class['Happy'][1]))\n",
    "#τροποποιούμε το dataset των κλάσεων έτσι ώστε να έχουμε 2 κλάσεις, 1 για χαρούμενο \n",
    "#και 2 για στενάχωρο τραγούδι, αντίθετα με τις 4 κλάσεις που έχουμε ήδη φτιάξει\n",
    "for i in range (0,len(data_class)):\n",
    "    if (data_class['Happy'][i]>data_class['Sad'])[i]:\n",
    "        music_class.append(1)\n",
    "    else:\n",
    "        music_class.append(0)\n",
    "#τώρα στο music class εχουμε τις κλάσεις των συναισθημάτων μας"
   ]
  },
  {
   "cell_type": "code",
   "execution_count": 49,
   "metadata": {},
   "outputs": [],
   "source": [
    "import pandas as pd\n",
    "from sklearn import datasets, linear_model\n",
    "from sklearn.model_selection import train_test_split\n",
    "from matplotlib import pyplot as plt\n",
    "from sklearn import datasets, linear_model\n",
    "\n",
    "#accuracy_score(labels_test,pred)\n",
    "from sklearn.feature_extraction.text import CountVectorizer\n",
    "from sklearn import datasets\n",
    "from sklearn import metrics\n",
    "from sklearn.naive_bayes import GaussianNB\n",
    "X_train, X_test, y_train, y_test = train_test_split(data_input, music_class, test_size=0.2)"
   ]
  },
  {
   "cell_type": "code",
   "execution_count": 59,
   "metadata": {},
   "outputs": [
    {
     "name": "stdout",
     "output_type": "stream",
     "text": [
      "[[0 0 0 1 0 0 0 0]\n",
      " [0 0 0 0 1 0 0 0]\n",
      " [0 0 1 0 0 0 0 0]\n",
      " [0 0 0 0 0 0 1 0]\n",
      " [0 0 0 0 0 1 0 0]\n",
      " [1 0 0 0 0 0 0 0]\n",
      " [0 0 0 0 0 0 0 1]\n",
      " [0 1 0 0 0 0 0 0]]\n"
     ]
    }
   ],
   "source": [
    "#COUNT VECTORIZER ME UNIGRAM\n",
    "vect = CountVectorizer()\n",
    "#mathainoume to leksilogio tou x_train\n",
    "vect.fit(X_train)\n",
    "#to metatrepoume se dtm sparse matrix\n",
    "X_train_dtm=vect.transform(X_train)\n",
    "X_test_dtm=vect.transform(X_test)\n",
    "#Ftiaxnoume Multinomial Naive Bayes modelo\n",
    "from sklearn.naive_bayes import MultinomialNB\n",
    "nb=MultinomialNB()\n",
    "print(X_train_dtm.toarray())\n"
   ]
  }
 ],
 "metadata": {
  "kernelspec": {
   "display_name": "Python 3",
   "language": "python",
   "name": "python3"
  },
  "language_info": {
   "codemirror_mode": {
    "name": "ipython",
    "version": 3
   },
   "file_extension": ".py",
   "mimetype": "text/x-python",
   "name": "python",
   "nbconvert_exporter": "python",
   "pygments_lexer": "ipython3",
   "version": "3.7.1"
  }
 },
 "nbformat": 4,
 "nbformat_minor": 2
}
