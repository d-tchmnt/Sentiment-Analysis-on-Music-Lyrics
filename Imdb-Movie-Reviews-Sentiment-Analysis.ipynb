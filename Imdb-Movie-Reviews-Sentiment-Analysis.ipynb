{
 "cells": [
  {
   "cell_type": "code",
   "execution_count": 4,
   "metadata": {},
   "outputs": [
    {
     "name": "stderr",
     "output_type": "stream",
     "text": [
      "[nltk_data] Downloading package punkt to\n",
      "[nltk_data]     C:\\Users\\dtchmnt\\AppData\\Roaming\\nltk_data...\n",
      "[nltk_data]   Package punkt is already up-to-date!\n",
      "[nltk_data] Downloading package stopwords to\n",
      "[nltk_data]     C:\\Users\\dtchmnt\\AppData\\Roaming\\nltk_data...\n",
      "[nltk_data]   Package stopwords is already up-to-date!\n",
      "[nltk_data] Downloading package averaged_perceptron_tagger to\n",
      "[nltk_data]     C:\\Users\\dtchmnt\\AppData\\Roaming\\nltk_data...\n",
      "[nltk_data]   Package averaged_perceptron_tagger is already up-to-\n",
      "[nltk_data]       date!\n",
      "[nltk_data] Downloading package wordnet to\n",
      "[nltk_data]     C:\\Users\\dtchmnt\\AppData\\Roaming\\nltk_data...\n",
      "[nltk_data]   Package wordnet is already up-to-date!\n",
      "[nltk_data] Downloading package sentiwordnet to\n",
      "[nltk_data]     C:\\Users\\dtchmnt\\AppData\\Roaming\\nltk_data...\n",
      "[nltk_data]   Package sentiwordnet is already up-to-date!\n",
      "[nltk_data] Downloading package vader_lexicon to\n",
      "[nltk_data]     C:\\Users\\dtchmnt\\AppData\\Roaming\\nltk_data...\n",
      "[nltk_data]   Package vader_lexicon is already up-to-date!\n"
     ]
    }
   ],
   "source": [
    "# %load ImportsDefinitions.py\n",
    "#!/usr/bin/env python\n",
    "\n",
    "# In[1]:\n",
    "\n",
    "\n",
    "#Imports\n",
    "import pandas as pd\n",
    "import nltk\n",
    "from nltk.tokenize import word_tokenize\n",
    "import re\n",
    "import joblib \n",
    "import pickle\n",
    "import numpy as np\n",
    "from nltk.corpus import stopwords\n",
    "from nltk.corpus import sentiwordnet as swn\n",
    "from nltk.stem import WordNetLemmatizer\n",
    "wnl = WordNetLemmatizer()\n",
    "from sklearn.model_selection import GridSearchCV\n",
    "from sklearn.linear_model import LogisticRegression\n",
    "import time\n",
    "from sklearn.neighbors import KNeighborsClassifier\n",
    "import pandas as pd\n",
    "from sklearn import datasets, linear_model\n",
    "from sklearn.model_selection import train_test_split\n",
    "from matplotlib import pyplot as plt\n",
    "from sklearn import datasets, linear_model\n",
    "from nltk.sentiment.vader import SentimentIntensityAnalyzer\n",
    "from sklearn.model_selection import GridSearchCV, cross_val_score, cross_val_predict\n",
    "from sklearn.ensemble import RandomForestClassifier\n",
    "from sklearn import svm, tree\n",
    "\n",
    "from sklearn.svm import LinearSVC\n",
    "\n",
    "\n",
    "import seaborn as sns\n",
    "\n",
    "#accuracy_score(labels_test,pred)\n",
    "from sklearn.feature_extraction.text import CountVectorizer\n",
    "from sklearn.metrics import accuracy_score\n",
    "from sklearn.metrics import confusion_matrix\n",
    "from sklearn import datasets\n",
    "from sklearn import metrics\n",
    "from sklearn.preprocessing import StandardScaler\n",
    "from sklearn.naive_bayes import GaussianNB\n",
    "from sklearn.naive_bayes import MultinomialNB\n",
    "#accuracy_score(labels_test,pred)\n",
    "from sklearn.linear_model import LogisticRegression\n",
    "from sklearn.feature_extraction.text import TfidfVectorizer\n",
    "\n",
    "from yellowbrick.text import FreqDistVisualizer\n",
    "from yellowbrick.datasets import load_hobbies\n",
    "from sklearn.model_selection import TimeSeriesSplit\n",
    "\n",
    "\n",
    "\n",
    "from yellowbrick.classifier import ClassificationReport\n",
    "from yellowbrick.datasets import load_occupancy\n",
    "from yellowbrick.text import FreqDistVisualizer\n",
    "from yellowbrick.datasets import load_hobbies\n",
    "\n",
    "\n",
    "nltk.download('punkt')\n",
    "nltk.download('stopwords')\n",
    "nltk.download('averaged_perceptron_tagger')\n",
    "nltk.download('wordnet')\n",
    "nltk.download('sentiwordnet')\n",
    "nltk.download('vader_lexicon')\n",
    "\n",
    "\n",
    "# In[1]:\n",
    "\n",
    "\n",
    "#Ορισμός συναρτήσεων για να ελέξγχουμε τον καλύτερο vectorizer\n",
    "def tfidf_test_simple(X_train,X_test,y_train,y_test,token_izer):\n",
    "    if (token_izer=='1'):\n",
    "        tfvect= TfidfVectorizer(tokenizer=tokenizer_preproccessor)\n",
    "    elif (token_izer=='2'):\n",
    "        tfvect= TfidfVectorizer(tokenizer=tokenizer_preproccessor_imdb)\n",
    "    else:\n",
    "        tfvect= TfidfVectorizer()\n",
    "    tfidf_train = tfvect.fit_transform(X_train)\n",
    "    tfidf_test = tfvect.transform(X_test)\n",
    "    nb=MultinomialNB()\n",
    "    #train the model and timing it\n",
    "    #kanoume prediction gia to x_test_dtm\n",
    "    \n",
    "    # cross val score/ predict\n",
    "    cvec_score = cross_val_score(nb, tfidf_train, y_train, cv=4 )\n",
    "    feature_names = tfvect.get_feature_names()\n",
    "    print(\"Number of features: {}\".format(len(feature_names)))\n",
    "    print(\"to accuracy tou TFIDF me NB einai {}\".format(cvec_score.mean()))\n",
    "    \n",
    "    visualizer = FreqDistVisualizer(features=feature_names, orient='h')\n",
    "    visualizer.fit(tfidf_train)\n",
    "    visualizer.poof()\n",
    "    \n",
    "    return cvec_score.mean()\n",
    "\n",
    "def countvect_test_simple(X_train,X_test,y_train,y_test,token_izer):\n",
    "    if (token_izer=='1'):\n",
    "        countvect= CountVectorizer(tokenizer=tokenizer_preproccessor)\n",
    "    elif (token_izer=='2'):\n",
    "        countvect= CountVectorizer(tokenizer=tokenizer_preproccessor_imdb)\n",
    "    else:\n",
    "        countvect= CountVectorizer()\n",
    "    #CountVect\n",
    "    countvect.fit(X_train)\n",
    "    #to metatrepoume se dtm sparse matrix\n",
    "    X_train_dtm=countvect.transform(X_train)\n",
    "    X_test_dtm=countvect.transform(X_test)\n",
    "    #Ftiaxnoume Multinomial Naive Bayes modelo\n",
    "    nb=MultinomialNB()\n",
    "    #kanoume prediction gia to x_test_dtm\n",
    "    \n",
    "    # cross val score/ predict\n",
    "    cvec_score = cross_val_score(nb, X_train_dtm, y_train, cv=4 )\n",
    "        \n",
    "          \n",
    "    feature_names = countvect.get_feature_names()\n",
    "    print(\"Number of features: {}\".format(len(feature_names)))\n",
    "    print(\"to accuracy tou CountVectorizer me NB einai: {}\".format(cvec_score.mean()))\n",
    "    \n",
    "    visualizer = FreqDistVisualizer(features=feature_names, orient='h')\n",
    "    visualizer.fit(X_train_dtm)\n",
    "    visualizer.poof()\n",
    "    \n",
    "    return cvec_score.mean()\n",
    "\n",
    "\n",
    "# In[9]:\n",
    "\n",
    "\n",
    "#oρισμός συναρτήσεων για να ελέγχουμε το max_df\n",
    "def countvect_test_maxdf(X_train,X_test,y_train,y_test,token_izer,maxdf):\n",
    "    if (token_izer=='1'):\n",
    "        countvect= CountVectorizer(tokenizer=tokenizer_preproccessor,max_df=maxdf)\n",
    "    elif (token_izer=='2'):\n",
    "        countvect= CountVectorizer(tokenizer=tokenizer_preproccessor_imdb,max_df=maxdf)\n",
    "    else:\n",
    "        countvect= CountVectorizer(max_df=maxdf)\n",
    "    X_train_dtm = countvect.fit_transform(X_train)\n",
    "    X_test_dtm = countvect.transform(X_test)\n",
    "    nb=MultinomialNB()\n",
    "    cvec_score = cross_val_score(nb, X_train_dtm, y_train, cv=4 )\n",
    "   \n",
    "    #kanoume evaluate ta apotelesmata mas me Logistic Regression\n",
    "    feature_names = countvect.get_feature_names()\n",
    "    print(\"Number of features: {}\".format(len(feature_names)))\n",
    "    print(\"To accuracy NB me Max df: {} είναι : {} \".format(maxdf,cvec_score))\n",
    "    return cvec_score.mean()\n",
    "\n",
    "\n",
    "def tfidf_test_maxdf(X_train,X_test,y_train,y_test,token_izer,maxdf):\n",
    "    if (token_izer=='1'):\n",
    "        tfvect= TfidfVectorizer(tokenizer=tokenizer_preproccessor,max_df=maxdf)\n",
    "    elif (token_izer=='2'):\n",
    "        tfvect= TfidfVectorizer(tokenizer=tokenizer_preproccessor_imdb,max_df=maxdf)\n",
    "    else:\n",
    "        tfvect= TfidfVectorizer(max_df=maxdf)\n",
    "    tfidf_train = tfvect.fit_transform(X_train)\n",
    "    tfidf_test = tfvect.transform(X_test)\n",
    "    nb=MultinomialNB()\n",
    "    cvec_score = cross_val_score(nb, tfidf_train, y_train, cv=4 )\n",
    "    \n",
    "    #kanoume evaluate ta apotelesmata mas me Logistic Regression\n",
    "    feature_names = tfvect.get_feature_names()\n",
    "    print(\"Number of features: {}\".format(len(feature_names)))\n",
    "    print(\"To accuracy NB me max df: {} είναι : {} \".format(maxdf,cvec_score))\n",
    "    return cvec_score.mean()\n",
    "\n",
    "\n",
    "# In[12]:\n",
    "\n",
    "\n",
    "def countvect_test_ngrams(X_train,X_test,y_train,y_test,token_izer,ngrams):\n",
    "    if (token_izer=='1'):\n",
    "        countvect= CountVectorizer(tokenizer=tokenizer_preproccessor,ngram_range=(1,ngrams))\n",
    "    elif (token_izer=='2'):\n",
    "        countvect= CountVectorizer(tokenizer=tokenizer_preproccessor_imdb,ngram_range=(1,ngrams))\n",
    "    else:\n",
    "        countvect= CountVectorizer(ngram_range=(1,ngrams))\n",
    "    X_train_dtm = countvect.fit_transform(X_train)\n",
    "    X_test_dtm = countvect.transform(X_test)\n",
    "    nb=MultinomialNB()\n",
    "    cvec_score = cross_val_score(nb, X_train_dtm, y_train, cv=4 )\n",
    "   \n",
    "    #kanoume evaluate ta apotelesmata mas me Logistic Regression\n",
    "    feature_names = countvect.get_feature_names()\n",
    "    print(\"Number of features: {}\".format(len(feature_names)))\n",
    "    print(\"To accuracy NB me {}-ngrams είναι : {} \".format(ngrams,cvec_score))\n",
    "    return cvec_score.mean()\n",
    "\n",
    "def tfidf_test_ngrams(X_train,X_test,y_train,y_test,token_izer,ngrams):\n",
    "    if (token_izer=='1'):\n",
    "        tfvect= TfidfVectorizer(tokenizer=tokenizer_preproccessor,ngram_range=(1,ngrams))\n",
    "    elif (token_izer=='2'):\n",
    "        tfvect= TfidfVectorizer(tokenizer=tokenizer_preproccessor_imdb,ngram_range=(1,ngrams))\n",
    "    else:\n",
    "        tfvect= TfidfVectorizer(ngram_range=(1,ngrams))\n",
    "    tfidf_train = tfvect.fit_transform(X_train)\n",
    "    tfidf_test = tfvect.transform(X_test)\n",
    "    nb=MultinomialNB()\n",
    "    cvec_score = cross_val_score(nb, tfidf_train, y_train, cv=4 )\n",
    "    \n",
    "    #kanoume evaluate ta apotelesmata mas me Logistic Regression\n",
    "    feature_names = tfvect.get_feature_names()\n",
    "    print(\"Number of features: {}\".format(len(feature_names)))\n",
    "    print(\"To accuracy NB me {}-ngrams είναι : {} \".format(ngrams,cvec_score))\n",
    "    return cvec_score.mean()\n",
    "\n",
    "\n",
    "# In[ ]:\n",
    "\n",
    "\n",
    "def countvect_test_maxfeat(X_train,X_test,y_train,y_test,token_izer,maxfeat):  \n",
    "    if (token_izer=='1'):\n",
    "        countvect= CountVectorizer(tokenizer=tokenizer_preproccessor,max_features=maxfeat)\n",
    "    elif (token_izer=='2'):\n",
    "        countvect= CountVectorizer(tokenizer=tokenizer_preproccessor_imdb,max_features=maxfeat)\n",
    "    else:\n",
    "        countvect= CountVectorizer(max_features=maxfeat)\n",
    "    X_train_dtm = countvect.fit_transform(X_train)\n",
    "    X_test_dtm = countvect.transform(X_test)\n",
    "    nb=MultinomialNB()\n",
    "    cvec_score = cross_val_score(nb, X_train_dtm, y_train, cv=4 )\n",
    "   \n",
    "    #kanoume evaluate ta apotelesmata mas me Logistic Regression\n",
    "    feature_names = countvect.get_feature_names()\n",
    "    print(\"Number of features: {}\".format(len(feature_names)))\n",
    "    print(\"To accuracy NB me max features {} είναι : {} \".format(maxfeat,cvec_score))\n",
    "    return cvec_score.mean()\n",
    "\n",
    "def tfidf_test_maxfeat(X_train,X_test,y_train,y_test,token_izer,maxfeat):\n",
    "    if (token_izer=='1'):\n",
    "        tfvect= TfidfVectorizer(tokenizer=tokenizer_preproccessor,max_features=maxfeat)\n",
    "    elif (token_izer=='2'):\n",
    "        tfvect= TfidfVectorizer(tokenizer=tokenizer_preproccessor_imdb,max_features=maxfeat)\n",
    "    else:\n",
    "        tfvect= TfidfVectorizer(max_features=maxfeat)\n",
    "    tfidf_train = tfvect.fit_transform(X_train)\n",
    "    tfidf_test = tfvect.transform(X_test)\n",
    "    nb=MultinomialNB()\n",
    "    cvec_score = cross_val_score(nb, tfidf_train, y_train, cv=4 )\n",
    "    \n",
    "    #kanoume evaluate ta apotelesmata mas me Logistic Regression\n",
    "    feature_names = tfvect.get_feature_names()\n",
    "    print(\"Number of features: {}\".format(len(feature_names)))\n",
    "    print(\"To accuracy NB me max featurues : {} είναι : {} \".format(maxfeat,cvec_score))\n",
    "    return cvec_score.mean()\n",
    "\n",
    "\n",
    "# In[4]:\n",
    "\n",
    "\n",
    "def tokenizer_preproccessor(text):\n",
    "    stop = set(stopwords.words('english'))\n",
    "    #kanoume preprocessing ta dedomena mas\n",
    "    word_tokens=word_tokenize(text.lower()) #kanoume tokenize\n",
    "    #print(\"Έχουμε \" + str(len(word_tokens))+ \" tokens\")\n",
    "    #filtered_word_tokens = [word for word in word_tokens if word not in stop] #svinoume ta stopwords\n",
    "    #print(\"Αφού αφαιρέσαμε τα stopwords, έχουμε τελικά \" + str(len(filtered_word_tokens)) + \" tokens\")\n",
    "    #print(filtered_word_tokens)\n",
    "    filtered_word_tokens = [re.sub(r'[^A-Za-z0-9]+', '', x) for x in word_tokens]  #svinoume ta punctuations\n",
    "    #filtered_word_tokens = [x for x in filtered_word_tokens if x not in ['film','movie']]  #svinoume ta punctuations    \n",
    "    filtered_word_tokens = [word for word in filtered_word_tokens if len(word)>1] #svinoume tis mikres lekseis\n",
    "    #print(\"Αφού αφαιρέσαμε τα σημεία στίξης και τις μικρές λέξεις, έχουμε τελικά \" + str(len(filtered_word_tokens)) + \" tokens\")\n",
    "    #print(filtered_word_tokens)\n",
    "    tagged_filtered_tokens=nltk.pos_tag(filtered_word_tokens) #kanoume pos tag tis lekseis gia syntaktiki analysi\n",
    "    #print(tagged_filtered_tokens)\n",
    "            #ftiaxnoume ta pos tags wste na mpoun san input sto sentisynset\n",
    "    #epeidh ta dedomena tou postag ginontai tuples, ta metatrepoume se lista\n",
    "    newtags=[] #lista me ta nea tags kai idio counter me ta tagged words\n",
    "    for tag in tagged_filtered_tokens:\n",
    "        if tag[1] in set(['VB', 'VBD', 'VBG', 'VBN', 'VBP', 'VBZ']):\n",
    "            newtags.append('v')\n",
    "        elif tag[1] in set(['JJ', 'JJR', 'JJS']):\n",
    "             newtags.append('a')\n",
    "        elif tag[1] in set(['RB', 'RBR', 'RBS']):\n",
    "             newtags.append('r')\n",
    "        elif tag[1] in set(['NNS', 'NN', 'NNP', 'NNPS']):\n",
    "             newtags.append('n')\n",
    "        else:\n",
    "             newtags.append('a')\n",
    "    \n",
    "    lem_words=[] #edw tha mpoun oi lematized lekseis pou exoume kratisei apo to preprocessing\n",
    "    counter=0 #vazoume ton counter gia na kanoume iterate ta stoixeia tis listas twn tags\n",
    "    for word in tagged_filtered_tokens:    \n",
    "        lem_words.append(wnl.lemmatize(word[0],newtags[counter]))\n",
    "        counter+=1\n",
    "    lem_words = [word for word in lem_words if word not in stop] #svinoume ta stopwords\n",
    "    return lem_words\n",
    "\n",
    "def tokenizer_preproccessor_imdb(text):\n",
    "    stop = nltk.corpus.stopwords.words('english')\n",
    "    stop.append('film')\n",
    "    stop.append('movie')\n",
    "    stop.append('br')\n",
    "    #kanoume preprocessing ta dedomena mas\n",
    "    word_tokens=word_tokenize(text.lower()) #kanoume tokenize\n",
    "    #print(word_tokens)\n",
    "    #print(\"Έχουμε \" + str(len(word_tokens))+ \" tokens\")\n",
    "    #filtered_word_tokens = [word for word in word_tokens if word not in stop] #svinoume ta stopwords\n",
    "    #print(\"Αφού αφαιρέσαμε τα stopwords, έχουμε τελικά \" + str(len(filtered_word_tokens)) + \" tokens\")\n",
    "    #print(filtered_word_tokens)\n",
    "    filtered_word_tokens = [re.sub(r'[^A-Za-z]+', '', x) for x in word_tokens]  #svinoume ta punctuations\n",
    "    filtered_word_tokens = [x for x in filtered_word_tokens if ((x.startswith(\"'\")==0 or x.startswith('-') or x.startswith('.')))]  #svinoume ta punctuations\n",
    "\n",
    "    #filtered_word_tokens = [x for x in filtered_word_tokens if x not in ['film','movie']]  #svinoume ta punctuations    \n",
    "    filtered_word_tokens = [word for word in filtered_word_tokens if len(word)>1] #svinoume tis mikres lekseis\n",
    "    #print(filtered_word_tokens)\n",
    "    #print(\"Αφού αφαιρέσαμε τα σημεία στίξης και τις μικρές λέξεις, έχουμε τελικά \" + str(len(filtered_word_tokens)) + \" tokens\")\n",
    "    #print(filtered_word_tokens)\n",
    "   \n",
    "    tagged_filtered_tokens=nltk.pos_tag(filtered_word_tokens) #kanoume pos tag tis lekseis gia syntaktiki analysi\n",
    "    #print(tagged_filtered_tokens)\n",
    "            #ftiaxnoume ta pos tags wste na mpoun san input sto sentisynset\n",
    "    #epeidh ta dedomena tou postag ginontai tuples, ta metatrepoume se lista\n",
    "    newtags=[] #lista me ta nea tags kai idio counter me ta tagged words\n",
    "    for tag in tagged_filtered_tokens:\n",
    "        if tag[1] in set(['VB', 'VBD', 'VBG', 'VBN', 'VBP', 'VBZ']):\n",
    "            newtags.append('v')\n",
    "        elif tag[1] in set(['JJ', 'JJR', 'JJS']):\n",
    "             newtags.append('a')\n",
    "        elif tag[1] in set(['RB', 'RBR', 'RBS']):\n",
    "             newtags.append('r')\n",
    "        elif tag[1] in set(['NNS', 'NN', 'NNP', 'NNPS']):\n",
    "             newtags.append('n')\n",
    "        else:\n",
    "             newtags.append('a')\n",
    "    \n",
    "    lem_words=[] #edw tha mpoun oi lematized lekseis pou exoume kratisei apo to preprocessing\n",
    "    counter=0 #vazoume ton counter gia na kanoume iterate ta stoixeia tis listas twn tags\n",
    "    for word in tagged_filtered_tokens:    \n",
    "        lem_words.append(wnl.lemmatize(word[0],newtags[counter]))\n",
    "        counter+=1\n",
    "    lem_words = [word for word in lem_words if word not in stop] #svinoume ta stopwords\n",
    "    #print(lem_words)\n",
    "    \n",
    "    return lem_words\n",
    "\n",
    "\n",
    "# In[5]:\n",
    "\n",
    "\n",
    "def SentimentAnalysis_Sentiwordnet(text_samples):\n",
    "    my_sentiments=[] #h lista pou tha periexei tosynaisthitiko score kathe keimenou\n",
    "    my_sentiments_class=[]\n",
    "    #print(stopwords)\n",
    "    stop = set(stopwords.words('english'))\n",
    "    for text in text_samples:\n",
    "        #kanoume preprocessing ta dedomena mas\n",
    "        word_tokens=word_tokenize(text.lower()) #kanoume tokenize\n",
    "        #print(\"Έχουμε \" + str(len(word_tokens))+ \" tokens\")\n",
    "        filtered_word_tokens = [word for word in word_tokens if word not in stop] #svinoume ta stopwords\n",
    "        #print(\"Αφού αφαιρέσαμε τα stopwords, έχουμε τελικά \" + str(len(filtered_word_tokens)) + \" tokens\")\n",
    "        #print(filtered_word_tokens)\n",
    "        filtered_word_tokens = [re.sub(r'[^A-Za-z0-9]+', '', x) for x in filtered_word_tokens]  #svinoume ta punctuations\n",
    "        filtered_word_tokens = [word for word in filtered_word_tokens if len(word)>1] #svinoume tis mikres lekseis\n",
    "        #print(\"Αφού αφαιρέσαμε τα σημεία στίξης και τις μικρές λέξεις, έχουμε τελικά \" + str(len(filtered_word_tokens)) + \" tokens\")\n",
    "        #print(filtered_word_tokens)\n",
    "        tagged_filtered_tokens=nltk.pos_tag(filtered_word_tokens) #kanoume pos tag tis lekseis gia syntaktiki analysi\n",
    "        #print(tagged_filtered_tokens)\n",
    "                #ftiaxnoume ta pos tags wste na mpoun san input sto sentisynset\n",
    "        #epeidh ta dedomena tou postag ginontai tuples, ta metatrepoume se lista\n",
    "        newtags=[] #lista me ta nea tags kai idio counter me ta tagged words\n",
    "        for tag in tagged_filtered_tokens:\n",
    "            if tag[1] in set(['VB', 'VBD', 'VBG', 'VBN', 'VBP', 'VBZ']):\n",
    "                newtags.append('v')\n",
    "            elif tag[1] in set(['JJ', 'JJR', 'JJS']):\n",
    "                 newtags.append('a')\n",
    "            elif tag[1] in set(['RB', 'RBR', 'RBS']):\n",
    "                 newtags.append('r')\n",
    "            elif tag[1] in set(['NNS', 'NN', 'NNP', 'NNPS']):\n",
    "                 newtags.append('n')\n",
    "            else:\n",
    "                 newtags.append('a')\n",
    "                    \n",
    "                    \n",
    "\n",
    "        lem_words=[] #edw tha mpoun oi lematized lekseis pou exoume kratisei apo to preprocessing\n",
    "        counter=0 #vazoume ton counter gia na kanoume iterate ta stoixeia tis listas twn tags\n",
    "        for word in tagged_filtered_tokens:    \n",
    "            lem_words.append(wnl.lemmatize(word[0],newtags[counter]))\n",
    "            counter+=1\n",
    "           # print (newtags)\n",
    "       # new_words_tags_dict = {'word':'synscore'}\n",
    "        #print(newtags,lem_words)\n",
    "            #print(lem_words)\n",
    "        #ypologizoume to synaisthima kathe leksis , mazi me to POSTAG tis\n",
    "        posscore=0\n",
    "        negscore=0\n",
    "        for i in range(len(lem_words)): \n",
    "            synsets = swn.senti_synsets(lem_words[i],newtags[i])\n",
    "            for synst in synsets: #athroizoume ta thetika kai ta arnhtika score kathe leksis\n",
    "                posscore=posscore+synst.pos_score()\n",
    "                negscore=negscore+synst.neg_score()     \n",
    "        my_sentiments.append(posscore-negscore)\n",
    "        #print(my_sentiments)\n",
    "        if (posscore-negscore)>=0:\n",
    "            my_sentiments_class.append(1)\n",
    "        else:\n",
    "            my_sentiments_class.append(0)\n",
    "    print(len(my_sentiments))\n",
    "    return(my_sentiments_class)\n",
    "\n",
    "\n",
    "# In[6]:\n",
    "\n",
    "\n",
    "def SentimentAnalysis_Vader(text_samples):\n",
    "    analyzer = SentimentIntensityAnalyzer()\n",
    "    vader_sentiments=[]\n",
    "    vader_class_sentiments=[]\n",
    "    for text in text_samples:\n",
    "        sum=0\n",
    "        #Kovoume kathe keimeno se protaseis wste na vgalei sentiment polarity o vader, ta opoia athroizoume\n",
    "        sentences=text.split('\\n')   \n",
    "        for sentence in sentences:\n",
    "            sent = analyzer.polarity_scores(sentence)\n",
    "            #print(\"{:-<65} {}\".format(sentence, vs))\n",
    "            sum=sum+sent['compound']\n",
    "        average=sum/len(sentences)\n",
    "        vader_sentiments.append(average)\n",
    "        if (average>=0):\n",
    "            vader_class_sentiments.append(1)       \n",
    "        else:\n",
    "            vader_class_sentiments.append(0)\n",
    "        #print(sentiments)\n",
    "        #print(average)\n",
    "    #Data Examination for Unnotated Dataset\n",
    "    print(\"Έχουμε \" + str(vader_class_sentiments.count(1)) + \" χαρούμενα τραγούδια\")\n",
    "    print(\"Έχουμε \" + str(vader_class_sentiments.count(0)) + \" στενάχωρα τραγούδια\")\n",
    "    return vader_class_sentiments\n",
    "\n",
    "\n",
    "# In[ ]:\n",
    "\n",
    "\n",
    "def classifier_finder(X_train,X_test,y_train,y_test):\n",
    "    classifiers=[]\n",
    "\n",
    "    scores=[]\n",
    "    model1=LogisticRegression(max_iter=1000)\n",
    "    classifiers.append(model1)\n",
    "    model2=MultinomialNB()\n",
    "    classifiers.append(model2)\n",
    "    model4 = tree.DecisionTreeClassifier()\n",
    "    classifiers.append(model4)\n",
    "    model5 = RandomForestClassifier()\n",
    "    classifiers.append(model5)\n",
    "    model6=LinearSVC(max_iter=2000)\n",
    "    classifiers.append(model6)\n",
    "    \n",
    "    \n",
    "    for clf in classifiers:\n",
    "        clf.fit(X_train, y_train)\n",
    "        \n",
    "        cvec_score = cross_val_score(clf, X_train, y_train, cv=10 )\n",
    "        \n",
    "        \n",
    "        print(\"Η επιτυχία του  %s είναι:  %s\"%(clf, cvec_score.mean()))\n",
    "        scores.append(cvec_score.mean())\n",
    "# DataFrame Accuracy \n",
    "    scores_df = pd.DataFrame()\n",
    "    scores_df['params']= ['Logistisc Regression','Multinomial Naive Bayes','Decision Tree','Random Forest','Linear SVC']\n",
    "    scores_df['scores']= scores\n",
    "    print(scores_df)\n",
    "\n",
    "\n",
    "# In[ ]:\n",
    "\n",
    "\n",
    "def classifier_finder_music(X_train,y_train):\n",
    "    classifiers=[]\n",
    "    #COUNT VECTORIZER\n",
    "\n",
    "    model1=LogisticRegression()\n",
    "    classifiers.append(model1)\n",
    "    model2 = tree.DecisionTreeClassifier()\n",
    "    classifiers.append(model2)\n",
    "    model3 = RandomForestClassifier()\n",
    "    classifiers.append(model3)\n",
    "    model4=LinearSVC()\n",
    "    classifiers.append(model4)\n",
    "    model5 = KNeighborsClassifier()\n",
    "    classifiers.append(model5)\n",
    "    scorelist=[]\n",
    "\n",
    "    for clf in classifiers:\n",
    "        clf.fit(X_train, y_train)\n",
    "        cvec_score = cross_val_score(clf, X_train, y_train, cv=10)\n",
    "        print(\"Τα αποτελέσματα του Cross-Validation για τον {} είναι:  {} \".format(clf,cvec_score.mean()))                                      \n",
    "        scorelist.append(cvec_score.mean())\n",
    "# DataFrame Accuracy \n",
    "    scores_df = pd.DataFrame()\n",
    "    scores_df['params']= ['Logistisc Regression','Decision Tree','Random Forest','Linear SVC','K-nn']\n",
    "    scores_df['scores']= scorelist\n",
    "    print(scores_df)\n",
    "    \n",
    "\n",
    "\n",
    "# In[1]:\n",
    "\n",
    "\n",
    "#δημιουργούμε συναρτήσεις για να αποθηκεύουμε και να φορτώνουμε  τις λίστες που θα φτιάξουμε με την ανάλυση του vader \n",
    "#και του sentiwordnet\n",
    "def saveList(myList,filename):\n",
    "    np.save(filename,myList)\n",
    "    print(\"Saved successfully!\")\n",
    "    \n",
    "def loadList(filename):\n",
    "    tempNumpyArray=np.load(filename,allow_pickle=True)\n",
    "    return tempNumpyArray.tolist()\n",
    "\n",
    "\n",
    "# In[ ]:\n",
    "\n",
    "\n",
    "\n",
    "\n"
   ]
  },
  {
   "cell_type": "code",
   "execution_count": 5,
   "metadata": {},
   "outputs": [
    {
     "name": "stdout",
     "output_type": "stream",
     "text": [
      "                                              review sentiment\n",
      "0  One of the other reviewers has mentioned that ...  positive\n",
      "1  A wonderful little production. <br /><br />The...  positive\n",
      "2  I thought this was a wonderful way to spend ti...  positive\n",
      "3  Basically there's a family where a little boy ...  negative\n",
      "4  Petter Mattei's \"Love in the Time of Money\" is...  positive\n",
      "Τα NULL δεδομένα στο dataset μας είναι: review       0\n",
      "sentiment    0\n",
      "dtype: int64\n",
      "Έχουμε 50000 κριτικές στο dataset μας\n"
     ]
    }
   ],
   "source": [
    "#fortwnoume to dataset me ta reviews apo to imdb\n",
    "X_all= pd.read_csv('IMDBDataset.csv', header=0)\n",
    "print(X_all.head(5))\n",
    "#kanoume examine ta dedomena mas, data examination\n",
    "#X=X_all.sample(100,random_state=1) # pairnoume ena tyxaio deigma apo ta sample mas\n",
    "X=X_all\n",
    "numOfRows = X.shape[0]\n",
    "print(\"Τα NULL δεδομένα στο dataset μας είναι: {}\".format(X.isnull().sum()))\n",
    "print('Έχουμε {} κριτικές στο dataset μας'.format(numOfRows))\n",
    "\n",
    "sentiments=[]\n",
    "for x in X['sentiment']:\n",
    "    #print(x)\n",
    "    if (x=='positive'):\n",
    "        sentiments.append(1)\n",
    "        #print(x)\n",
    "    else:\n",
    "        sentiments.append(0)\n",
    "#print(sentiments)"
   ]
  },
  {
   "cell_type": "code",
   "execution_count": 6,
   "metadata": {},
   "outputs": [
    {
     "data": {
      "image/png": "[encoded data removed]",
      "text/plain": [
       "<Figure size 432x288 with 1 Axes>"
      ]
     },
     "metadata": {
      "needs_background": "light"
     },
     "output_type": "display_data"
    },
    {
     "name": "stdout",
     "output_type": "stream",
     "text": [
      "Έχουμε 25000 χαρούμενα τραγούδια\n",
      "Έχουμε 25000 στενάχωρα τραγούδια\n"
     ]
    }
   ],
   "source": [
    "sns.countplot(sentiments,label=\"Count\")\n",
    "plt.show()\n",
    "print(\"Έχουμε {} χαρούμενα τραγούδια\".format(sentiments.count(1)))\n",
    "print(\"Έχουμε {} στενάχωρα τραγούδια\".format(sentiments.count(0)))"
   ]
  },
  {
   "cell_type": "code",
   "execution_count": 7,
   "metadata": {},
   "outputs": [],
   "source": [
    "X_train, X_test, y_train, y_test = train_test_split(X['review'], sentiments, test_size=0.2, random_state=2)"
   ]
  },
  {
   "cell_type": "code",
   "execution_count": 8,
   "metadata": {},
   "outputs": [
    {
     "name": "stdout",
     "output_type": "stream",
     "text": [
      "Παρουσιάζουμε την επιτυχία των vectorizers για τη συναισθηματική κλάση από SentiWordNet ΧΩΡΙΣ ΤΟΚΕΝΙΖΕR\n",
      "Number of features: 92882\n",
      "to accuracy tou CountVectorizer me NB einai: 0.8466500942490011\n"
     ]
    },
    {
     "data": {
      "image/png": "[encoded data removed]",
      "text/plain": [
       "<Figure size 432x288 with 1 Axes>"
      ]
     },
     "metadata": {
      "needs_background": "light"
     },
     "output_type": "display_data"
    },
    {
     "name": "stdout",
     "output_type": "stream",
     "text": [
      "Number of features: 92882\n",
      "to accuracy tou TFIDF me NB einai 0.8610001468192514\n"
     ]
    },
    {
     "data": {
      "image/png": "[encoded data removed]",
      "text/plain": [
       "<Figure size 432x288 with 1 Axes>"
      ]
     },
     "metadata": {
      "needs_background": "light"
     },
     "output_type": "display_data"
    },
    {
     "name": "stdout",
     "output_type": "stream",
     "text": [
      "Παρουσιάζουμε την επιτυχία των vectorizers για τη συναισθηματική κλάση από SentiWordNet ΜΕ ΤΟΚΕΝΙΖΕR\n",
      "Number of features: 108978\n",
      "to accuracy tou CountVectorizer me NB einai: 0.8562751167917511\n"
     ]
    },
    {
     "data": {
      "image/png": "[encoded data removed]",
      "text/plain": [
       "<Figure size 432x288 with 1 Axes>"
      ]
     },
     "metadata": {
      "needs_background": "light"
     },
     "output_type": "display_data"
    },
    {
     "name": "stdout",
     "output_type": "stream",
     "text": [
      "Number of features: 108978\n",
      "to accuracy tou TFIDF me NB einai 0.8618500543180005\n"
     ]
    },
    {
     "data": {
      "image/png": "[encoded data removed]",
      "text/plain": [
       "<Figure size 432x288 with 1 Axes>"
      ]
     },
     "metadata": {
      "needs_background": "light"
     },
     "output_type": "display_data"
    }
   ],
   "source": [
    "#αξιολόγηση CountVect kai TFIDF gia synaisthimatikh analysh me SentiWordNet\n",
    "\n",
    "token_iser='0'\n",
    "scores=[]\n",
    "\n",
    "print(\"Παρουσιάζουμε την επιτυχία των vectorizers για τη συναισθηματική κλάση από SentiWordNet ΧΩΡΙΣ ΤΟΚΕΝΙΖΕR\")\n",
    "scores.append(countvect_test_simple(X_train,X_test,y_train,y_test,token_iser))\n",
    "scores.append(tfidf_test_simple(X_train,X_test,y_train,y_test,token_iser))\n",
    "\n",
    "token_iser='2'\n",
    "\n",
    "print(\"Παρουσιάζουμε την επιτυχία των vectorizers για τη συναισθηματική κλάση από SentiWordNet ΜΕ ΤΟΚΕΝΙΖΕR\")\n",
    "scores.append(countvect_test_simple(X_train,X_test,y_train,y_test,token_iser))\n",
    "scores.append(tfidf_test_simple(X_train,X_test,y_train,y_test,token_iser))\n",
    "\n"
   ]
  },
  {
   "cell_type": "code",
   "execution_count": 9,
   "metadata": {},
   "outputs": [
    {
     "data": {
      "text/html": [
       "<div>\n",
       "<style scoped>\n",
       "    .dataframe tbody tr th:only-of-type {\n",
       "        vertical-align: middle;\n",
       "    }\n",
       "\n",
       "    .dataframe tbody tr th {\n",
       "        vertical-align: top;\n",
       "    }\n",
       "\n",
       "    .dataframe thead th {\n",
       "        text-align: right;\n",
       "    }\n",
       "</style>\n",
       "<table border=\"1\" class=\"dataframe\">\n",
       "  <thead>\n",
       "    <tr style=\"text-align: right;\">\n",
       "      <th></th>\n",
       "      <th>params</th>\n",
       "      <th>scores</th>\n",
       "    </tr>\n",
       "  </thead>\n",
       "  <tbody>\n",
       "    <tr>\n",
       "      <th>0</th>\n",
       "      <td>cvec without tokenizer</td>\n",
       "      <td>0.846650</td>\n",
       "    </tr>\n",
       "    <tr>\n",
       "      <th>1</th>\n",
       "      <td>tvec without tokenizer</td>\n",
       "      <td>0.861000</td>\n",
       "    </tr>\n",
       "    <tr>\n",
       "      <th>2</th>\n",
       "      <td>cvec with tokenizer</td>\n",
       "      <td>0.856275</td>\n",
       "    </tr>\n",
       "    <tr>\n",
       "      <th>3</th>\n",
       "      <td>tvect with tokenizer</td>\n",
       "      <td>0.861850</td>\n",
       "    </tr>\n",
       "  </tbody>\n",
       "</table>\n",
       "</div>"
      ],
      "text/plain": [
       "                   params    scores\n",
       "0  cvec without tokenizer  0.846650\n",
       "1  tvec without tokenizer  0.861000\n",
       "2     cvec with tokenizer  0.856275\n",
       "3    tvect with tokenizer  0.861850"
      ]
     },
     "execution_count": 9,
     "metadata": {},
     "output_type": "execute_result"
    }
   ],
   "source": [
    "# DataFrame Vectorizer Accuracy \n",
    "acc_df = pd.DataFrame()\n",
    "acc_df['params']= ['cvec without tokenizer','tvec without tokenizer','cvec with tokenizer','tvect with tokenizer']\n",
    "acc_df['scores']= scores\n",
    "acc_df"
   ]
  },
  {
   "cell_type": "code",
   "execution_count": 10,
   "metadata": {
    "scrolled": true
   },
   "outputs": [
    {
     "name": "stdout",
     "output_type": "stream",
     "text": [
      "Number of features: 5000\n",
      "To accuracy NB me max featurues : 5000 είναι : [0.85161484 0.8478     0.8485     0.8529853 ] \n",
      "Number of features: 20000\n",
      "To accuracy NB me max featurues : 20000 είναι : [0.85941406 0.8573     0.859      0.86328633] \n",
      "Number of features: 50000\n",
      "To accuracy NB me max featurues : 50000 είναι : [0.86231377 0.8598     0.8607     0.86468647] \n",
      "Number of features: 100000\n",
      "To accuracy NB me max featurues : 100000 είναι : [0.86251375 0.8594     0.8607     0.86488649] \n",
      "Number of features: 108978\n",
      "To accuracy NB me max featurues : None είναι : [0.86251375 0.8593     0.8609     0.86468647] \n",
      "Τα ποσοστα επιτυχιας του LR για το SentiWordNet με διαφορετικά max Features ειναι: [0.8502250342615003, 0.859750096806751, 0.8618750593175006, 0.8618750593185006, 0.8618500543180005]\n",
      "Number of features: 108948\n",
      "To accuracy NB me max df: 0.25 είναι : [0.86191381 0.8574     0.8606     0.86328633] \n",
      "Number of features: 108975\n",
      "To accuracy NB me max df: 0.5 είναι : [0.86381362 0.8604     0.8612     0.8639864 ] \n",
      "Number of features: 108978\n",
      "To accuracy NB me max df: 0.75 είναι : [0.86251375 0.8593     0.8609     0.86468647] \n",
      "Number of features: 108978\n",
      "To accuracy NB me max df: 1.0 είναι : [0.86251375 0.8593     0.8609     0.86468647] \n",
      "Τα ποσοστα επιτυχιας του LR για το SentiWordNet με διαφορετικά max DF ειναι: [0.8608000343130003, 0.8623500043195, 0.8618500543180005, 0.8618500543180005]\n",
      "Number of features: 108978\n",
      "To accuracy NB me 1-ngrams είναι : [0.86251375 0.8593     0.8609     0.86468647] \n",
      "Number of features: 2425663\n",
      "To accuracy NB me 2-ngrams είναι : [0.88291171 0.8785     0.8792     0.8849885 ] \n",
      "Number of features: 6581465\n",
      "To accuracy NB me 3-ngrams είναι : [0.8840116  0.8796     0.8795     0.88748875] \n",
      "Number of features: 10962766\n",
      "To accuracy NB me 4-ngrams είναι : [0.8840116  0.879      0.8796     0.88708871] \n",
      "Τα ποσοστα επιτυχιας του LR για το SentiWordNet με διαφορετικά n-grams ειναι: [0.8618500543180005, 0.8814000519197505, 0.882650086928751, 0.8824250769277509]\n"
     ]
    }
   ],
   "source": [
    "#Αναζητούμε τις καλύτερες παραμέτρους για το dataset μας\n",
    "#parametropoihsh vectorizer\n",
    "ngrams=[1,2,3,4]\n",
    "mdf_params = [0.25, 0.5, 0.75, 1.0]\n",
    "maxfeat=[5000,20000,50000,100000,None]\n",
    "\n",
    "#θα υλοποιησουμε διαφορετικους count vectorizers με logreg για να βρουμε την καλυτερη επιδοση\n",
    "#θα ορισουμε τις λιστες στις οποιες θα αποθηκευσουμε τα αποτελεσματα\n",
    "ngram_scores=[]\n",
    "mdf_scores=[]\n",
    "maxfeat_scores=[]\n",
    "\n",
    "\n",
    "token_izer='2'\n",
    "\n",
    "for mf in maxfeat:\n",
    "    maxfeat_scores.append(tfidf_test_maxfeat(X_train,X_test,y_train,y_test,token_izer,mf))\n",
    "print(\"Τα ποσοστα επιτυχιας του LR για το SentiWordNet με διαφορετικά max Features ειναι: {}\".format(maxfeat_scores))\n",
    "\n",
    "for mdf in mdf_params:\n",
    "    mdf_scores.append(tfidf_test_maxdf(X_train,X_test,y_train,y_test,token_izer,mdf))\n",
    "print(\"Τα ποσοστα επιτυχιας του LR για το SentiWordNet με διαφορετικά max DF ειναι: {}\".format(mdf_scores))\n",
    "for n in ngrams:\n",
    "    ngram_scores.append(tfidf_test_ngrams(X_train,X_test,y_train,y_test,token_izer,n))\n",
    "print(\"Τα ποσοστα επιτυχιας του LR για το SentiWordNet με διαφορετικά n-grams ειναι: {}\".format(ngram_scores))\n"
   ]
  },
  {
   "cell_type": "code",
   "execution_count": 11,
   "metadata": {},
   "outputs": [
    {
     "name": "stdout",
     "output_type": "stream",
     "text": [
      "Τα αποτελέσματα για τα διαφορετικά ngrams είναι\n",
      "   params    scores\n",
      "0       1  0.861850\n",
      "1       2  0.881400\n",
      "2       3  0.882650\n",
      "3       4  0.882425\n"
     ]
    },
    {
     "data": {
      "image/png": "[encoded data removed]",
      "text/plain": [
       "<Figure size 432x288 with 1 Axes>"
      ]
     },
     "metadata": {
      "needs_background": "light"
     },
     "output_type": "display_data"
    },
    {
     "name": "stdout",
     "output_type": "stream",
     "text": [
      "Τα αποτελέσματα για τα διαφορετικά max df είναι\n",
      "   params   scores\n",
      "0    0.25  0.86080\n",
      "1    0.50  0.86235\n",
      "2    0.75  0.86185\n",
      "3    1.00  0.86185\n"
     ]
    },
    {
     "data": {
      "image/png": "[encoded data removed]",
      "text/plain": [
       "<Figure size 432x288 with 1 Axes>"
      ]
     },
     "metadata": {
      "needs_background": "light"
     },
     "output_type": "display_data"
    },
    {
     "name": "stdout",
     "output_type": "stream",
     "text": [
      "Τα αποτελέσματα για τα διαφορετικά max features είναι\n",
      "   params    scores\n",
      "0    None  0.850225\n",
      "1    5000  0.859750\n",
      "2   20000  0.861875\n",
      "3   50000  0.861875\n",
      "4  100000  0.861850\n"
     ]
    },
    {
     "data": {
      "image/png": "[encoded data removed]",
      "text/plain": [
       "<Figure size 432x288 with 1 Axes>"
      ]
     },
     "metadata": {
      "needs_background": "light"
     },
     "output_type": "display_data"
    }
   ],
   "source": [
    "#Δημιουργούμε Dataframes με τα διαφοερτικα αποτελέσματα μας και τα εκτυπώνουμε\n",
    "ngrams=[1,2,3,4]\n",
    "ngram_params = ['tvec gram_1','tvec gram_2','tvec gram_3','tvec gram_4']\n",
    "ngram_df = pd.DataFrame({'params':ngrams, 'scores':ngram_scores}, index=[0,1,2,3])\n",
    "print(\"Τα αποτελέσματα για τα διαφορετικά ngrams είναι\")\n",
    "print(ngram_df)\n",
    "# adding cvec score with default params\n",
    "#ngram_df = ngram_df.append(acc_df.iloc[:1,:])\n",
    "# plot scores on graph\n",
    "sns.pointplot(x='params', y='scores', data =ngram_df)\n",
    "plt.ylabel('Accuracy Score')\n",
    "plt.xlabel('ngrams')\n",
    "plt.xticks(rotation=40)\n",
    "plt.show()\n",
    "\n",
    "mdf_params = [0.25, 0.5, 0.75, 1.0]\n",
    "maxdf_df = pd.DataFrame({'params':mdf_params, 'scores':mdf_scores}, index=[0,1,2,3])\n",
    "# adding cvec score with default params\n",
    "print(\"Τα αποτελέσματα για τα διαφορετικά max df είναι\")\n",
    "print(maxdf_df)\n",
    "# plot scores on graph\n",
    "sns.pointplot(x='params', y='scores', data =maxdf_df)\n",
    "plt.ylabel('Accuracy Score')\n",
    "plt.xlabel(mdf_params)\n",
    "plt.xticks(rotation=40)\n",
    "plt.show()\n",
    "\n",
    "maxfeat=['None',5000,20000,50000,100000]\n",
    "maxfeat_df = pd.DataFrame({'params':maxfeat, 'scores':maxfeat_scores}, index=[0,1,2,3,4])\n",
    "# adding cvec score with default params\n",
    "print(\"Τα αποτελέσματα για τα διαφορετικά max features είναι\")\n",
    "print(maxfeat_df)\n",
    "#ngram_df = ngram_df.append(acc_df.iloc[:1,:])\n",
    "# plot scores on graph\n",
    "sns.pointplot(x='params', y='scores', data =maxfeat_df)\n",
    "plt.ylabel('Accuracy Score')\n",
    "plt.xlabel(maxfeat)\n",
    "plt.xticks(rotation=40)\n",
    "plt.show()\n",
    "\n",
    "\n",
    "\n",
    "\n",
    "\n"
   ]
  },
  {
   "cell_type": "code",
   "execution_count": 12,
   "metadata": {},
   "outputs": [
    {
     "name": "stdout",
     "output_type": "stream",
     "text": [
      "0.8618750593185006\n",
      "0.882650086928751\n",
      "0.8623500043195\n"
     ]
    }
   ],
   "source": [
    "#Επιλογή καλύτερων features για τον vectorizer\n",
    "print(max(maxfeat_scores))#Βλέπουμε ότι το καλύτερο score είναι με maxfeat=None\n",
    "print(max(ngram_scores))\n",
    "print(max(mdf_scores))\n"
   ]
  },
  {
   "cell_type": "code",
   "execution_count": 13,
   "metadata": {},
   "outputs": [],
   "source": [
    "#δοκιμαζουμε με τον καλυτερο vectorizer διαφορετικους classifiers\n",
    "# initalise the vectoriser \n",
    "tvec = TfidfVectorizer(tokenizer=tokenizer_preproccessor_imdb,ngram_range=(1,3))\n",
    "# fit the training data on the model\n",
    "#transform training data into sparse matrix\n",
    "X_train_tvec=tvec.fit_transform(X_train)\n",
    "\n",
    "\n",
    "X_test_tvec=tvec.transform(X_test)\n",
    "#print(X_train_tvec)"
   ]
  },
  {
   "cell_type": "code",
   "execution_count": 14,
   "metadata": {},
   "outputs": [
    {
     "name": "stderr",
     "output_type": "stream",
     "text": [
      "C:\\Users\\dtchmnt\\Anaconda3\\lib\\site-packages\\sklearn\\linear_model\\logistic.py:433: FutureWarning: Default solver will be changed to 'lbfgs' in 0.22. Specify a solver to silence this warning.\n",
      "  FutureWarning)\n",
      "C:\\Users\\dtchmnt\\Anaconda3\\lib\\site-packages\\sklearn\\linear_model\\logistic.py:433: FutureWarning: Default solver will be changed to 'lbfgs' in 0.22. Specify a solver to silence this warning.\n",
      "  FutureWarning)\n"
     ]
    },
    {
     "name": "stdout",
     "output_type": "stream",
     "text": [
      "Η επιτυχία του  LogisticRegression(C=1.0, class_weight=None, dual=False, fit_intercept=True,\n",
      "          intercept_scaling=1, max_iter=1000, multi_class='warn',\n",
      "          n_jobs=None, penalty='l2', random_state=None, solver='warn',\n",
      "          tol=0.0001, verbose=0, warm_start=False) είναι:  0.8810252798422049\n",
      "Η επιτυχία του  MultinomialNB(alpha=1.0, class_prior=None, fit_prior=True) είναι:  0.8847748298984268\n",
      "Η επιτυχία του  DecisionTreeClassifier(class_weight=None, criterion='gini', max_depth=None,\n",
      "            max_features=None, max_leaf_nodes=None,\n",
      "            min_impurity_decrease=0.0, min_impurity_split=None,\n",
      "            min_samples_leaf=1, min_samples_split=2,\n",
      "            min_weight_fraction_leaf=0.0, presort=False, random_state=None,\n",
      "            splitter='best') είναι:  0.729149871646867\n"
     ]
    },
    {
     "name": "stderr",
     "output_type": "stream",
     "text": [
      "C:\\Users\\dtchmnt\\Anaconda3\\lib\\site-packages\\sklearn\\ensemble\\forest.py:246: FutureWarning: The default value of n_estimators will change from 10 in version 0.20 to 100 in 0.22.\n",
      "  \"10 in version 0.20 to 100 in 0.22.\", FutureWarning)\n"
     ]
    },
    {
     "name": "stdout",
     "output_type": "stream",
     "text": [
      "Η επιτυχία του  RandomForestClassifier(bootstrap=True, class_weight=None, criterion='gini',\n",
      "            max_depth=None, max_features='auto', max_leaf_nodes=None,\n",
      "            min_impurity_decrease=0.0, min_impurity_split=None,\n",
      "            min_samples_leaf=1, min_samples_split=2,\n",
      "            min_weight_fraction_leaf=0.0, n_estimators=10, n_jobs=None,\n",
      "            oob_score=False, random_state=None, verbose=0,\n",
      "            warm_start=False) είναι:  0.7593745720062233\n",
      "Η επιτυχία του  LinearSVC(C=1.0, class_weight=None, dual=True, fit_intercept=True,\n",
      "     intercept_scaling=1, loss='squared_hinge', max_iter=2000,\n",
      "     multi_class='ovr', penalty='l2', random_state=None, tol=0.0001,\n",
      "     verbose=0) είναι:  0.9002501050765692\n",
      "                    params    scores\n",
      "0     Logistisc Regression  0.881025\n",
      "1  Multinomial Naive Bayes  0.884775\n",
      "2            Decision Tree  0.729150\n",
      "3            Random Forest  0.759375\n",
      "4               Linear SVC  0.900250\n"
     ]
    }
   ],
   "source": [
    "# #δοκιμαζουμε διαφορετικούς classifiers\n",
    "classifier_finder(X_train_tvec,X_test_tvec,y_train,y_test)"
   ]
  },
  {
   "cell_type": "code",
   "execution_count": 15,
   "metadata": {},
   "outputs": [
    {
     "name": "stdout",
     "output_type": "stream",
     "text": [
      "Best: 0.902525 using {'C': 10, 'max_iter': 110}\n",
      "Execution time: 726.641857624054 ms\n"
     ]
    },
    {
     "name": "stderr",
     "output_type": "stream",
     "text": [
      "C:\\Users\\dtchmnt\\Anaconda3\\lib\\site-packages\\sklearn\\svm\\base.py:922: ConvergenceWarning: Liblinear failed to converge, increase the number of iterations.\n",
      "  \"the number of iterations.\", ConvergenceWarning)\n"
     ]
    }
   ],
   "source": [
    "#Gridsearch τρίτης περίπτωσης\n",
    "max_iter=[110,1000,2000]\n",
    "C = [0.1,1,10]\n",
    "param_grid = dict(max_iter=max_iter,C=C)\n",
    "\n",
    "lSVC=LinearSVC()\n",
    "grid = GridSearchCV(estimator=lSVC, param_grid=param_grid, cv = 10, n_jobs=-1)\n",
    "\n",
    "start_time = time.time()\n",
    "grid_result = grid.fit(X_train_tvec, y_train)\n",
    "# Summarize results\n",
    "print(\"Best: %f using %s\" % (grid_result.best_score_, grid_result.best_params_))\n",
    "print(\"Execution time: \" + str((time.time() - start_time)) + ' ms')\n"
   ]
  },
  {
   "cell_type": "code",
   "execution_count": 16,
   "metadata": {},
   "outputs": [
    {
     "name": "stderr",
     "output_type": "stream",
     "text": [
      "C:\\Users\\dtchmnt\\Anaconda3\\lib\\site-packages\\sklearn\\svm\\base.py:922: ConvergenceWarning: Liblinear failed to converge, increase the number of iterations.\n",
      "  \"the number of iterations.\", ConvergenceWarning)\n"
     ]
    },
    {
     "data": {
      "text/plain": [
       "LinearSVC(C=10, class_weight=None, dual=True, fit_intercept=True,\n",
       "     intercept_scaling=1, loss='squared_hinge', max_iter=110,\n",
       "     multi_class='ovr', penalty='l2', random_state=None, tol=0.0001,\n",
       "     verbose=0)"
      ]
     },
     "execution_count": 16,
     "metadata": {},
     "output_type": "execute_result"
    }
   ],
   "source": [
    "#best_clf_imdb = LinearSVC(**grid_result.best_params_)\n",
    "best_clf_imdb = LinearSVC(C=10,max_iter=110)\n",
    "best_clf_imdb.fit(X_train_tvec,y_train)"
   ]
  },
  {
   "cell_type": "code",
   "execution_count": 17,
   "metadata": {},
   "outputs": [
    {
     "name": "stdout",
     "output_type": "stream",
     "text": [
      "Saved successfully!\n",
      "Saved successfully!\n",
      "Saved successfully!\n"
     ]
    },
    {
     "data": {
      "text/plain": [
       "['imdb_tvec.pkl']"
      ]
     },
     "execution_count": 17,
     "metadata": {},
     "output_type": "execute_result"
    }
   ],
   "source": [
    "#σωζουμε τα test sets, τον best_clf_sentiwordnet και τον vectorizer\n",
    "saveList(X_test,\"X_test_imdb\")\n",
    "saveList(y_test,\"y_test_imdb\")\n",
    "\n",
    "\n",
    "saveList(X_test_tvec,\"X_test_imdb_dtm\")\n",
    "joblib.dump(best_clf_imdb, 'imdb_clf.pkl')\n",
    "joblib.dump(tvec, 'imdb_tvec.pkl')"
   ]
  }
 ],
 "metadata": {
  "kernelspec": {
   "display_name": "Python 3",
   "language": "python",
   "name": "python3"
  },
  "language_info": {
   "codemirror_mode": {
    "name": "ipython",
    "version": 3
   },
   "file_extension": ".py",
   "mimetype": "text/x-python",
   "name": "python",
   "nbconvert_exporter": "python",
   "pygments_lexer": "ipython3",
   "version": "3.7.1"
  }
 },
 "nbformat": 4,
 "nbformat_minor": 2
}
